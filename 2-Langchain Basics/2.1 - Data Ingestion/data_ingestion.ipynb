{
 "cells": [
  {
   "cell_type": "markdown",
   "id": "7b9b2aae",
   "metadata": {},
   "source": [
    "#### Data Ingestion or Data Loaders"
   ]
  },
  {
   "cell_type": "code",
   "execution_count": 2,
   "id": "b5a29a55",
   "metadata": {},
   "outputs": [],
   "source": [
    "!pip install -qU PyPDF"
   ]
  },
  {
   "cell_type": "code",
   "execution_count": 1,
   "id": "df3cbe6a",
   "metadata": {},
   "outputs": [],
   "source": [
    "from langchain_community.document_loaders import PyPDFLoader\n"
   ]
  },
  {
   "cell_type": "code",
   "execution_count": 4,
   "id": "c639e6c8",
   "metadata": {},
   "outputs": [
    {
     "data": {
      "text/plain": [
       "Document(metadata={'producer': 'Adobe PDF Library 17.0', 'creator': 'Adobe InDesign 18.1 (Windows)', 'creationdate': '2023-01-27T09:40:38+05:30', 'moddate': '2023-01-27T09:40:47+05:30', 'trapped': '/False', 'source': 'HR Policy Manual 2023 (8).pdf', 'total_pages': 208, 'page': 0, 'page_label': 'a'}, page_content='a\\nIIMA HR Policy Manual 2023\\nHUMAN RESOURCES  \\nPOLICY MANUAL\\nSTAFF \\n2023')"
      ]
     },
     "execution_count": 4,
     "metadata": {},
     "output_type": "execute_result"
    }
   ],
   "source": [
    "loader = PyPDFLoader(\"HR Policy Manual 2023 (8).pdf\")\n",
    "docs = loader.load()\n",
    "docs[0]"
   ]
  },
  {
   "cell_type": "code",
   "execution_count": 8,
   "id": "393ddc7d",
   "metadata": {},
   "outputs": [
    {
     "name": "stdout",
     "output_type": "stream",
     "text": [
      "The document source is: HR Policy Manual 2023 (8).pdf\n"
     ]
    }
   ],
   "source": [
    "source = docs[0].metadata.get('source')\n",
    "\n",
    "if source:\n",
    "    print(f\"The document source is: {source}\")\n",
    "else:\n",
    "    print(\"Source not found.\")"
   ]
  },
  {
   "cell_type": "code",
   "execution_count": null,
   "id": "f0107b09",
   "metadata": {},
   "outputs": [],
   "source": []
  },
  {
   "cell_type": "code",
   "execution_count": null,
   "id": "c8dce38b",
   "metadata": {},
   "outputs": [],
   "source": []
  },
  {
   "cell_type": "code",
   "execution_count": null,
   "id": "31d5417c",
   "metadata": {},
   "outputs": [],
   "source": []
  },
  {
   "cell_type": "code",
   "execution_count": null,
   "id": "653fba95",
   "metadata": {},
   "outputs": [],
   "source": []
  }
 ],
 "metadata": {
  "kernelspec": {
   "display_name": "learn",
   "language": "python",
   "name": "python3"
  },
  "language_info": {
   "codemirror_mode": {
    "name": "ipython",
    "version": 3
   },
   "file_extension": ".py",
   "mimetype": "text/x-python",
   "name": "python",
   "nbconvert_exporter": "python",
   "pygments_lexer": "ipython3",
   "version": "3.12.9"
  }
 },
 "nbformat": 4,
 "nbformat_minor": 5
}
