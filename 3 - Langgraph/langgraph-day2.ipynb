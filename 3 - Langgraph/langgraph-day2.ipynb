{
 "cells": [
  {
   "cell_type": "code",
   "execution_count": 1,
   "id": "89ee52cd",
   "metadata": {},
   "outputs": [
    {
     "name": "stdout",
     "output_type": "stream",
     "text": [
      "All OK\n"
     ]
    }
   ],
   "source": [
    "print(\"All OK\")"
   ]
  },
  {
   "cell_type": "code",
   "execution_count": 2,
   "id": "07610618",
   "metadata": {},
   "outputs": [
    {
     "data": {
      "text/plain": [
       "True"
      ]
     },
     "execution_count": 2,
     "metadata": {},
     "output_type": "execute_result"
    }
   ],
   "source": [
    "from langchain_google_genai import ChatGoogleGenerativeAI\n",
    "from langchain_groq import ChatGroq\n",
    "from dotenv import load_dotenv\n",
    "load_dotenv()"
   ]
  },
  {
   "cell_type": "markdown",
   "id": "a7ed233b",
   "metadata": {},
   "source": [
    "#### Configure the Model"
   ]
  },
  {
   "cell_type": "code",
   "execution_count": 3,
   "id": "734337a8",
   "metadata": {},
   "outputs": [
    {
     "name": "stdout",
     "output_type": "stream",
     "text": [
      "Hi there! How can I help you today?\n"
     ]
    }
   ],
   "source": [
    "model = ChatGoogleGenerativeAI(model=\"gemini-1.5-flash\")\n",
    "output = model.invoke(\"hi\")\n",
    "print(output.content)"
   ]
  },
  {
   "cell_type": "code",
   "execution_count": 4,
   "id": "c2317d27",
   "metadata": {},
   "outputs": [
    {
     "name": "stdout",
     "output_type": "stream",
     "text": [
      "Hi there! How can I help you today?\n"
     ]
    }
   ],
   "source": [
    "#model = ChatGroq(model=\"gemma2-9b-it\")\n",
    "output = model.invoke(\"hi\")\n",
    "print(output.content)"
   ]
  },
  {
   "cell_type": "markdown",
   "id": "11ca4f19",
   "metadata": {},
   "source": [
    "#### Configure the Embedding Model"
   ]
  },
  {
   "cell_type": "code",
   "execution_count": 5,
   "id": "71f4055f",
   "metadata": {},
   "outputs": [
    {
     "data": {
      "text/plain": [
       "768"
      ]
     },
     "execution_count": 5,
     "metadata": {},
     "output_type": "execute_result"
    }
   ],
   "source": [
    "from langchain_google_genai import GoogleGenerativeAIEmbeddings\n",
    "\n",
    "embeddings = GoogleGenerativeAIEmbeddings(model=\"models/embedding-001\")\n",
    "len(embeddings.embed_query(\"hi\"))"
   ]
  },
  {
   "cell_type": "markdown",
   "id": "c84ce427",
   "metadata": {},
   "source": [
    "#### Lets take data embedd it and store in Vector DB"
   ]
  },
  {
   "cell_type": "code",
   "execution_count": 6,
   "id": "3c04bf79",
   "metadata": {},
   "outputs": [],
   "source": [
    "from langchain_community.document_loaders import TextLoader, DirectoryLoader \n",
    "from langchain_community.vectorstores import Chroma\n",
    "from langchain.text_splitter import RecursiveCharacterTextSplitter"
   ]
  },
  {
   "cell_type": "code",
   "execution_count": 7,
   "metadata": {},
   "outputs": [],
   "source": [
    "loader=DirectoryLoader(\"../data\",glob=\"./*.txt\",loader_cls=TextLoader)"
   ]
  },
  {
   "cell_type": "code",
   "execution_count": 8,
   "metadata": {},
   "outputs": [],
   "source": [
    "docs=loader.load()"
   ]
  },
  {
   "cell_type": "code",
   "execution_count": 9,
   "metadata": {},
   "outputs": [
    {
     "data": {
      "text/plain": [
       "Document(metadata={'source': '..\\\\data\\\\usa.txt'}, page_content=\"\\n🇺🇸 Overview of the U.S. Economy\\nThe United States of America possesses the largest economy in the world in terms of nominal GDP, making it the most powerful economic force globally. It operates under a capitalist mixed economy, where the private sector dominates, but the government plays a significant regulatory and fiscal role. With a population of over 335 million people and a high level of technological advancement, the U.S. economy thrives on a foundation of consumer spending, innovation, global trade, and financial services. It has a highly diversified structure with strong sectors in technology, healthcare, finance, real estate, defense, and agriculture.\\n\\nU.S. GDP – Size, Composition, and Global Share\\nAs of 2024, the United States’ nominal GDP is estimated to be around $28 trillion USD, accounting for approximately 25% of the global economy. It ranks #1 in the world by nominal GDP, far ahead of China (which ranks 2nd). The U.S. GDP per capita is also among the highest, hovering around $83,000, which indicates a high standard of living and productivity. In terms of Purchasing Power Parity (PPP), the U.S. ranks second, but nominal GDP is considered more reflective of actual economic size and financial influence.\\n\\nThe GDP is predominantly driven by the services sector, which contributes more than 77% to the total GDP. This includes industries such as finance, insurance, real estate, healthcare, education, and information technology. The industrial sector (manufacturing, construction, mining) makes up around 19%, while agriculture, although technologically advanced and export-oriented, contributes only about 1%. Despite its small share in GDP, U.S. agriculture is globally significant in terms of productivity and exports.\\n\\nGDP Growth Trends and Dynamics\\nHistorically, the U.S. economy has enjoyed consistent long-term growth, averaging around 2-3% annually. Post-pandemic, the economy bounced back strongly, but 2022 and 2023 saw rising inflation due to supply chain issues and stimulus-driven demand. In 2024, the U.S. GDP grew at a modest pace of around 2.1%, as the Federal Reserve’s interest rate hikes aimed at controlling inflation also moderated economic expansion. Consumer spending, which makes up nearly 70% of GDP, remains a dominant force in economic stability.\\n\\nThe U.S. maintains its GDP growth through strong innovation, entrepreneurship, and investment in R&D. With companies like Apple, Google, Amazon, Microsoft, and Tesla leading global markets, the U.S. consistently produces high value across sectors, especially in technology and advanced services. Additionally, the economy benefits from intellectual property exports, financial services, and higher education, all of which contribute significantly to GDP through both domestic and international markets.\\n\\nRole in the Global Economy\\nThe U.S. Dollar (USD) is the global reserve currency, held by over 60% of the world’s central bank reserves. This gives the U.S. an enormous advantage in global trade and borrowing. The U.S. is a key member of international institutions like the World Bank, IMF, G7, G20, and WTO, and plays a central role in setting global economic policy.\\n\\nAs a global innovation hub, the U.S. attracts billions in foreign investment and hosts many of the world's largest and most valuable companies. Its exports include high-tech machinery, aircraft, pharmaceuticals, semiconductors, and financial services, while its imports cover consumer goods, electronics, automobiles, and industrial materials. The trade deficit remains large (around $900 billion in 2024), primarily because the U.S. consumes more than it exports, but its ability to finance this through capital inflows and reserve currency status sustains balance.\\n\\nKey Economic Strengths\\nThe core strength of the U.S. economy lies in its flexible labor market, deep capital markets, technological superiority, and legal system that encourages innovation and property rights. It has a large, highly educated workforce, a diverse immigration pipeline, and access to vast natural resources including oil, gas, coal, and farmland. The presence of top-tier universities and research institutions fuels the knowledge economy, with billions spent annually on R&D—over $700 billion USD, more than any other country.\\n\\nThe U.S. leads in many critical sectors, including software, biotechnology, aerospace, defense, financial services, and media. Its startup ecosystem, especially in Silicon Valley, produces unicorns and tech giants at a scale unmatched globally. Its financial markets—particularly Wall Street—are the most liquid and globally integrated in the world.\\n\\nChallenges and Structural Issues\\nDespite its strength, the U.S. economy faces several serious long-term issues. The national debt has surpassed $34 trillion USD, raising concerns about fiscal sustainability, especially as interest payments alone are growing rapidly. The income and wealth inequality gap has widened, with a small percentage of Americans owning a disproportionate share of wealth. Access to affordable healthcare, housing shortages, and a declining labor force participation in some sectors are additional structural issues.\\n\\nAnother growing concern is political polarization, which often stalls crucial economic reforms and budget agreements, as seen in recurrent debt ceiling crises. The U.S. also faces challenges from global competition, especially from China in areas like AI, semiconductors, and green technology. Moreover, climate change, cybersecurity threats, and geopolitical risks (like Ukraine and Taiwan conflicts) add layers of vulnerability to economic planning.\\n\\nFuture Outlook (2025–2030)\\nLooking forward, the U.S. economy is expected to grow at a moderate pace, powered by innovation in AI, green energy, robotics, biotech, and quantum computing. The Biden administration’s Inflation Reduction Act and CHIPS Act are pumping massive investments into semiconductors, clean energy, and infrastructure. There is a strong push for reshoring of manufacturing, especially in critical sectors like chips, pharmaceuticals, and batteries.\\n\\nHowever, economic leadership will depend on managing the national debt, reforming entitlement programs, upgrading infrastructure, and ensuring the next generation is equipped with digital-age skills. If the U.S. can handle these challenges, it is well-positioned to remain a global economic powerhouse through 2030 and beyond.\\n\\nFinal Summary\\nThe U.S. economy remains the engine of global growth, backed by unmatched innovation, financial dominance, and a strong institutional framework. Its $28 trillion GDP and influence over global finance, trade, and technology make it the centerpiece of the modern economic system. Yet, rising debt, inequality, political gridlock, and competition from emerging powers demand careful policy navigation. If successfully addressed, the U.S. will continue to dominate the global economy well into the future.\")"
      ]
     },
     "execution_count": 9,
     "metadata": {},
     "output_type": "execute_result"
    }
   ],
   "source": [
    "docs[0]"
   ]
  },
  {
   "cell_type": "code",
   "execution_count": 10,
   "metadata": {},
   "outputs": [],
   "source": [
    "text_splitter=RecursiveCharacterTextSplitter(\n",
    "    chunk_size=200,\n",
    "    chunk_overlap=50\n",
    ")"
   ]
  },
  {
   "cell_type": "code",
   "execution_count": 11,
   "metadata": {},
   "outputs": [],
   "source": [
    "new_docs=text_splitter.split_documents(documents=docs)"
   ]
  },
  {
   "cell_type": "code",
   "execution_count": 12,
   "metadata": {},
   "outputs": [
    {
     "data": {
      "text/plain": [
       "[Document(metadata={'source': '..\\\\data\\\\usa.txt'}, page_content='🇺🇸 Overview of the U.S. Economy'),\n",
       " Document(metadata={'source': '..\\\\data\\\\usa.txt'}, page_content='The United States of America possesses the largest economy in the world in terms of nominal GDP, making it the most powerful economic force globally. It operates under a capitalist mixed economy,'),\n",
       " Document(metadata={'source': '..\\\\data\\\\usa.txt'}, page_content='It operates under a capitalist mixed economy, where the private sector dominates, but the government plays a significant regulatory and fiscal role. With a population of over 335 million people and a'),\n",
       " Document(metadata={'source': '..\\\\data\\\\usa.txt'}, page_content='a population of over 335 million people and a high level of technological advancement, the U.S. economy thrives on a foundation of consumer spending, innovation, global trade, and financial services.'),\n",
       " Document(metadata={'source': '..\\\\data\\\\usa.txt'}, page_content='innovation, global trade, and financial services. It has a highly diversified structure with strong sectors in technology, healthcare, finance, real estate, defense, and agriculture.'),\n",
       " Document(metadata={'source': '..\\\\data\\\\usa.txt'}, page_content='U.S. GDP – Size, Composition, and Global Share'),\n",
       " Document(metadata={'source': '..\\\\data\\\\usa.txt'}, page_content='As of 2024, the United States’ nominal GDP is estimated to be around $28 trillion USD, accounting for approximately 25% of the global economy. It ranks #1 in the world by nominal GDP, far ahead of'),\n",
       " Document(metadata={'source': '..\\\\data\\\\usa.txt'}, page_content='#1 in the world by nominal GDP, far ahead of China (which ranks 2nd). The U.S. GDP per capita is also among the highest, hovering around $83,000, which indicates a high standard of living and'),\n",
       " Document(metadata={'source': '..\\\\data\\\\usa.txt'}, page_content='which indicates a high standard of living and productivity. In terms of Purchasing Power Parity (PPP), the U.S. ranks second, but nominal GDP is considered more reflective of actual economic size and'),\n",
       " Document(metadata={'source': '..\\\\data\\\\usa.txt'}, page_content='more reflective of actual economic size and financial influence.'),\n",
       " Document(metadata={'source': '..\\\\data\\\\usa.txt'}, page_content='The GDP is predominantly driven by the services sector, which contributes more than 77% to the total GDP. This includes industries such as finance, insurance, real estate, healthcare, education, and'),\n",
       " Document(metadata={'source': '..\\\\data\\\\usa.txt'}, page_content='real estate, healthcare, education, and information technology. The industrial sector (manufacturing, construction, mining) makes up around 19%, while agriculture, although technologically advanced'),\n",
       " Document(metadata={'source': '..\\\\data\\\\usa.txt'}, page_content='agriculture, although technologically advanced and export-oriented, contributes only about 1%. Despite its small share in GDP, U.S. agriculture is globally significant in terms of productivity and'),\n",
       " Document(metadata={'source': '..\\\\data\\\\usa.txt'}, page_content='globally significant in terms of productivity and exports.'),\n",
       " Document(metadata={'source': '..\\\\data\\\\usa.txt'}, page_content='GDP Growth Trends and Dynamics'),\n",
       " Document(metadata={'source': '..\\\\data\\\\usa.txt'}, page_content='Historically, the U.S. economy has enjoyed consistent long-term growth, averaging around 2-3% annually. Post-pandemic, the economy bounced back strongly, but 2022 and 2023 saw rising inflation due to'),\n",
       " Document(metadata={'source': '..\\\\data\\\\usa.txt'}, page_content='but 2022 and 2023 saw rising inflation due to supply chain issues and stimulus-driven demand. In 2024, the U.S. GDP grew at a modest pace of around 2.1%, as the Federal Reserve’s interest rate hikes'),\n",
       " Document(metadata={'source': '..\\\\data\\\\usa.txt'}, page_content='as the Federal Reserve’s interest rate hikes aimed at controlling inflation also moderated economic expansion. Consumer spending, which makes up nearly 70% of GDP, remains a dominant force in'),\n",
       " Document(metadata={'source': '..\\\\data\\\\usa.txt'}, page_content='up nearly 70% of GDP, remains a dominant force in economic stability.'),\n",
       " Document(metadata={'source': '..\\\\data\\\\usa.txt'}, page_content='The U.S. maintains its GDP growth through strong innovation, entrepreneurship, and investment in R&D. With companies like Apple, Google, Amazon, Microsoft, and Tesla leading global markets, the U.S.'),\n",
       " Document(metadata={'source': '..\\\\data\\\\usa.txt'}, page_content='and Tesla leading global markets, the U.S. consistently produces high value across sectors, especially in technology and advanced services. Additionally, the economy benefits from intellectual'),\n",
       " Document(metadata={'source': '..\\\\data\\\\usa.txt'}, page_content='the economy benefits from intellectual property exports, financial services, and higher education, all of which contribute significantly to GDP through both domestic and international markets.'),\n",
       " Document(metadata={'source': '..\\\\data\\\\usa.txt'}, page_content='Role in the Global Economy'),\n",
       " Document(metadata={'source': '..\\\\data\\\\usa.txt'}, page_content='The U.S. Dollar (USD) is the global reserve currency, held by over 60% of the world’s central bank reserves. This gives the U.S. an enormous advantage in global trade and borrowing. The U.S. is a key'),\n",
       " Document(metadata={'source': '..\\\\data\\\\usa.txt'}, page_content='in global trade and borrowing. The U.S. is a key member of international institutions like the World Bank, IMF, G7, G20, and WTO, and plays a central role in setting global economic policy.'),\n",
       " Document(metadata={'source': '..\\\\data\\\\usa.txt'}, page_content=\"As a global innovation hub, the U.S. attracts billions in foreign investment and hosts many of the world's largest and most valuable companies. Its exports include high-tech machinery, aircraft,\"),\n",
       " Document(metadata={'source': '..\\\\data\\\\usa.txt'}, page_content='exports include high-tech machinery, aircraft, pharmaceuticals, semiconductors, and financial services, while its imports cover consumer goods, electronics, automobiles, and industrial materials. The'),\n",
       " Document(metadata={'source': '..\\\\data\\\\usa.txt'}, page_content='automobiles, and industrial materials. The trade deficit remains large (around $900 billion in 2024), primarily because the U.S. consumes more than it exports, but its ability to finance this through'),\n",
       " Document(metadata={'source': '..\\\\data\\\\usa.txt'}, page_content='exports, but its ability to finance this through capital inflows and reserve currency status sustains balance.'),\n",
       " Document(metadata={'source': '..\\\\data\\\\usa.txt'}, page_content='Key Economic Strengths'),\n",
       " Document(metadata={'source': '..\\\\data\\\\usa.txt'}, page_content='The core strength of the U.S. economy lies in its flexible labor market, deep capital markets, technological superiority, and legal system that encourages innovation and property rights. It has a'),\n",
       " Document(metadata={'source': '..\\\\data\\\\usa.txt'}, page_content='innovation and property rights. It has a large, highly educated workforce, a diverse immigration pipeline, and access to vast natural resources including oil, gas, coal, and farmland. The presence of'),\n",
       " Document(metadata={'source': '..\\\\data\\\\usa.txt'}, page_content='oil, gas, coal, and farmland. The presence of top-tier universities and research institutions fuels the knowledge economy, with billions spent annually on R&D—over $700 billion USD, more than any'),\n",
       " Document(metadata={'source': '..\\\\data\\\\usa.txt'}, page_content='on R&D—over $700 billion USD, more than any other country.'),\n",
       " Document(metadata={'source': '..\\\\data\\\\usa.txt'}, page_content='The U.S. leads in many critical sectors, including software, biotechnology, aerospace, defense, financial services, and media. Its startup ecosystem, especially in Silicon Valley, produces unicorns'),\n",
       " Document(metadata={'source': '..\\\\data\\\\usa.txt'}, page_content='especially in Silicon Valley, produces unicorns and tech giants at a scale unmatched globally. Its financial markets—particularly Wall Street—are the most liquid and globally integrated in the world.'),\n",
       " Document(metadata={'source': '..\\\\data\\\\usa.txt'}, page_content='Challenges and Structural Issues'),\n",
       " Document(metadata={'source': '..\\\\data\\\\usa.txt'}, page_content='Despite its strength, the U.S. economy faces several serious long-term issues. The national debt has surpassed $34 trillion USD, raising concerns about fiscal sustainability, especially as interest'),\n",
       " Document(metadata={'source': '..\\\\data\\\\usa.txt'}, page_content='fiscal sustainability, especially as interest payments alone are growing rapidly. The income and wealth inequality gap has widened, with a small percentage of Americans owning a disproportionate'),\n",
       " Document(metadata={'source': '..\\\\data\\\\usa.txt'}, page_content='percentage of Americans owning a disproportionate share of wealth. Access to affordable healthcare, housing shortages, and a declining labor force participation in some sectors are additional'),\n",
       " Document(metadata={'source': '..\\\\data\\\\usa.txt'}, page_content='participation in some sectors are additional structural issues.'),\n",
       " Document(metadata={'source': '..\\\\data\\\\usa.txt'}, page_content='Another growing concern is political polarization, which often stalls crucial economic reforms and budget agreements, as seen in recurrent debt ceiling crises. The U.S. also faces challenges from'),\n",
       " Document(metadata={'source': '..\\\\data\\\\usa.txt'}, page_content='crises. The U.S. also faces challenges from global competition, especially from China in areas like AI, semiconductors, and green technology. Moreover, climate change, cybersecurity threats, and'),\n",
       " Document(metadata={'source': '..\\\\data\\\\usa.txt'}, page_content='climate change, cybersecurity threats, and geopolitical risks (like Ukraine and Taiwan conflicts) add layers of vulnerability to economic planning.'),\n",
       " Document(metadata={'source': '..\\\\data\\\\usa.txt'}, page_content='Future Outlook (2025–2030)'),\n",
       " Document(metadata={'source': '..\\\\data\\\\usa.txt'}, page_content='Looking forward, the U.S. economy is expected to grow at a moderate pace, powered by innovation in AI, green energy, robotics, biotech, and quantum computing. The Biden administration’s Inflation'),\n",
       " Document(metadata={'source': '..\\\\data\\\\usa.txt'}, page_content='computing. The Biden administration’s Inflation Reduction Act and CHIPS Act are pumping massive investments into semiconductors, clean energy, and infrastructure. There is a strong push for reshoring'),\n",
       " Document(metadata={'source': '..\\\\data\\\\usa.txt'}, page_content='There is a strong push for reshoring of manufacturing, especially in critical sectors like chips, pharmaceuticals, and batteries.'),\n",
       " Document(metadata={'source': '..\\\\data\\\\usa.txt'}, page_content='However, economic leadership will depend on managing the national debt, reforming entitlement programs, upgrading infrastructure, and ensuring the next generation is equipped with digital-age skills.'),\n",
       " Document(metadata={'source': '..\\\\data\\\\usa.txt'}, page_content='generation is equipped with digital-age skills. If the U.S. can handle these challenges, it is well-positioned to remain a global economic powerhouse through 2030 and beyond.'),\n",
       " Document(metadata={'source': '..\\\\data\\\\usa.txt'}, page_content='Final Summary'),\n",
       " Document(metadata={'source': '..\\\\data\\\\usa.txt'}, page_content='The U.S. economy remains the engine of global growth, backed by unmatched innovation, financial dominance, and a strong institutional framework. Its $28 trillion GDP and influence over global'),\n",
       " Document(metadata={'source': '..\\\\data\\\\usa.txt'}, page_content='Its $28 trillion GDP and influence over global finance, trade, and technology make it the centerpiece of the modern economic system. Yet, rising debt, inequality, political gridlock, and competition'),\n",
       " Document(metadata={'source': '..\\\\data\\\\usa.txt'}, page_content='inequality, political gridlock, and competition from emerging powers demand careful policy navigation. If successfully addressed, the U.S. will continue to dominate the global economy well into the'),\n",
       " Document(metadata={'source': '..\\\\data\\\\usa.txt'}, page_content='to dominate the global economy well into the future.')]"
      ]
     },
     "execution_count": 12,
     "metadata": {},
     "output_type": "execute_result"
    }
   ],
   "source": [
    "new_docs"
   ]
  },
  {
   "cell_type": "code",
   "execution_count": 13,
   "metadata": {},
   "outputs": [
    {
     "data": {
      "text/plain": [
       "['🇺🇸 Overview of the U.S. Economy',\n",
       " 'The United States of America possesses the largest economy in the world in terms of nominal GDP, making it the most powerful economic force globally. It operates under a capitalist mixed economy,',\n",
       " 'It operates under a capitalist mixed economy, where the private sector dominates, but the government plays a significant regulatory and fiscal role. With a population of over 335 million people and a',\n",
       " 'a population of over 335 million people and a high level of technological advancement, the U.S. economy thrives on a foundation of consumer spending, innovation, global trade, and financial services.',\n",
       " 'innovation, global trade, and financial services. It has a highly diversified structure with strong sectors in technology, healthcare, finance, real estate, defense, and agriculture.',\n",
       " 'U.S. GDP – Size, Composition, and Global Share',\n",
       " 'As of 2024, the United States’ nominal GDP is estimated to be around $28 trillion USD, accounting for approximately 25% of the global economy. It ranks #1 in the world by nominal GDP, far ahead of',\n",
       " '#1 in the world by nominal GDP, far ahead of China (which ranks 2nd). The U.S. GDP per capita is also among the highest, hovering around $83,000, which indicates a high standard of living and',\n",
       " 'which indicates a high standard of living and productivity. In terms of Purchasing Power Parity (PPP), the U.S. ranks second, but nominal GDP is considered more reflective of actual economic size and',\n",
       " 'more reflective of actual economic size and financial influence.',\n",
       " 'The GDP is predominantly driven by the services sector, which contributes more than 77% to the total GDP. This includes industries such as finance, insurance, real estate, healthcare, education, and',\n",
       " 'real estate, healthcare, education, and information technology. The industrial sector (manufacturing, construction, mining) makes up around 19%, while agriculture, although technologically advanced',\n",
       " 'agriculture, although technologically advanced and export-oriented, contributes only about 1%. Despite its small share in GDP, U.S. agriculture is globally significant in terms of productivity and',\n",
       " 'globally significant in terms of productivity and exports.',\n",
       " 'GDP Growth Trends and Dynamics',\n",
       " 'Historically, the U.S. economy has enjoyed consistent long-term growth, averaging around 2-3% annually. Post-pandemic, the economy bounced back strongly, but 2022 and 2023 saw rising inflation due to',\n",
       " 'but 2022 and 2023 saw rising inflation due to supply chain issues and stimulus-driven demand. In 2024, the U.S. GDP grew at a modest pace of around 2.1%, as the Federal Reserve’s interest rate hikes',\n",
       " 'as the Federal Reserve’s interest rate hikes aimed at controlling inflation also moderated economic expansion. Consumer spending, which makes up nearly 70% of GDP, remains a dominant force in',\n",
       " 'up nearly 70% of GDP, remains a dominant force in economic stability.',\n",
       " 'The U.S. maintains its GDP growth through strong innovation, entrepreneurship, and investment in R&D. With companies like Apple, Google, Amazon, Microsoft, and Tesla leading global markets, the U.S.',\n",
       " 'and Tesla leading global markets, the U.S. consistently produces high value across sectors, especially in technology and advanced services. Additionally, the economy benefits from intellectual',\n",
       " 'the economy benefits from intellectual property exports, financial services, and higher education, all of which contribute significantly to GDP through both domestic and international markets.',\n",
       " 'Role in the Global Economy',\n",
       " 'The U.S. Dollar (USD) is the global reserve currency, held by over 60% of the world’s central bank reserves. This gives the U.S. an enormous advantage in global trade and borrowing. The U.S. is a key',\n",
       " 'in global trade and borrowing. The U.S. is a key member of international institutions like the World Bank, IMF, G7, G20, and WTO, and plays a central role in setting global economic policy.',\n",
       " \"As a global innovation hub, the U.S. attracts billions in foreign investment and hosts many of the world's largest and most valuable companies. Its exports include high-tech machinery, aircraft,\",\n",
       " 'exports include high-tech machinery, aircraft, pharmaceuticals, semiconductors, and financial services, while its imports cover consumer goods, electronics, automobiles, and industrial materials. The',\n",
       " 'automobiles, and industrial materials. The trade deficit remains large (around $900 billion in 2024), primarily because the U.S. consumes more than it exports, but its ability to finance this through',\n",
       " 'exports, but its ability to finance this through capital inflows and reserve currency status sustains balance.',\n",
       " 'Key Economic Strengths',\n",
       " 'The core strength of the U.S. economy lies in its flexible labor market, deep capital markets, technological superiority, and legal system that encourages innovation and property rights. It has a',\n",
       " 'innovation and property rights. It has a large, highly educated workforce, a diverse immigration pipeline, and access to vast natural resources including oil, gas, coal, and farmland. The presence of',\n",
       " 'oil, gas, coal, and farmland. The presence of top-tier universities and research institutions fuels the knowledge economy, with billions spent annually on R&D—over $700 billion USD, more than any',\n",
       " 'on R&D—over $700 billion USD, more than any other country.',\n",
       " 'The U.S. leads in many critical sectors, including software, biotechnology, aerospace, defense, financial services, and media. Its startup ecosystem, especially in Silicon Valley, produces unicorns',\n",
       " 'especially in Silicon Valley, produces unicorns and tech giants at a scale unmatched globally. Its financial markets—particularly Wall Street—are the most liquid and globally integrated in the world.',\n",
       " 'Challenges and Structural Issues',\n",
       " 'Despite its strength, the U.S. economy faces several serious long-term issues. The national debt has surpassed $34 trillion USD, raising concerns about fiscal sustainability, especially as interest',\n",
       " 'fiscal sustainability, especially as interest payments alone are growing rapidly. The income and wealth inequality gap has widened, with a small percentage of Americans owning a disproportionate',\n",
       " 'percentage of Americans owning a disproportionate share of wealth. Access to affordable healthcare, housing shortages, and a declining labor force participation in some sectors are additional',\n",
       " 'participation in some sectors are additional structural issues.',\n",
       " 'Another growing concern is political polarization, which often stalls crucial economic reforms and budget agreements, as seen in recurrent debt ceiling crises. The U.S. also faces challenges from',\n",
       " 'crises. The U.S. also faces challenges from global competition, especially from China in areas like AI, semiconductors, and green technology. Moreover, climate change, cybersecurity threats, and',\n",
       " 'climate change, cybersecurity threats, and geopolitical risks (like Ukraine and Taiwan conflicts) add layers of vulnerability to economic planning.',\n",
       " 'Future Outlook (2025–2030)',\n",
       " 'Looking forward, the U.S. economy is expected to grow at a moderate pace, powered by innovation in AI, green energy, robotics, biotech, and quantum computing. The Biden administration’s Inflation',\n",
       " 'computing. The Biden administration’s Inflation Reduction Act and CHIPS Act are pumping massive investments into semiconductors, clean energy, and infrastructure. There is a strong push for reshoring',\n",
       " 'There is a strong push for reshoring of manufacturing, especially in critical sectors like chips, pharmaceuticals, and batteries.',\n",
       " 'However, economic leadership will depend on managing the national debt, reforming entitlement programs, upgrading infrastructure, and ensuring the next generation is equipped with digital-age skills.',\n",
       " 'generation is equipped with digital-age skills. If the U.S. can handle these challenges, it is well-positioned to remain a global economic powerhouse through 2030 and beyond.',\n",
       " 'Final Summary',\n",
       " 'The U.S. economy remains the engine of global growth, backed by unmatched innovation, financial dominance, and a strong institutional framework. Its $28 trillion GDP and influence over global',\n",
       " 'Its $28 trillion GDP and influence over global finance, trade, and technology make it the centerpiece of the modern economic system. Yet, rising debt, inequality, political gridlock, and competition',\n",
       " 'inequality, political gridlock, and competition from emerging powers demand careful policy navigation. If successfully addressed, the U.S. will continue to dominate the global economy well into the',\n",
       " 'to dominate the global economy well into the future.']"
      ]
     },
     "execution_count": 13,
     "metadata": {},
     "output_type": "execute_result"
    }
   ],
   "source": [
    "doc_string=[doc.page_content for doc in new_docs]\n",
    "\n",
    "doc_string"
   ]
  },
  {
   "cell_type": "code",
   "execution_count": 14,
   "metadata": {},
   "outputs": [],
   "source": [
    "db = Chroma.from_documents(new_docs, embeddings)"
   ]
  },
  {
   "cell_type": "code",
   "execution_count": 15,
   "metadata": {},
   "outputs": [],
   "source": [
    "retriever = db.as_retriever(search_kwargs={\"k\": 3})"
   ]
  },
  {
   "cell_type": "code",
   "execution_count": 16,
   "metadata": {},
   "outputs": [
    {
     "data": {
      "text/plain": [
       "[Document(metadata={'source': '..\\\\data\\\\usa.txt'}, page_content='The United States of America possesses the largest economy in the world in terms of nominal GDP, making it the most powerful economic force globally. It operates under a capitalist mixed economy,'),\n",
       " Document(metadata={'source': '..\\\\data\\\\usa.txt'}, page_content='The U.S. maintains its GDP growth through strong innovation, entrepreneurship, and investment in R&D. With companies like Apple, Google, Amazon, Microsoft, and Tesla leading global markets, the U.S.'),\n",
       " Document(metadata={'source': '..\\\\data\\\\usa.txt'}, page_content=\"As a global innovation hub, the U.S. attracts billions in foreign investment and hosts many of the world's largest and most valuable companies. Its exports include high-tech machinery, aircraft,\")]"
      ]
     },
     "execution_count": 16,
     "metadata": {},
     "output_type": "execute_result"
    }
   ],
   "source": [
    "retriever.invoke(\"What is industrial growth in USA?\")"
   ]
  },
  {
   "cell_type": "markdown",
   "id": "ff3ed93e",
   "metadata": {},
   "source": [
    "#### Creation of Pydantic Class"
   ]
  },
  {
   "cell_type": "code",
   "execution_count": 17,
   "id": "fdbf3fc1",
   "metadata": {},
   "outputs": [],
   "source": [
    "import operator\n",
    "from typing import List\n",
    "from pydantic import BaseModel , Field\n",
    "from langchain.prompts import PromptTemplate\n",
    "from typing import TypedDict, Annotated, Sequence\n",
    "from langchain_core.messages import BaseMessage\n",
    "from langchain_core.output_parsers import StrOutputParser\n",
    "from langchain_core.prompts import ChatPromptTemplate, PromptTemplate\n",
    "from langchain_core.runnables import RunnablePassthrough\n",
    "from langchain_core.messages import HumanMessage, AIMessage\n",
    "from langgraph.graph import StateGraph,END"
   ]
  },
  {
   "cell_type": "code",
   "execution_count": 18,
   "metadata": {},
   "outputs": [],
   "source": [
    "class TopicSelectionParser(BaseModel):\n",
    "    Topic:str=Field(description=\"selected topic\")\n",
    "    Reasoning:str=Field(description='Reasoning behind topic selection')"
   ]
  },
  {
   "cell_type": "code",
   "execution_count": 19,
   "id": "2ba17fcd",
   "metadata": {},
   "outputs": [],
   "source": [
    "from langchain.output_parsers import PydanticOutputParser"
   ]
  },
  {
   "cell_type": "code",
   "execution_count": 20,
   "id": "e38b2740",
   "metadata": {},
   "outputs": [],
   "source": [
    "parser=PydanticOutputParser(pydantic_object=TopicSelectionParser)"
   ]
  },
  {
   "cell_type": "code",
   "execution_count": 21,
   "id": "b30c3b82",
   "metadata": {},
   "outputs": [
    {
     "data": {
      "text/plain": [
       "'The output should be formatted as a JSON instance that conforms to the JSON schema below.\\n\\nAs an example, for the schema {\"properties\": {\"foo\": {\"title\": \"Foo\", \"description\": \"a list of strings\", \"type\": \"array\", \"items\": {\"type\": \"string\"}}}, \"required\": [\"foo\"]}\\nthe object {\"foo\": [\"bar\", \"baz\"]} is a well-formatted instance of the schema. The object {\"properties\": {\"foo\": [\"bar\", \"baz\"]}} is not well-formatted.\\n\\nHere is the output schema:\\n```\\n{\"properties\": {\"Topic\": {\"description\": \"selected topic\", \"title\": \"Topic\", \"type\": \"string\"}, \"Reasoning\": {\"description\": \"Reasoning behind topic selection\", \"title\": \"Reasoning\", \"type\": \"string\"}}, \"required\": [\"Topic\", \"Reasoning\"]}\\n```'"
      ]
     },
     "execution_count": 21,
     "metadata": {},
     "output_type": "execute_result"
    }
   ],
   "source": [
    "parser.get_format_instructions()"
   ]
  },
  {
   "cell_type": "code",
   "execution_count": 22,
   "id": "3e0a1584",
   "metadata": {},
   "outputs": [],
   "source": [
    "class Agentstate(TypedDict):\n",
    "    messages: Annotated[Sequence[BaseMessage], operator.add]"
   ]
  },
  {
   "cell_type": "code",
   "execution_count": 23,
   "id": "a5d74d62",
   "metadata": {},
   "outputs": [],
   "source": [
    "Agentstate = {}"
   ]
  },
  {
   "cell_type": "code",
   "execution_count": 24,
   "id": "66a43b93",
   "metadata": {},
   "outputs": [],
   "source": [
    "Agentstate[\"messages\"] = []"
   ]
  },
  {
   "cell_type": "code",
   "execution_count": 25,
   "id": "521e9437",
   "metadata": {},
   "outputs": [
    {
     "data": {
      "text/plain": [
       "{'messages': []}"
      ]
     },
     "execution_count": 25,
     "metadata": {},
     "output_type": "execute_result"
    }
   ],
   "source": [
    "Agentstate"
   ]
  },
  {
   "cell_type": "code",
   "execution_count": 26,
   "id": "20535b0e",
   "metadata": {},
   "outputs": [],
   "source": [
    "Agentstate[\"messages\"].append(\"hi how are you?\")"
   ]
  },
  {
   "cell_type": "code",
   "execution_count": 27,
   "id": "e1595b76",
   "metadata": {},
   "outputs": [
    {
     "data": {
      "text/plain": [
       "{'messages': ['hi how are you?']}"
      ]
     },
     "execution_count": 27,
     "metadata": {},
     "output_type": "execute_result"
    }
   ],
   "source": [
    "Agentstate"
   ]
  },
  {
   "cell_type": "code",
   "execution_count": 28,
   "id": "f2f08c54",
   "metadata": {},
   "outputs": [],
   "source": [
    "Agentstate[\"messages\"].append(\"what are you doing?\")"
   ]
  },
  {
   "cell_type": "code",
   "execution_count": 29,
   "id": "e2cd8e18",
   "metadata": {},
   "outputs": [
    {
     "data": {
      "text/plain": [
       "{'messages': ['hi how are you?', 'what are you doing?']}"
      ]
     },
     "execution_count": 29,
     "metadata": {},
     "output_type": "execute_result"
    }
   ],
   "source": [
    "Agentstate"
   ]
  },
  {
   "cell_type": "code",
   "execution_count": 30,
   "id": "50aca7f7",
   "metadata": {},
   "outputs": [],
   "source": [
    "Agentstate[\"messages\"].append(\"I hope everything is fine!\")"
   ]
  },
  {
   "cell_type": "code",
   "execution_count": 31,
   "id": "19dda4d2",
   "metadata": {},
   "outputs": [
    {
     "data": {
      "text/plain": [
       "{'messages': ['hi how are you?',\n",
       "  'what are you doing?',\n",
       "  'I hope everything is fine!']}"
      ]
     },
     "execution_count": 31,
     "metadata": {},
     "output_type": "execute_result"
    }
   ],
   "source": [
    "Agentstate"
   ]
  },
  {
   "cell_type": "code",
   "execution_count": 32,
   "id": "76c7a9be",
   "metadata": {},
   "outputs": [
    {
     "data": {
      "text/plain": [
       "'I hope everything is fine!'"
      ]
     },
     "execution_count": 32,
     "metadata": {},
     "output_type": "execute_result"
    }
   ],
   "source": [
    "Agentstate[\"messages\"][-1]"
   ]
  },
  {
   "cell_type": "code",
   "execution_count": 33,
   "id": "6db85e8c",
   "metadata": {},
   "outputs": [
    {
     "data": {
      "text/plain": [
       "'hi how are you?'"
      ]
     },
     "execution_count": 33,
     "metadata": {},
     "output_type": "execute_result"
    }
   ],
   "source": [
    "Agentstate[\"messages\"][0]"
   ]
  },
  {
   "cell_type": "code",
   "execution_count": 34,
   "id": "ae4e8332",
   "metadata": {},
   "outputs": [],
   "source": [
    "class AgentState(TypedDict):\n",
    "    messages: Annotated[Sequence[BaseMessage], operator.add]"
   ]
  },
  {
   "cell_type": "code",
   "execution_count": 35,
   "id": "c4f2a2a5",
   "metadata": {},
   "outputs": [],
   "source": [
    "def function_1(state:AgentState):\n",
    "    \n",
    "    question=state[\"messages\"][-1]\n",
    "    \n",
    "    print(\"Question\",question)\n",
    "    \n",
    "    template=\"\"\"\n",
    "    Your task is to classify the given user query into one of the following categories: [USA,Not Related]. \n",
    "    Only respond with the category name and nothing else.\n",
    "\n",
    "    User query: {question}\n",
    "    {format_instructions}\n",
    "    \"\"\"\n",
    "    \n",
    "    prompt= PromptTemplate(\n",
    "        template=template,\n",
    "        input_variable=[\"question\"],\n",
    "        partial_variables={\"format_instructions\": parser.get_format_instructions()}\n",
    "    )\n",
    "    \n",
    "    \n",
    "    chain= prompt | model | parser\n",
    "    \n",
    "    response = chain.invoke({\"question\":question})\n",
    "    \n",
    "    print(\"Parsed response:\", response)\n",
    "    \n",
    "    return {\"messages\": [response.Topic]}"
   ]
  },
  {
   "cell_type": "code",
   "execution_count": 36,
   "id": "d55e8430",
   "metadata": {},
   "outputs": [],
   "source": [
    "state1={\"messages\":[\"what is a today weather?\"]}"
   ]
  },
  {
   "cell_type": "code",
   "execution_count": 37,
   "id": "0796c1d1",
   "metadata": {},
   "outputs": [],
   "source": [
    "state2={\"messages\":[\"what is a GDP of usa??\"]}"
   ]
  },
  {
   "cell_type": "code",
   "execution_count": 41,
   "id": "591d8dab",
   "metadata": {},
   "outputs": [
    {
     "name": "stdout",
     "output_type": "stream",
     "text": [
      "Question what is a today weather?\n",
      "Parsed response: Topic='Not Related' Reasoning=\"The query is a general weather question and doesn't specify a location, making it unrelated to the USA.\"\n"
     ]
    },
    {
     "data": {
      "text/plain": [
       "{'messages': ['Not Related']}"
      ]
     },
     "execution_count": 41,
     "metadata": {},
     "output_type": "execute_result"
    }
   ],
   "source": [
    "function_1(state1)"
   ]
  },
  {
   "cell_type": "code",
   "execution_count": 40,
   "id": "caa65c8a",
   "metadata": {},
   "outputs": [
    {
     "name": "stdout",
     "output_type": "stream",
     "text": [
      "Question what is a GDP of usa??\n",
      "Parsed response: Topic='USA' Reasoning='The query explicitly asks for the GDP of the USA.'\n"
     ]
    },
    {
     "data": {
      "text/plain": [
       "{'messages': ['USA']}"
      ]
     },
     "execution_count": 40,
     "metadata": {},
     "output_type": "execute_result"
    }
   ],
   "source": [
    "function_1(state2)"
   ]
  },
  {
   "cell_type": "code",
   "execution_count": 42,
   "id": "825ad391",
   "metadata": {},
   "outputs": [],
   "source": [
    "class TopicSelectionParser(BaseModel):\n",
    "    Topic:str=Field(description=\"selected topic\")\n",
    "    Reasoning:str=Field(description='Reasoning behind topic selection')"
   ]
  },
  {
   "cell_type": "code",
   "execution_count": 43,
   "id": "0588191e",
   "metadata": {},
   "outputs": [],
   "source": [
    "def router(state:AgentState):\n",
    "    print(\"-> ROUTER ->\")\n",
    "    \n",
    "    last_message=state[\"messages\"][-1]\n",
    "    print(\"last_message:\", last_message)\n",
    "    \n",
    "    if \"usa\" in last_message.lower():\n",
    "        return \"RAG Call\"\n",
    "    else:\n",
    "        return \"LLM Call\""
   ]
  },
  {
   "cell_type": "code",
   "execution_count": 44,
   "id": "c12e8b3a",
   "metadata": {},
   "outputs": [],
   "source": [
    "def format_docs(docs):\n",
    "    return \"\\n\\n\".join(doc.page_content for doc in docs)"
   ]
  },
  {
   "cell_type": "code",
   "execution_count": 45,
   "id": "d19b9791",
   "metadata": {},
   "outputs": [],
   "source": [
    "# RAG Function\n",
    "def function_2(state:AgentState):\n",
    "    print(\"-> RAG Call ->\")\n",
    "    \n",
    "    question = state[\"messages\"][0]\n",
    "    \n",
    "    prompt=PromptTemplate(\n",
    "        template=\"\"\"You are an assistant for question-answering tasks. Use the following pieces of retrieved context to answer the question. If you don't know the answer, just say that you don't know. Use three sentences maximum and keep the answer concise.\\nQuestion: {question} \\nContext: {context} \\nAnswer:\"\"\",\n",
    "        \n",
    "        input_variables=['context', 'question']\n",
    "    )\n",
    "    \n",
    "    rag_chain = (\n",
    "        {\"context\": retriever | format_docs, \"question\": RunnablePassthrough()}\n",
    "        | prompt\n",
    "        | model\n",
    "        | StrOutputParser()\n",
    "    )\n",
    "    result = rag_chain.invoke(question)\n",
    "    return  {\"messages\": [result]}"
   ]
  },
  {
   "cell_type": "code",
   "execution_count": 46,
   "id": "0def4740",
   "metadata": {},
   "outputs": [],
   "source": [
    "# LLM Function\n",
    "def function_3(state:AgentState):\n",
    "    print(\"-> LLM Call ->\")\n",
    "    question = state[\"messages\"][0]\n",
    "    \n",
    "    # Normal LLM call\n",
    "    complete_query = \"Anwer the follow question with you knowledge of the real world. Following is the user question: \" + question\n",
    "    response = model.invoke(complete_query)\n",
    "    return {\"messages\": [response.content]}"
   ]
  },
  {
   "cell_type": "markdown",
   "id": "1126d98e",
   "metadata": {},
   "source": [
    "#### Create StateGraph using Langgraph"
   ]
  },
  {
   "cell_type": "code",
   "execution_count": 47,
   "id": "cd45902a",
   "metadata": {},
   "outputs": [],
   "source": [
    "from langgraph.graph import StateGraph,END"
   ]
  },
  {
   "cell_type": "code",
   "execution_count": 48,
   "id": "ebcc7d52",
   "metadata": {},
   "outputs": [],
   "source": [
    "workflow=StateGraph(AgentState)"
   ]
  },
  {
   "cell_type": "code",
   "execution_count": 49,
   "metadata": {},
   "outputs": [
    {
     "data": {
      "text/plain": [
       "<langgraph.graph.state.StateGraph at 0x16684383920>"
      ]
     },
     "execution_count": 49,
     "metadata": {},
     "output_type": "execute_result"
    }
   ],
   "source": [
    "workflow.add_node(\"Supervisor\",function_1)"
   ]
  },
  {
   "cell_type": "code",
   "execution_count": 50,
   "id": "9e11d2ce",
   "metadata": {},
   "outputs": [
    {
     "data": {
      "text/plain": [
       "<langgraph.graph.state.StateGraph at 0x16684383920>"
      ]
     },
     "execution_count": 50,
     "metadata": {},
     "output_type": "execute_result"
    }
   ],
   "source": [
    "workflow.add_node(\"RAG\",function_2)"
   ]
  },
  {
   "cell_type": "code",
   "execution_count": 51,
   "id": "cf35c463",
   "metadata": {},
   "outputs": [
    {
     "data": {
      "text/plain": [
       "<langgraph.graph.state.StateGraph at 0x16684383920>"
      ]
     },
     "execution_count": 51,
     "metadata": {},
     "output_type": "execute_result"
    }
   ],
   "source": [
    "workflow.add_node(\"LLM\",function_3)"
   ]
  },
  {
   "cell_type": "code",
   "execution_count": 52,
   "id": "4086af3a",
   "metadata": {},
   "outputs": [
    {
     "data": {
      "text/plain": [
       "<langgraph.graph.state.StateGraph at 0x16684383920>"
      ]
     },
     "execution_count": 52,
     "metadata": {},
     "output_type": "execute_result"
    }
   ],
   "source": [
    "workflow.set_entry_point(\"Supervisor\")"
   ]
  },
  {
   "cell_type": "code",
   "execution_count": 53,
   "id": "d0370a34",
   "metadata": {},
   "outputs": [
    {
     "data": {
      "text/plain": [
       "<langgraph.graph.state.StateGraph at 0x16684383920>"
      ]
     },
     "execution_count": 53,
     "metadata": {},
     "output_type": "execute_result"
    }
   ],
   "source": [
    "workflow.add_conditional_edges(\n",
    "    \"Supervisor\",\n",
    "    router,\n",
    "    {\n",
    "        \"RAG Call\": \"RAG\",\n",
    "        \"LLM Call\": \"LLM\",\n",
    "    }\n",
    ")"
   ]
  },
  {
   "cell_type": "code",
   "execution_count": 54,
   "id": "04e82d8a",
   "metadata": {},
   "outputs": [
    {
     "data": {
      "text/plain": [
       "<langgraph.graph.state.StateGraph at 0x16684383920>"
      ]
     },
     "execution_count": 54,
     "metadata": {},
     "output_type": "execute_result"
    }
   ],
   "source": [
    "workflow.add_edge(\"RAG\",END)\n",
    "workflow.add_edge(\"LLM\",END)"
   ]
  },
  {
   "cell_type": "code",
   "execution_count": 55,
   "id": "c59fc098",
   "metadata": {},
   "outputs": [],
   "source": [
    "app = workflow.compile()"
   ]
  },
  {
   "cell_type": "code",
   "execution_count": 56,
   "id": "d53d62c7",
   "metadata": {},
   "outputs": [],
   "source": [
    "state={\"messages\":[\"hi\"]}"
   ]
  },
  {
   "cell_type": "code",
   "execution_count": 58,
   "id": "909ade6d",
   "metadata": {},
   "outputs": [
    {
     "name": "stdout",
     "output_type": "stream",
     "text": [
      "Question hi\n",
      "Parsed response: Topic='Not Related' Reasoning=\"The query 'hi' is a greeting and does not contain any information related to the USA.\"\n",
      "-> ROUTER ->\n",
      "last_message: Not Related\n",
      "-> LLM Call ->\n"
     ]
    },
    {
     "data": {
      "text/plain": [
       "{'messages': ['hi', 'Not Related', 'Hi there!']}"
      ]
     },
     "execution_count": 58,
     "metadata": {},
     "output_type": "execute_result"
    }
   ],
   "source": [
    "app.invoke(state)"
   ]
  },
  {
   "cell_type": "code",
   "execution_count": 59,
   "id": "64b35dbd",
   "metadata": {},
   "outputs": [],
   "source": [
    "state={\"messages\":[\"what is a gdp of usa?\"]}"
   ]
  },
  {
   "cell_type": "code",
   "execution_count": 77,
   "id": "4dd6a78d",
   "metadata": {},
   "outputs": [
    {
     "name": "stdout",
     "output_type": "stream",
     "text": [
      "Question what is a gdp of usa?\n",
      "Parsed response: Topic='USA' Reasoning='The query explicitly asks for the GDP of the USA.'\n",
      "-> ROUTER ->\n",
      "last_message: USA\n",
      "-> RAG Call ->\n"
     ]
    },
    {
     "data": {
      "text/plain": [
       "{'messages': ['what is a gdp of usa?',\n",
       "  'USA',\n",
       "  \"The nominal GDP of the USA is approximately $28 trillion USD as of 2024.  This makes it the world's largest economy by nominal GDP.  It accounts for about 25% of the global economy.\"]}"
      ]
     },
     "execution_count": 77,
     "metadata": {},
     "output_type": "execute_result"
    }
   ],
   "source": [
    "app.invoke(state)"
   ]
  },
  {
   "cell_type": "code",
   "execution_count": 64,
   "id": "668ed587",
   "metadata": {},
   "outputs": [],
   "source": [
    "state1={\"messages\":[\"can you tell me the industrial growth of world's most powerful economy?\"]}"
   ]
  },
  {
   "cell_type": "code",
   "execution_count": 65,
   "id": "f93deb34",
   "metadata": {},
   "outputs": [],
   "source": [
    "state2={\"messages\":[\"can you tell me the industrial growth of world's poor economy?\"]}"
   ]
  },
  {
   "cell_type": "code",
   "execution_count": 70,
   "id": "eaee7416",
   "metadata": {},
   "outputs": [
    {
     "name": "stdout",
     "output_type": "stream",
     "text": [
      "Question can you tell me the industrial growth of world's most powerful economy?\n",
      "Parsed response: Topic='USA' Reasoning=\"The query asks about the industrial growth of the world's most powerful economy, which is generally considered to be the USA.\"\n",
      "-> ROUTER ->\n",
      "last_message: USA\n",
      "-> RAG Call ->\n"
     ]
    }
   ],
   "source": [
    "result=app.invoke(state1)"
   ]
  },
  {
   "cell_type": "code",
   "execution_count": 71,
   "id": "56cd5bf5",
   "metadata": {},
   "outputs": [
    {
     "data": {
      "text/plain": [
       "\"The U.S. has the world's largest economy, with a nominal GDP of $28 trillion.  It's considered the engine of global growth due to innovation and financial strength.  Further specifics on industrial growth rates are not provided in the context.\""
      ]
     },
     "execution_count": 71,
     "metadata": {},
     "output_type": "execute_result"
    }
   ],
   "source": [
    "result[\"messages\"][-1]"
   ]
  },
  {
   "cell_type": "code",
   "execution_count": 74,
   "id": "df87650b",
   "metadata": {},
   "outputs": [
    {
     "name": "stdout",
     "output_type": "stream",
     "text": [
      "Question can you tell me the industrial growth of world's poor economy?\n",
      "Parsed response: Topic='Not Related' Reasoning=\"The query asks about the industrial growth of the world's poor economies, which is a global issue not specifically related to the USA.\"\n",
      "-> ROUTER ->\n",
      "last_message: Not Related\n",
      "-> LLM Call ->\n"
     ]
    }
   ],
   "source": [
    "result=app.invoke(state2)"
   ]
  },
  {
   "cell_type": "code",
   "execution_count": 75,
   "id": "cfb81898",
   "metadata": {},
   "outputs": [
    {
     "data": {
      "text/plain": [
       "'There\\'s no single, easily quantifiable answer to \"the industrial growth of the world\\'s poor economies.\"  The term \"world\\'s poor economies\" itself is imprecise and encompasses a vast and diverse group of nations with wildly varying levels of development, industrialization, and economic structures.  Further complicating things is the lack of completely reliable and consistent data across all these countries.\\n\\nHowever, we can make some general observations:\\n\\n* **Uneven Growth:** Industrial growth in poorer economies is highly uneven. Some countries have experienced significant industrial expansion, often driven by specific sectors like textiles, manufacturing of basic goods, or resource extraction.  Others have lagged considerably, often due to factors like political instability, lack of infrastructure, limited access to capital, corruption, and dependence on primary commodity exports.\\n\\n* **Shifting Manufacturing Landscape:**  A significant portion of manufacturing previously concentrated in developed nations has shifted towards lower-cost countries, often resulting in some industrial growth in those regions. This, however, doesn\\'t always translate to broad-based economic development or improvements in living standards for the entire population.  Exploitation of labor remains a concern in many such cases.\\n\\n* **Challenges to Industrialization:** Many poor economies face significant hurdles to industrial development, including:\\n    * **Lack of Infrastructure:** Inadequate transportation, energy, and communication networks hinder industrial growth.\\n    * **Limited Access to Finance:**  Small businesses and entrepreneurs often lack access to credit and investment capital.\\n    * **Skills Gaps:** A shortage of skilled labor can limit the ability to adopt more advanced technologies.\\n    * **Political Instability and Corruption:**  These factors create uncertainty and discourage investment.\\n    * **Dependence on Primary Commodities:**  Economies heavily reliant on exporting raw materials are vulnerable to price fluctuations and may struggle to diversify into more value-added industries.\\n\\n* **Technological Leapfrogging:** Some poorer economies have the potential to \"leapfrog\" over older technologies and adopt more advanced ones, particularly in areas like renewable energy or information technology. This can accelerate industrial growth if supported by appropriate policies and infrastructure.\\n\\nIn summary, while some poor economies have experienced industrial growth, it\\'s far from uniform.  A comprehensive assessment requires looking at individual countries and considering a multitude of factors beyond simple industrial output numbers. To get a specific picture, one would need to specify particular regions or countries and delve into detailed economic data from reliable sources like the World Bank, IMF, and national statistical agencies.'"
      ]
     },
     "execution_count": 75,
     "metadata": {},
     "output_type": "execute_result"
    }
   ],
   "source": [
    "result[\"messages\"][-1]"
   ]
  }
 ],
 "metadata": {
  "kernelspec": {
   "display_name": "agents",
   "language": "python",
   "name": "python3"
  },
  "language_info": {
   "codemirror_mode": {
    "name": "ipython",
    "version": 3
   },
   "file_extension": ".py",
   "mimetype": "text/x-python",
   "name": "python",
   "nbconvert_exporter": "python",
   "pygments_lexer": "ipython3",
   "version": "3.12.0"
  }
 },
 "nbformat": 4,
 "nbformat_minor": 5
}
