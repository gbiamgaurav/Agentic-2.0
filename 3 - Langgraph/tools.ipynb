{
 "cells": [
  {
   "cell_type": "markdown",
   "id": "9f7b53f3",
   "metadata": {},
   "source": [
    "#### Built in Tools - Tool Calling"
   ]
  },
  {
   "cell_type": "code",
   "execution_count": 1,
   "id": "800aab83",
   "metadata": {},
   "outputs": [],
   "source": [
    "from langchain_community.tools import WikipediaQueryRun"
   ]
  },
  {
   "cell_type": "code",
   "execution_count": 2,
   "id": "fb4bcb46",
   "metadata": {},
   "outputs": [],
   "source": [
    "from langchain_community.utilities import WikipediaAPIWrapper"
   ]
  },
  {
   "cell_type": "code",
   "execution_count": 3,
   "id": "2a361b98",
   "metadata": {},
   "outputs": [],
   "source": [
    "!pip install -qU wikipedia"
   ]
  },
  {
   "cell_type": "code",
   "execution_count": 4,
   "id": "37eeda38",
   "metadata": {},
   "outputs": [],
   "source": [
    "api_wrapper = WikipediaAPIWrapper(top_k_results=5, doc_content_chars_max=500)"
   ]
  },
  {
   "cell_type": "code",
   "execution_count": 6,
   "metadata": {},
   "outputs": [],
   "source": [
    "wiki_tool = WikipediaQueryRun(api_wrapper=api_wrapper)"
   ]
  },
  {
   "cell_type": "code",
   "execution_count": 7,
   "metadata": {},
   "outputs": [
    {
     "data": {
      "text/plain": [
       "'wikipedia'"
      ]
     },
     "execution_count": 7,
     "metadata": {},
     "output_type": "execute_result"
    }
   ],
   "source": [
    "wiki_tool.name"
   ]
  },
  {
   "cell_type": "code",
   "execution_count": 8,
   "metadata": {},
   "outputs": [
    {
     "data": {
      "text/plain": [
       "'A wrapper around Wikipedia. Useful for when you need to answer general questions about people, places, companies, facts, historical events, or other subjects. Input should be a search query.'"
      ]
     },
     "execution_count": 8,
     "metadata": {},
     "output_type": "execute_result"
    }
   ],
   "source": [
    "wiki_tool.description"
   ]
  },
  {
   "cell_type": "code",
   "execution_count": 9,
   "metadata": {},
   "outputs": [
    {
     "data": {
      "text/plain": [
       "{'query': {'description': 'query to look up on wikipedia',\n",
       "  'title': 'Query',\n",
       "  'type': 'string'}}"
      ]
     },
     "execution_count": 9,
     "metadata": {},
     "output_type": "execute_result"
    }
   ],
   "source": [
    "wiki_tool.args"
   ]
  },
  {
   "cell_type": "code",
   "execution_count": 11,
   "id": "7d580255",
   "metadata": {},
   "outputs": [
    {
     "data": {
      "text/plain": [
       "\"Page: Donald Trump\\nSummary: Donald John Trump (born June 14, 1946) is an American politician, media personality, and businessman who is the 47th president of the United States. A member of the Republican Party, he served as the 45th president from 2017 to 2021.\\nBorn into a wealthy family in the New York City borough of Queens, Trump graduated from the University of Pennsylvania in 1968 with a bachelor's degree in economics. He became the president of his family's real estate business in 1971, re\""
      ]
     },
     "execution_count": 11,
     "metadata": {},
     "output_type": "execute_result"
    }
   ],
   "source": [
    "wiki_tool.run({\"query\": \"Donald Trump?\"})"
   ]
  },
  {
   "cell_type": "code",
   "execution_count": 13,
   "metadata": {},
   "outputs": [
    {
     "name": "stderr",
     "output_type": "stream",
     "text": [
      "c:\\Users\\User\\miniconda3\\envs\\agents\\Lib\\site-packages\\wikipedia\\wikipedia.py:389: GuessedAtParserWarning: No parser was explicitly specified, so I'm using the best available HTML parser for this system (\"html.parser\"). This usually isn't a problem, but if you run this code on another system, or in a different virtual environment, it may use a different parser and behave differently.\n",
      "\n",
      "The code that caused this warning is on line 389 of the file c:\\Users\\User\\miniconda3\\envs\\agents\\Lib\\site-packages\\wikipedia\\wikipedia.py. To get rid of this warning, pass the additional argument 'features=\"html.parser\"' to the BeautifulSoup constructor.\n",
      "\n",
      "  lis = BeautifulSoup(html).find_all('li')\n"
     ]
    },
    {
     "data": {
      "text/plain": [
       "\"Page: Royal Challengers Bengaluru\\nSummary: Royal Challengers Bengaluru, formerly known as Royal Challengers Bangalore, commonly known as RCB, is a professional T20 franchise cricket team based in Bengaluru, Karnataka, that competes in the Indian Premier League. Founded in 2008 by United Spirits, the team's home ground is M. Chinnaswamy Stadium. RCB won their first title in 2025. The team has also finished as the runners-up on three occasions: in 2009, 2011, and 2016. They have also qualified for\""
      ]
     },
     "execution_count": 13,
     "metadata": {},
     "output_type": "execute_result"
    }
   ],
   "source": [
    "wiki_tool.run(\"RCB\")"
   ]
  },
  {
   "cell_type": "code",
   "execution_count": 15,
   "metadata": {},
   "outputs": [],
   "source": [
    "from langchain_community.tools import YouTubeSearchTool\n",
    "\n",
    "yt_tool = YouTubeSearchTool()"
   ]
  },
  {
   "cell_type": "code",
   "execution_count": 16,
   "id": "f6c34d43",
   "metadata": {},
   "outputs": [
    {
     "data": {
      "text/plain": [
       "('youtube_search',\n",
       " 'search for youtube videos associated with a person. the input to this tool should be a comma separated list, the first part contains a person name and the second a number that is the maximum number of video results to return aka num_results. the second part is optional')"
      ]
     },
     "execution_count": 16,
     "metadata": {},
     "output_type": "execute_result"
    }
   ],
   "source": [
    "yt_tool.name, yt_tool.description"
   ]
  },
  {
   "cell_type": "code",
   "execution_count": 18,
   "id": "7562b23a",
   "metadata": {},
   "outputs": [],
   "source": [
    "!pip install -qU youtube_search"
   ]
  },
  {
   "cell_type": "code",
   "execution_count": 19,
   "id": "b85e6ea3",
   "metadata": {},
   "outputs": [
    {
     "data": {
      "text/plain": [
       "\"['https://www.youtube.com/watch?v=2c7u-_DCcHg&pp=ygUQRXhwbG9yZXIgU2hpYmFqaQ%3D%3D', 'https://www.youtube.com/watch?v=yibFkz63lr8&pp=ygUQRXhwbG9yZXIgU2hpYmFqaQ%3D%3D']\""
      ]
     },
     "execution_count": 19,
     "metadata": {},
     "output_type": "execute_result"
    }
   ],
   "source": [
    "yt_tool.run(\"Explorer Shibaji\")"
   ]
  },
  {
   "cell_type": "code",
   "execution_count": 20,
   "id": "4771ec8d",
   "metadata": {},
   "outputs": [
    {
     "data": {
      "text/plain": [
       "\"['https://www.youtube.com/watch?v=JxgmHe2NyeY&pp=ygUKS3Jpc2ggbmFpaw%3D%3D', 'https://www.youtube.com/watch?v=p4pHsuEf4Ms&pp=ygUKS3Jpc2ggbmFpaw%3D%3D']\""
      ]
     },
     "execution_count": 20,
     "metadata": {},
     "output_type": "execute_result"
    }
   ],
   "source": [
    "yt_tool.run(\"Krish naik\")"
   ]
  },
  {
   "cell_type": "code",
   "execution_count": 22,
   "id": "420f7b51",
   "metadata": {},
   "outputs": [
    {
     "data": {
      "text/plain": [
       "True"
      ]
     },
     "execution_count": 22,
     "metadata": {},
     "output_type": "execute_result"
    }
   ],
   "source": [
    "import os\n",
    "from dotenv import load_dotenv\n",
    "load_dotenv()"
   ]
  },
  {
   "cell_type": "code",
   "execution_count": 26,
   "id": "be3c54e8",
   "metadata": {},
   "outputs": [],
   "source": [
    "tavily_api_key = os.getenv(\"TAVILY_API_KEY\")"
   ]
  },
  {
   "cell_type": "code",
   "execution_count": 25,
   "id": "8d28b37e",
   "metadata": {},
   "outputs": [],
   "source": [
    "from langchain_community.tools.tavily_search import TavilySearchResults\n",
    "\n",
    "tavily_tool = TavilySearchResults(tavily_api_key=tavily_api_key)"
   ]
  },
  {
   "cell_type": "code",
   "execution_count": 27,
   "id": "706b5f6b",
   "metadata": {},
   "outputs": [
    {
     "data": {
      "text/plain": [
       "[{'title': '11 Dead In RCB Victory Parade Stampede - YouTube',\n",
       "  'url': 'https://www.youtube.com/watch?v=kgwctnQYZIM',\n",
       "  'content': \"### Description\\n3644 views\\nPosted: 5 Jun 2025\\nA stampede at the Royal Challengers Bangaluru (RCB) victory parade resulted in 11 deaths. Sources reveal that police had warned against holding the event on a weekday and had not given permission. RCB announced the parade and free entry without police consultation, leading to a massive crowd of nearly 8 lakh people overwhelming the 1,000 deployed policemen. The event's organization and lack of proper permissions are now under scrutiny. [...] victory parade is happening. It created euphoria amongst the fans. RCB did not consult the police before tweeting on the victory parade and that went viral. that had all these fans line up and queue up outside the Chinaswami stadium where it was far from a queue because it was a crowd that led to a stampede. The Bangalore police also then called up the RCB and said that no permission has been given for the victory parade. So why is it that the RCB chose to announce the victory parade? RCB had [...] 11 deaths have happened and sources uh revealed to India today that the cops wanted the event postponed. They had said that it is a weekday and it was not a good idea to hold the event on that day. They had issued a clear warning. Sources also tell India today that the RCB had organized the parade and the RCB had not consulted the cops about it. In fact, we are also learning how the RCB had announced pre- entry. They were going ahead with the euphoria among the fans and free entry was announced\",\n",
       "  'score': 0.8703443},\n",
       " {'title': 'RCB victory parade stampede updates: Bengaluru city chief B ...',\n",
       "  'url': 'https://www.thehindu.com/news/national/rcb-ipl-victory-parade-stampede-death-toll-virat-kohli-chinnaswamy-stadium-live/article69656707.ece',\n",
       "  'content': 'A stampede that broke out near the Chinnaswamy stadium in Bengaluru, after fans gathered to celebrate Royal Challengers Bengaluru’s IPL win, led to the [deaths of 11 persons and injuries to 33](https://www.thehindu.com/news/cities/bangalore/rcb-ipl-victory-celebrations-stampede-bengaluru-death-toll/article69656538.ece) on Wednesday (June 4, 2025). The tragedy unfolded near the gates of the stadium, where over 2 lakh fans had gathered to mark RCB’s historic first title win in 18 years. [...] A mound of shoes and sandals lying here and there and some pieces of what appeared to be sports apparel and merchandise were the telltale signs of the stampede that broke out in the immediate vicinity of the Chinnaswamy stadium in Bengaluru, leading to the deaths of 11 persons and injuries to 33 enthusiasts.\\n\\nAs the celebratory mood kicked in to commemorate the first ever IPL title win by the RCB, massive crowds of young men and women, touching lakhs, gathered just outside the stadium. [...] The back and forth that happened through Wednesday, over the victory parade, indicates that the police advice was not strictly adhered to by the political leadership as well. The traffic police, which said there would be no victory parade by noon, issued traffic diversions for a victory parade “in case it happens” by 3 p.m., indicating pressure to allow the parade. It was cancelled only after a stampede at the stadium led to deaths. Not only this, the State government also felicitated the team',\n",
       "  'score': 0.8286204},\n",
       " {'title': 'RCB victory parade stampede: FIR filed against Royal Challengers ...',\n",
       "  'url': 'https://timesofindia.indiatimes.com/india/rcb-victory-parade-stampede-fir-filed-against-royal-challengers-bengaluru-event-organisers-for-criminal-negligence/articleshow/121649849.cms',\n",
       "  'content': \"[](https://timesofindia.indiatimes.com/sports/cricket/ipl/top-stories/bengaluru-stampede-krunal-pandya-breaks-silence-says-rcb-victory-parade-was-meant-to-share-our-joy/articleshow/121644873.cms)[Bengaluru Stampede: Krunal Pandya breaks silence, says RCB victory parade 'was meant to share our joy'Cricket News: A stampede outside Bengaluru's M. Chinnaswamy Stadium resulted in multiple fatalities during Royal Challengers Bengaluru's victory parade. The team ha Times Of [...] ![Image 2: RCB Victory Parade: At least 8 Dead, Several Injured In Stampede Outside Bengaluru Stadium](https://static.toiimg.com/thumb/msid-121649905,imgsize-1938540,width-400,resizemode-4/121649905.jpg) [...] [](https://timesofindia.indiatimes.com/videos/toi-original/rcb-victory-parade-claims-dozens-of-lives-bcci-speaks-out-on-bengaluru-stampede-watch/videoshow/121628734.cms)[RCB Victory Parade Claims Dozens Of Lives, BCCI Speaks Out On Bengaluru Stampede | Watch A deadly stampede marred Royal Challengers Bengaluru's IPL 2025 victory celebration, leaving at least 11 people dead and many injured. The BCCI broke its silence, with Secretary Devajit Saikia blaming poor planning by organisers and calling\",\n",
       "  'score': 0.81630427},\n",
       " {'title': \"Krunal Pandya breaks silence, says RCB victory parade 'was meant ...\",\n",
       "  'url': 'https://timesofindia.indiatimes.com/sports/cricket/ipl/top-stories/bengaluru-stampede-krunal-pandya-breaks-silence-says-rcb-victory-parade-was-meant-to-share-our-joy/articleshow/121644873.cms',\n",
       "  'content': \"A stampede outside Bengaluru's M. Chinnaswamy Stadium resulted in multiple fatalities during Royal Challengers Bengaluru's victory parade. The\",\n",
       "  'score': 0.79901963},\n",
       " {'title': \"Several Killed as RCB's Victory Celebration Turns Deadly - YouTube\",\n",
       "  'url': 'https://www.youtube.com/watch?v=gz8chxY7elU',\n",
       "  'content': \"At least 11 people were killed and 30 injured in a stampede outside the Chinnaswamy cricket stadium in Bengaluru. The incident happened during the Royal Challengers' victory celebrations after their first IPL triumph in 18 years. Did the state government underestimate the rush? Were crowd control measures not in place? Palki Sharma tells you.\\n\\n---\",\n",
       "  'score': 0.7701369}]"
      ]
     },
     "execution_count": 27,
     "metadata": {},
     "output_type": "execute_result"
    }
   ],
   "source": [
    "tavily_tool.invoke({\"query\": \"What happened in RCB victory parade?\"})"
   ]
  },
  {
   "cell_type": "markdown",
   "id": "9a6bf354",
   "metadata": {},
   "source": [
    "#### Create your Custom Tool"
   ]
  },
  {
   "cell_type": "code",
   "execution_count": 38,
   "id": "6aea98a1",
   "metadata": {},
   "outputs": [],
   "source": [
    "from langchain.agents import tool"
   ]
  },
  {
   "cell_type": "code",
   "execution_count": 39,
   "id": "56ddcddb",
   "metadata": {},
   "outputs": [],
   "source": [
    "# define your function\n",
    "\n",
    "def multiply(a: int, b: int) -> int:\n",
    "    return a * b"
   ]
  },
  {
   "cell_type": "code",
   "execution_count": 40,
   "id": "7c71a2bd",
   "metadata": {},
   "outputs": [],
   "source": [
    "# Create your custom tool using @tool\n",
    "\n",
    "@tool \n",
    "def multiply(a: int, b: int) -> int:\n",
    "    \"\"\"This tool is for multiplication\"\"\"  # Doc string is required for custom tools\n",
    "    return a * b"
   ]
  },
  {
   "cell_type": "code",
   "execution_count": 41,
   "id": "037baa86",
   "metadata": {},
   "outputs": [
    {
     "data": {
      "text/plain": [
       "200"
      ]
     },
     "execution_count": 41,
     "metadata": {},
     "output_type": "execute_result"
    }
   ],
   "source": [
    "# call your tool\n",
    "\n",
    "multiply.invoke({'a': 10, 'b': 20})"
   ]
  },
  {
   "cell_type": "code",
   "execution_count": 42,
   "id": "9bb5f295",
   "metadata": {},
   "outputs": [
    {
     "data": {
      "text/plain": [
       "'multiply'"
      ]
     },
     "execution_count": 42,
     "metadata": {},
     "output_type": "execute_result"
    }
   ],
   "source": [
    "multiply.name"
   ]
  },
  {
   "cell_type": "code",
   "execution_count": 43,
   "id": "6ace30f9",
   "metadata": {},
   "outputs": [
    {
     "data": {
      "text/plain": [
       "'This tool is for multiplication'"
      ]
     },
     "execution_count": 43,
     "metadata": {},
     "output_type": "execute_result"
    }
   ],
   "source": [
    "multiply.description"
   ]
  },
  {
   "cell_type": "code",
   "execution_count": 44,
   "id": "0b452e36",
   "metadata": {},
   "outputs": [
    {
     "data": {
      "text/plain": [
       "{'a': {'title': 'A', 'type': 'integer'},\n",
       " 'b': {'title': 'B', 'type': 'integer'}}"
      ]
     },
     "execution_count": 44,
     "metadata": {},
     "output_type": "execute_result"
    }
   ],
   "source": [
    "multiply.args"
   ]
  },
  {
   "cell_type": "code",
   "execution_count": 45,
   "id": "4678abfd",
   "metadata": {},
   "outputs": [],
   "source": [
    "def get_word_length(word: str) -> int:\n",
    "    \"\"\"Checks the length of a word\"\"\"\n",
    "    return len(word)"
   ]
  },
  {
   "cell_type": "code",
   "execution_count": 50,
   "id": "594a525c",
   "metadata": {},
   "outputs": [],
   "source": [
    "@tool # @tool is required for tool creation\n",
    "def get_word_length(word: str) -> int:\n",
    "    \"\"\"Checks the length of a word\"\"\"  # Doc string is required for tool creation\n",
    "    return len(word)"
   ]
  },
  {
   "cell_type": "code",
   "execution_count": 55,
   "id": "bb064941",
   "metadata": {},
   "outputs": [
    {
     "data": {
      "text/plain": [
       "6"
      ]
     },
     "execution_count": 55,
     "metadata": {},
     "output_type": "execute_result"
    }
   ],
   "source": [
    "get_word_length(\"Gaurav\")"
   ]
  },
  {
   "cell_type": "code",
   "execution_count": 52,
   "id": "ddcd5d61",
   "metadata": {},
   "outputs": [
    {
     "data": {
      "text/plain": [
       "'Checks the length of a word'"
      ]
     },
     "execution_count": 52,
     "metadata": {},
     "output_type": "execute_result"
    }
   ],
   "source": [
    "get_word_length.description"
   ]
  },
  {
   "cell_type": "code",
   "execution_count": 53,
   "id": "e8ece841",
   "metadata": {},
   "outputs": [
    {
     "data": {
      "text/plain": [
       "{'word': {'title': 'Word', 'type': 'string'}}"
      ]
     },
     "execution_count": 53,
     "metadata": {},
     "output_type": "execute_result"
    }
   ],
   "source": [
    "get_word_length.args"
   ]
  },
  {
   "cell_type": "code",
   "execution_count": 54,
   "id": "ee5afce6",
   "metadata": {},
   "outputs": [
    {
     "data": {
      "text/plain": [
       "6"
      ]
     },
     "execution_count": 54,
     "metadata": {},
     "output_type": "execute_result"
    }
   ],
   "source": [
    "get_word_length.invoke(\"Gaurav\")"
   ]
  },
  {
   "cell_type": "code",
   "execution_count": 56,
   "id": "6cbb8d91",
   "metadata": {},
   "outputs": [],
   "source": [
    "@tool\n",
    "def call_gmail_api(args):\n",
    "    \"\"\"This is my gmail api function\"\"\"\n",
    "    pass "
   ]
  },
  {
   "cell_type": "code",
   "execution_count": null,
   "id": "2d279c9f",
   "metadata": {},
   "outputs": [],
   "source": []
  }
 ],
 "metadata": {
  "kernelspec": {
   "display_name": "agents",
   "language": "python",
   "name": "python3"
  },
  "language_info": {
   "codemirror_mode": {
    "name": "ipython",
    "version": 3
   },
   "file_extension": ".py",
   "mimetype": "text/x-python",
   "name": "python",
   "nbconvert_exporter": "python",
   "pygments_lexer": "ipython3",
   "version": "3.12.0"
  }
 },
 "nbformat": 4,
 "nbformat_minor": 5
}
