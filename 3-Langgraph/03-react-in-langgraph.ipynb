{
 "cells": [
  {
   "cell_type": "code",
   "execution_count": 1,
   "id": "c34037b9",
   "metadata": {},
   "outputs": [
    {
     "name": "stdout",
     "output_type": "stream",
     "text": [
      "All Ok\n"
     ]
    }
   ],
   "source": [
    "print(\"All Ok\")"
   ]
  },
  {
   "cell_type": "code",
   "execution_count": 2,
   "metadata": {},
   "outputs": [],
   "source": [
    "from dotenv import load_dotenv\n",
    "load_dotenv()\n",
    "import os\n",
    "os.environ['GROQ_API_KEY'] = os.getenv(\"GROQ_API_KEY\")"
   ]
  },
  {
   "cell_type": "code",
   "execution_count": 3,
   "metadata": {},
   "outputs": [],
   "source": [
    "model=\"deepseek-r1-distill-llama-70b\""
   ]
  },
  {
   "cell_type": "markdown",
   "id": "02cdebc9",
   "metadata": {},
   "source": [
    "### Load the Model"
   ]
  },
  {
   "cell_type": "code",
   "execution_count": 4,
   "metadata": {},
   "outputs": [
    {
     "data": {
      "text/plain": [
       "AIMessage(content='<think>\\n\\n</think>\\n\\nHello! How can I assist you today? 😊', additional_kwargs={}, response_metadata={'token_usage': {'completion_tokens': 16, 'prompt_tokens': 4, 'total_tokens': 20, 'completion_time': 0.083022179, 'prompt_time': 5.5009e-05, 'queue_time': 0.052876066, 'total_time': 0.083077188}, 'model_name': 'deepseek-r1-distill-llama-70b', 'system_fingerprint': 'fp_1bbe7845ec', 'finish_reason': 'stop', 'logprobs': None}, id='run--c9b0904b-6bff-406d-82c3-06858a124f09-0', usage_metadata={'input_tokens': 4, 'output_tokens': 16, 'total_tokens': 20})"
      ]
     },
     "execution_count": 4,
     "metadata": {},
     "output_type": "execute_result"
    }
   ],
   "source": [
    "from langchain_groq import ChatGroq\n",
    "\n",
    "llm=ChatGroq(model_name=model)\n",
    "\n",
    "llm.invoke(\"hi\")"
   ]
  },
  {
   "cell_type": "code",
   "execution_count": 5,
   "metadata": {},
   "outputs": [
    {
     "name": "stdout",
     "output_type": "stream",
     "text": [
      "<think>\n",
      "\n",
      "</think>\n",
      "\n",
      "Hello! How can I assist you today? 😊\n"
     ]
    }
   ],
   "source": [
    "print(llm.invoke(\"hi\").content)"
   ]
  },
  {
   "cell_type": "code",
   "execution_count": 6,
   "metadata": {},
   "outputs": [],
   "source": [
    "import operator\n",
    "from typing import List\n",
    "from langgraph.graph.message import add_messages\n",
    "from pydantic import BaseModel , Field\n",
    "from typing import TypedDict, Annotated, Sequence\n",
    "from langchain_core.messages import BaseMessage\n",
    "from langchain_core.output_parsers import StrOutputParser\n",
    "from langchain_core.prompts import ChatPromptTemplate, PromptTemplate\n",
    "\n",
    "from langchain_core.tools import tool\n",
    "from langchain_core.messages import HumanMessage, AIMessage\n",
    "from langgraph.graph import StateGraph,MessagesState,START,END\n",
    "from langgraph.prebuilt import ToolNode"
   ]
  },
  {
   "cell_type": "code",
   "execution_count": 7,
   "metadata": {},
   "outputs": [],
   "source": [
    "def call_model(state: MessagesState):\n",
    "    messages = state['messages']\n",
    "    response = llm.invoke(messages)\n",
    "    return {\"messages\": [response]}"
   ]
  },
  {
   "cell_type": "code",
   "execution_count": 8,
   "metadata": {},
   "outputs": [],
   "source": [
    "# HumanMessage(\"hi how are you?\")"
   ]
  },
  {
   "cell_type": "code",
   "execution_count": 9,
   "id": "b9d40965",
   "metadata": {},
   "outputs": [],
   "source": [
    "# HumanMessage([\"hi how are you?\"])"
   ]
  },
  {
   "cell_type": "markdown",
   "id": "ac8a870e",
   "metadata": {},
   "source": [
    "### Only testing code"
   ]
  },
  {
   "cell_type": "code",
   "execution_count": 10,
   "metadata": {},
   "outputs": [
    {
     "data": {
      "text/plain": [
       "{'messages': [AIMessage(content=\"<think>\\n\\n</think>\\n\\nHello! I'm just a virtual assistant, so I don't have feelings, but I'm here and ready to help you with whatever you need. How are you doing? 😊\", additional_kwargs={}, response_metadata={'token_usage': {'completion_tokens': 42, 'prompt_tokens': 9, 'total_tokens': 51, 'completion_time': 0.192363941, 'prompt_time': 0.000195216, 'queue_time': 0.053586964, 'total_time': 0.192559157}, 'model_name': 'deepseek-r1-distill-llama-70b', 'system_fingerprint': 'fp_1bbe7845ec', 'finish_reason': 'stop', 'logprobs': None}, id='run--38f2ef50-5001-4ea8-9cb9-d10c3d06ccdf-0', usage_metadata={'input_tokens': 9, 'output_tokens': 42, 'total_tokens': 51})]}"
      ]
     },
     "execution_count": 10,
     "metadata": {},
     "output_type": "execute_result"
    }
   ],
   "source": [
    "state={\"messages\":[\"hi hello how are you?\"]}\n",
    "call_model(state)"
   ]
  },
  {
   "cell_type": "code",
   "execution_count": 11,
   "metadata": {},
   "outputs": [],
   "source": [
    "# from langchain_core.messages import AnyMessage\n",
    "# # class MessagesState(TypedDict):\n",
    "# #     messages: Annotated[list[AnyMessage], add_messages]\n",
    "\n",
    "\n",
    "# class AgentState(TypedDict):\n",
    "#     messages: Annotated[Sequence[BaseMessage], operator.add]"
   ]
  },
  {
   "cell_type": "markdown",
   "id": "4d3b50f6",
   "metadata": {},
   "source": [
    "### Design a Simple Workflow without Tool Calling"
   ]
  },
  {
   "cell_type": "code",
   "execution_count": 12,
   "metadata": {},
   "outputs": [],
   "source": [
    "workflow=StateGraph(MessagesState)"
   ]
  },
  {
   "cell_type": "code",
   "execution_count": 13,
   "metadata": {},
   "outputs": [
    {
     "data": {
      "text/plain": [
       "<langgraph.graph.state.StateGraph at 0x1c9b0496900>"
      ]
     },
     "execution_count": 13,
     "metadata": {},
     "output_type": "execute_result"
    }
   ],
   "source": [
    "workflow.add_node(\"mybot\",call_model)"
   ]
  },
  {
   "cell_type": "code",
   "execution_count": 14,
   "id": "7a20d6ef",
   "metadata": {},
   "outputs": [
    {
     "data": {
      "text/plain": [
       "<langgraph.graph.state.StateGraph at 0x1c9b0496900>"
      ]
     },
     "execution_count": 14,
     "metadata": {},
     "output_type": "execute_result"
    }
   ],
   "source": [
    "workflow.add_edge(START,\"mybot\")"
   ]
  },
  {
   "cell_type": "code",
   "execution_count": 15,
   "id": "c7d103f5",
   "metadata": {},
   "outputs": [
    {
     "data": {
      "text/plain": [
       "<langgraph.graph.state.StateGraph at 0x1c9b0496900>"
      ]
     },
     "execution_count": 15,
     "metadata": {},
     "output_type": "execute_result"
    }
   ],
   "source": [
    "workflow.add_edge(\"mybot\",END)"
   ]
  },
  {
   "cell_type": "code",
   "execution_count": 16,
   "id": "f36d892f",
   "metadata": {},
   "outputs": [],
   "source": [
    "app = workflow.compile()"
   ]
  },
  {
   "cell_type": "code",
   "execution_count": 17,
   "id": "52b73cbd",
   "metadata": {},
   "outputs": [
    {
     "data": {
      "image/png": "[encoded data removed]",
      "text/plain": [
       "<IPython.core.display.Image object>"
      ]
     },
     "metadata": {},
     "output_type": "display_data"
    }
   ],
   "source": [
    "from IPython.display import Image, display\n",
    "display(Image(app.get_graph().draw_mermaid_png()))"
   ]
  },
  {
   "cell_type": "code",
   "execution_count": 18,
   "id": "b86a13ad",
   "metadata": {},
   "outputs": [],
   "source": [
    "input={\"messages\":[\"hi hello how are you?\"]}"
   ]
  },
  {
   "cell_type": "code",
   "execution_count": 19,
   "id": "22ac470b",
   "metadata": {},
   "outputs": [
    {
     "data": {
      "text/plain": [
       "{'messages': [HumanMessage(content='hi hello how are you?', additional_kwargs={}, response_metadata={}, id='24b006f6-29f4-4fa6-b8a9-28099e3f5de8'),\n",
       "  AIMessage(content=\"<think>\\n\\n</think>\\n\\nHello! I'm just a virtual assistant, so I don't have feelings, but I'm here and ready to help you with whatever you need. How are *you* doing? 😊\", additional_kwargs={}, response_metadata={'token_usage': {'completion_tokens': 44, 'prompt_tokens': 9, 'total_tokens': 53, 'completion_time': 0.198358598, 'prompt_time': 0.000198216, 'queue_time': 0.052973464, 'total_time': 0.198556814}, 'model_name': 'deepseek-r1-distill-llama-70b', 'system_fingerprint': 'fp_1bbe7845ec', 'finish_reason': 'stop', 'logprobs': None}, id='run--ebf502b4-ede4-4307-a231-f8933c1a5626-0', usage_metadata={'input_tokens': 9, 'output_tokens': 44, 'total_tokens': 53})]}"
      ]
     },
     "execution_count": 19,
     "metadata": {},
     "output_type": "execute_result"
    }
   ],
   "source": [
    "app.invoke(input)"
   ]
  },
  {
   "cell_type": "code",
   "execution_count": 20,
   "id": "897435cd",
   "metadata": {},
   "outputs": [
    {
     "name": "stdout",
     "output_type": "stream",
     "text": [
      "Output from mybot Node\n",
      "_______\n",
      "{'messages': [AIMessage(content=\"<think>\\n\\n</think>\\n\\nHello! I'm just a virtual assistant, so I don't have feelings, but I'm here and ready to help you with whatever you need. How are you doing? 😊\", additional_kwargs={}, response_metadata={'token_usage': {'completion_tokens': 42, 'prompt_tokens': 9, 'total_tokens': 51, 'completion_time': 0.184770182, 'prompt_time': 0.000187177, 'queue_time': 0.057895827000000004, 'total_time': 0.184957359}, 'model_name': 'deepseek-r1-distill-llama-70b', 'system_fingerprint': 'fp_1bbe7845ec', 'finish_reason': 'stop', 'logprobs': None}, id='run--bc8ddd18-9883-4e0e-b37c-217cf537203d-0', usage_metadata={'input_tokens': 9, 'output_tokens': 42, 'total_tokens': 51})]}\n",
      "\n",
      "\n"
     ]
    }
   ],
   "source": [
    "for output in app.stream(input):\n",
    "    for key,value in output.items():\n",
    "        print(f\"Output from {key} Node\")\n",
    "        print(\"_______\")\n",
    "        print(value)\n",
    "        print(\"\\n\")"
   ]
  },
  {
   "cell_type": "markdown",
   "id": "4270875f",
   "metadata": {},
   "source": [
    "### Workflow with Tool Calling"
   ]
  },
  {
   "cell_type": "code",
   "execution_count": 22,
   "id": "7a9f8295",
   "metadata": {},
   "outputs": [],
   "source": [
    "@tool\n",
    "def search(query: str):\n",
    "    \"\"\"this is a custom tool for weather\"\"\"\n",
    "    if \"delhi\" in query.lower():\n",
    "        return \"The temp is 45 degrees and sunny\"\n",
    "    return \"The temp is 25 degrees and cloudy\""
   ]
  },
  {
   "cell_type": "markdown",
   "id": "f3b43399",
   "metadata": {},
   "source": [
    "### Testing the Tool"
   ]
  },
  {
   "cell_type": "code",
   "execution_count": 23,
   "id": "84f87d25",
   "metadata": {},
   "outputs": [
    {
     "data": {
      "text/plain": [
       "'The temp is 25 degrees and cloudy'"
      ]
     },
     "execution_count": 23,
     "metadata": {},
     "output_type": "execute_result"
    }
   ],
   "source": [
    "search.invoke(\"what is a temp in kashmir?\")"
   ]
  },
  {
   "cell_type": "code",
   "execution_count": 24,
   "id": "3db87664",
   "metadata": {},
   "outputs": [
    {
     "data": {
      "text/plain": [
       "'The temp is 45 degrees and sunny'"
      ]
     },
     "execution_count": 24,
     "metadata": {},
     "output_type": "execute_result"
    }
   ],
   "source": [
    "search.invoke(\"what is a temp in Delhi?\")"
   ]
  },
  {
   "cell_type": "code",
   "execution_count": 25,
   "id": "c8db4d3d",
   "metadata": {},
   "outputs": [
    {
     "data": {
      "text/plain": [
       "StructuredTool(name='search', description='this is a custom tool for weather', args_schema=<class 'langchain_core.utils.pydantic.search'>, func=<function search at 0x000001C9BF2532E0>)"
      ]
     },
     "execution_count": 25,
     "metadata": {},
     "output_type": "execute_result"
    }
   ],
   "source": [
    "search"
   ]
  },
  {
   "cell_type": "code",
   "execution_count": 26,
   "id": "070848c6",
   "metadata": {},
   "outputs": [
    {
     "data": {
      "text/plain": [
       "AIMessage(content='<think>\\n\\n</think>\\n\\nAs of my last update in July 2024, I cannot provide real-time weather information. However, Delhi generally experiences a humid subtropical climate with extreme summer and winter conditions. Summers (April to October) are typically very hot with temperatures often reaching 40°C (104°F) or higher. Winters (November to February) can be quite cold, especially in December and January, with temperatures sometimes dropping to around 5°C (41°F). The monsoon season usually starts in July and lasts until September, bringing heavy rainfall and humidity. For the most accurate and current weather information, I recommend checking a reliable weather forecasting service or app.', additional_kwargs={}, response_metadata={'token_usage': {'completion_tokens': 135, 'prompt_tokens': 11, 'total_tokens': 146, 'completion_time': 0.512793776, 'prompt_time': 0.000271077, 'queue_time': 0.052264243, 'total_time': 0.513064853}, 'model_name': 'deepseek-r1-distill-llama-70b', 'system_fingerprint': 'fp_1bbe7845ec', 'finish_reason': 'stop', 'logprobs': None}, id='run--783bcc20-8cd5-429f-8e6c-cecdef039836-0', usage_metadata={'input_tokens': 11, 'output_tokens': 135, 'total_tokens': 146})"
      ]
     },
     "execution_count": 26,
     "metadata": {},
     "output_type": "execute_result"
    }
   ],
   "source": [
    "llm.invoke(\"what is a weather in delhi?\")"
   ]
  },
  {
   "cell_type": "markdown",
   "id": "b4a6695d",
   "metadata": {},
   "source": [
    "### Binding a tool to the LLM\n",
    "\n",
    "`Special Note: use some good for agentic workflow since opensource model might not give you the correct output`"
   ]
  },
  {
   "cell_type": "code",
   "execution_count": 27,
   "id": "21771b7f",
   "metadata": {},
   "outputs": [],
   "source": [
    "tools = [search]"
   ]
  },
  {
   "cell_type": "code",
   "execution_count": 28,
   "id": "ce457e33",
   "metadata": {},
   "outputs": [],
   "source": [
    "llm_with_tools = llm.bind_tools(tools)"
   ]
  },
  {
   "cell_type": "markdown",
   "id": "f1b8e2d4",
   "metadata": {},
   "source": [
    "### Testing the LLM with Tools"
   ]
  },
  {
   "cell_type": "code",
   "execution_count": 30,
   "id": "b12ebde4",
   "metadata": {},
   "outputs": [
    {
     "data": {
      "text/plain": [
       "AIMessage(content='', additional_kwargs={'tool_calls': [{'id': 'brr4tandg', 'function': {'arguments': '{\"query\":\"weather in Delhi\"}', 'name': 'search'}, 'type': 'function'}]}, response_metadata={'token_usage': {'completion_tokens': 195, 'prompt_tokens': 130, 'total_tokens': 325, 'completion_time': 0.913587273, 'prompt_time': 0.008334332, 'queue_time': 0.053422062, 'total_time': 0.921921605}, 'model_name': 'deepseek-r1-distill-llama-70b', 'system_fingerprint': 'fp_1bbe7845ec', 'finish_reason': 'tool_calls', 'logprobs': None}, id='run--2dd459c4-b881-494a-8048-34913804a2c1-0', tool_calls=[{'name': 'search', 'args': {'query': 'weather in Delhi'}, 'id': 'brr4tandg', 'type': 'tool_call'}], usage_metadata={'input_tokens': 130, 'output_tokens': 195, 'total_tokens': 325})"
      ]
     },
     "execution_count": 30,
     "metadata": {},
     "output_type": "execute_result"
    }
   ],
   "source": [
    "response = llm_with_tools.invoke(\"what is the weather in Delhi?\")\n",
    "\n",
    "response"
   ]
  },
  {
   "cell_type": "code",
   "execution_count": 31,
   "id": "4381df71",
   "metadata": {},
   "outputs": [
    {
     "data": {
      "text/plain": [
       "''"
      ]
     },
     "execution_count": 31,
     "metadata": {},
     "output_type": "execute_result"
    }
   ],
   "source": [
    "response.content"
   ]
  },
  {
   "cell_type": "code",
   "execution_count": 32,
   "metadata": {},
   "outputs": [
    {
     "data": {
      "text/plain": [
       "[{'name': 'search',\n",
       "  'args': {'query': 'weather in Delhi'},\n",
       "  'id': 'brr4tandg',\n",
       "  'type': 'tool_call'}]"
      ]
     },
     "execution_count": 32,
     "metadata": {},
     "output_type": "execute_result"
    }
   ],
   "source": [
    "response.tool_calls"
   ]
  },
  {
   "cell_type": "code",
   "execution_count": 33,
   "id": "6d5c37a3",
   "metadata": {},
   "outputs": [],
   "source": [
    "def call_model(state:MessagesState):\n",
    "    question = state[\"messages\"]\n",
    "    response = llm_with_tools.invoke(question)\n",
    "    return {\"messages\":[response]}"
   ]
  },
  {
   "cell_type": "code",
   "execution_count": 34,
   "id": "6ca0440a",
   "metadata": {},
   "outputs": [],
   "source": [
    "input={\"messages\":[\"what is a weather in delhi?\"]}"
   ]
  },
  {
   "cell_type": "code",
   "execution_count": 35,
   "id": "91e47edb",
   "metadata": {},
   "outputs": [],
   "source": [
    "response=call_model(input)"
   ]
  },
  {
   "cell_type": "code",
   "execution_count": 36,
   "id": "10aa212c",
   "metadata": {},
   "outputs": [
    {
     "data": {
      "text/plain": [
       "''"
      ]
     },
     "execution_count": 36,
     "metadata": {},
     "output_type": "execute_result"
    }
   ],
   "source": [
    "response[\"messages\"][-1].content"
   ]
  },
  {
   "cell_type": "code",
   "execution_count": 37,
   "id": "6ec256da",
   "metadata": {},
   "outputs": [
    {
     "data": {
      "text/plain": [
       "[{'name': 'search',\n",
       "  'args': {'query': 'Delhi weather'},\n",
       "  'id': '08wdj06dx',\n",
       "  'type': 'tool_call'}]"
      ]
     },
     "execution_count": 37,
     "metadata": {},
     "output_type": "execute_result"
    }
   ],
   "source": [
    "response[\"messages\"][-1].tool_calls"
   ]
  },
  {
   "cell_type": "markdown",
   "id": "7bd889c5",
   "metadata": {},
   "source": [
    "### Create a router function\n",
    "\n",
    "now whatever will come from call_model router funtion will redirect this to the appropriate tool"
   ]
  },
  {
   "cell_type": "code",
   "execution_count": 38,
   "id": "1761e58a",
   "metadata": {},
   "outputs": [],
   "source": [
    "def router_func(state: MessagesState):\n",
    "    message = state[\"messages\"]\n",
    "    last_message = message[-1]\n",
    "    if last_message.tool_calls:\n",
    "        return \"tools\"\n",
    "    return END"
   ]
  },
  {
   "cell_type": "code",
   "execution_count": 39,
   "id": "dde76592",
   "metadata": {},
   "outputs": [
    {
     "data": {
      "text/plain": [
       "[StructuredTool(name='search', description='this is a custom tool for weather', args_schema=<class 'langchain_core.utils.pydantic.search'>, func=<function search at 0x000001C9BF2532E0>)]"
      ]
     },
     "execution_count": 39,
     "metadata": {},
     "output_type": "execute_result"
    }
   ],
   "source": [
    "tools"
   ]
  },
  {
   "cell_type": "code",
   "execution_count": 40,
   "id": "2748c189",
   "metadata": {},
   "outputs": [],
   "source": [
    "tool_node = ToolNode(tools)"
   ]
  },
  {
   "cell_type": "code",
   "execution_count": 41,
   "id": "d471f8d9",
   "metadata": {},
   "outputs": [
    {
     "data": {
      "text/plain": [
       "tools(tags=None, recurse=True, explode_args=False, func_accepts_config=True, func_accepts={'store': ('__pregel_store', None)}, tools_by_name={'search': StructuredTool(name='search', description='this is a custom tool for weather', args_schema=<class 'langchain_core.utils.pydantic.search'>, func=<function search at 0x000001C9BF2532E0>)}, tool_to_state_args={'search': {}}, tool_to_store_arg={'search': None}, handle_tool_errors=True, messages_key='messages')"
      ]
     },
     "execution_count": 41,
     "metadata": {},
     "output_type": "execute_result"
    }
   ],
   "source": [
    "tool_node"
   ]
  },
  {
   "cell_type": "code",
   "execution_count": 42,
   "id": "ca3f72af",
   "metadata": {},
   "outputs": [],
   "source": [
    "workflow2 = StateGraph(MessagesState)"
   ]
  },
  {
   "cell_type": "code",
   "execution_count": 43,
   "id": "f0c0a94b",
   "metadata": {},
   "outputs": [
    {
     "data": {
      "text/plain": [
       "<langgraph.graph.state.StateGraph at 0x1c9b057e870>"
      ]
     },
     "execution_count": 43,
     "metadata": {},
     "output_type": "execute_result"
    }
   ],
   "source": [
    "workflow2.add_node(\"llmwithtool\",call_model)\n",
    "\n",
    "workflow2.add_node(\"mytools\",tool_node)\n",
    "\n",
    "workflow2.add_edge(START,\"llmwithtool\")\n",
    "\n",
    "workflow2.add_conditional_edges(\"llmwithtool\",\n",
    "                                router_func,\n",
    "                                {\"tools\":\"mytools\",\n",
    "                                 END:END})"
   ]
  },
  {
   "cell_type": "code",
   "execution_count": 45,
   "id": "fc305538",
   "metadata": {},
   "outputs": [
    {
     "data": {
      "image/png": "[encoded data removed]",
      "text/plain": [
       "<IPython.core.display.Image object>"
      ]
     },
     "metadata": {},
     "output_type": "display_data"
    }
   ],
   "source": [
    "app2 = workflow2.compile()\n",
    "\n",
    "display(Image(app2.get_graph().draw_mermaid_png()))"
   ]
  },
  {
   "cell_type": "code",
   "execution_count": 46,
   "id": "f222ab8e",
   "metadata": {},
   "outputs": [],
   "source": [
    "response=app2.invoke({\"messages\":[\"what is a weather in bengraluru?\"]})"
   ]
  },
  {
   "cell_type": "code",
   "execution_count": 47,
   "id": "f6d16b33",
   "metadata": {},
   "outputs": [
    {
     "data": {
      "text/plain": [
       "'The temp is 25 degrees and cloudy'"
      ]
     },
     "execution_count": 47,
     "metadata": {},
     "output_type": "execute_result"
    }
   ],
   "source": [
    "response[\"messages\"][-1].content"
   ]
  },
  {
   "cell_type": "code",
   "execution_count": 48,
   "id": "bbc58d82",
   "metadata": {},
   "outputs": [
    {
     "data": {
      "text/plain": [
       "{'messages': [HumanMessage(content='what is a weather in delhi?', additional_kwargs={}, response_metadata={}, id='4f11a06c-cec2-4045-ba05-d4afb4d9b060'),\n",
       "  AIMessage(content='', additional_kwargs={'tool_calls': [{'id': 'vrw71em6f', 'function': {'arguments': '{\"query\":\"weather in Delhi\"}', 'name': 'search'}, 'type': 'function'}]}, response_metadata={'token_usage': {'completion_tokens': 111, 'prompt_tokens': 131, 'total_tokens': 242, 'completion_time': 0.511399055, 'prompt_time': 0.008439734, 'queue_time': 0.075758406, 'total_time': 0.519838789}, 'model_name': 'deepseek-r1-distill-llama-70b', 'system_fingerprint': 'fp_1bbe7845ec', 'finish_reason': 'tool_calls', 'logprobs': None}, id='run--0a864cce-9b17-460e-adf5-cc53d071ade4-0', tool_calls=[{'name': 'search', 'args': {'query': 'weather in Delhi'}, 'id': 'vrw71em6f', 'type': 'tool_call'}], usage_metadata={'input_tokens': 131, 'output_tokens': 111, 'total_tokens': 242}),\n",
       "  ToolMessage(content='The temp is 45 degrees and sunny', name='search', id='6cf7ae79-bb78-44a0-8460-648bb5ab73c1', tool_call_id='vrw71em6f')]}"
      ]
     },
     "execution_count": 48,
     "metadata": {},
     "output_type": "execute_result"
    }
   ],
   "source": [
    "app2.invoke({\"messages\":[\"what is a weather in delhi?\"]})"
   ]
  },
  {
   "cell_type": "code",
   "execution_count": 49,
   "id": "d6d7b2e9",
   "metadata": {},
   "outputs": [
    {
     "data": {
      "text/plain": [
       "{'messages': [HumanMessage(content='hi how are you?', additional_kwargs={}, response_metadata={}, id='52374b02-ed3b-42de-b51a-8e98f7b452af'),\n",
       "  AIMessage(content=\"Hello! I'm just an AI, so I don't have feelings, but I'm here and ready to help you. How can I assist you today?\", additional_kwargs={}, response_metadata={'token_usage': {'completion_tokens': 291, 'prompt_tokens': 128, 'total_tokens': 419, 'completion_time': 1.224889701, 'prompt_time': 0.008216616, 'queue_time': 0.052904854, 'total_time': 1.233106317}, 'model_name': 'deepseek-r1-distill-llama-70b', 'system_fingerprint': 'fp_1bbe7845ec', 'finish_reason': 'stop', 'logprobs': None}, id='run--e31a49cc-89b8-4144-a6ee-78b65cebbd84-0', usage_metadata={'input_tokens': 128, 'output_tokens': 291, 'total_tokens': 419})]}"
      ]
     },
     "execution_count": 49,
     "metadata": {},
     "output_type": "execute_result"
    }
   ],
   "source": [
    "app2.invoke({\"messages\":[\"hi how are you?\"]})"
   ]
  },
  {
   "cell_type": "code",
   "execution_count": 50,
   "metadata": {},
   "outputs": [
    {
     "name": "stderr",
     "output_type": "stream",
     "text": [
      "Adding an edge to a graph that has already been compiled. This will not be reflected in the compiled graph.\n"
     ]
    },
    {
     "data": {
      "text/plain": [
       "<langgraph.graph.state.StateGraph at 0x1c9b057e870>"
      ]
     },
     "execution_count": 50,
     "metadata": {},
     "output_type": "execute_result"
    }
   ],
   "source": [
    "workflow2.add_edge(\"mytools\",\"llmwithtool\")"
   ]
  },
  {
   "cell_type": "code",
   "execution_count": 51,
   "id": "df99bc3c",
   "metadata": {},
   "outputs": [],
   "source": [
    "app3 = workflow2.compile()"
   ]
  },
  {
   "cell_type": "code",
   "execution_count": 52,
   "id": "7d80460c",
   "metadata": {},
   "outputs": [
    {
     "data": {
      "image/png": "[encoded data removed]",
      "text/plain": [
       "<IPython.core.display.Image object>"
      ]
     },
     "metadata": {},
     "output_type": "display_data"
    }
   ],
   "source": [
    "from IPython.display import Image, display\n",
    "display(Image(app3.get_graph().draw_mermaid_png()))"
   ]
  },
  {
   "cell_type": "code",
   "execution_count": 53,
   "metadata": {},
   "outputs": [
    {
     "name": "stdout",
     "output_type": "stream",
     "text": [
      "here is output from llmwithtool\n",
      "_______\n",
      "{'messages': [AIMessage(content='', additional_kwargs={'tool_calls': [{'id': '1atydr5d9', 'function': {'arguments': '{\"query\":\"weather in New Delhi\"}', 'name': 'search'}, 'type': 'function'}]}, response_metadata={'token_usage': {'completion_tokens': 244, 'prompt_tokens': 132, 'total_tokens': 376, 'completion_time': 1.06911113, 'prompt_time': 0.008476521, 'queue_time': 0.05346409, 'total_time': 1.077587651}, 'model_name': 'deepseek-r1-distill-llama-70b', 'system_fingerprint': 'fp_1bbe7845ec', 'finish_reason': 'tool_calls', 'logprobs': None}, id='run--d7d4880d-802b-4dd8-a2c2-4ae859404f78-0', tool_calls=[{'name': 'search', 'args': {'query': 'weather in New Delhi'}, 'id': '1atydr5d9', 'type': 'tool_call'}], usage_metadata={'input_tokens': 132, 'output_tokens': 244, 'total_tokens': 376})]}\n",
      "\n",
      "\n",
      "here is output from mytools\n",
      "_______\n",
      "{'messages': [ToolMessage(content='The temp is 45 degrees and sunny', name='search', id='e05e61c8-9fd0-4047-b033-8c7e1978c89a', tool_call_id='1atydr5d9')]}\n",
      "\n",
      "\n",
      "here is output from llmwithtool\n",
      "_______\n",
      "{'messages': [AIMessage(content='', additional_kwargs={'tool_calls': [{'id': 'bhtrkrybz', 'function': {'arguments': '{\"query\":\"weather in New Delhi\"}', 'name': 'search'}, 'type': 'function'}]}, response_metadata={'token_usage': {'completion_tokens': 238, 'prompt_tokens': 191, 'total_tokens': 429, 'completion_time': 1.158703043, 'prompt_time': 0.018324501, 'queue_time': 0.055152940000000004, 'total_time': 1.177027544}, 'model_name': 'deepseek-r1-distill-llama-70b', 'system_fingerprint': 'fp_1bbe7845ec', 'finish_reason': 'tool_calls', 'logprobs': None}, id='run--b8229d04-880d-4d6c-815c-46373e9bffad-0', tool_calls=[{'name': 'search', 'args': {'query': 'weather in New Delhi'}, 'id': 'bhtrkrybz', 'type': 'tool_call'}], usage_metadata={'input_tokens': 191, 'output_tokens': 238, 'total_tokens': 429})]}\n",
      "\n",
      "\n",
      "here is output from mytools\n",
      "_______\n",
      "{'messages': [ToolMessage(content='The temp is 45 degrees and sunny', name='search', id='04e61734-2128-4226-9785-fc2e81f2b102', tool_call_id='bhtrkrybz')]}\n",
      "\n",
      "\n",
      "here is output from llmwithtool\n",
      "_______\n",
      "{'messages': [AIMessage(content='', additional_kwargs={'tool_calls': [{'id': 'b483xbtbz', 'function': {'arguments': '{\"query\":\"weather in New Delhi\"}', 'name': 'search'}, 'type': 'function'}]}, response_metadata={'token_usage': {'completion_tokens': 201, 'prompt_tokens': 249, 'total_tokens': 450, 'completion_time': 0.889916723, 'prompt_time': 0.016239615, 'queue_time': 0.05404608500000001, 'total_time': 0.906156338}, 'model_name': 'deepseek-r1-distill-llama-70b', 'system_fingerprint': 'fp_1bbe7845ec', 'finish_reason': 'tool_calls', 'logprobs': None}, id='run--c3ccbf78-77b5-4ffb-916e-9bf0e23c3e18-0', tool_calls=[{'name': 'search', 'args': {'query': 'weather in New Delhi'}, 'id': 'b483xbtbz', 'type': 'tool_call'}], usage_metadata={'input_tokens': 249, 'output_tokens': 201, 'total_tokens': 450})]}\n",
      "\n",
      "\n",
      "here is output from mytools\n",
      "_______\n",
      "{'messages': [ToolMessage(content='The temp is 45 degrees and sunny', name='search', id='02545d44-2c6c-4d04-b675-008f3782ca2a', tool_call_id='b483xbtbz')]}\n",
      "\n",
      "\n",
      "here is output from llmwithtool\n",
      "_______\n",
      "{'messages': [AIMessage(content='', additional_kwargs={'tool_calls': [{'id': '0g5ajya7d', 'function': {'arguments': '{\"query\":\"weather in New Delhi\"}', 'name': 'search'}, 'type': 'function'}]}, response_metadata={'token_usage': {'completion_tokens': 224, 'prompt_tokens': 307, 'total_tokens': 531, 'completion_time': 0.943230131, 'prompt_time': 0.019523021, 'queue_time': 0.053288328999999995, 'total_time': 0.962753152}, 'model_name': 'deepseek-r1-distill-llama-70b', 'system_fingerprint': 'fp_1bbe7845ec', 'finish_reason': 'tool_calls', 'logprobs': None}, id='run--5bb2551d-9a4e-4958-be76-fe14ada67a72-0', tool_calls=[{'name': 'search', 'args': {'query': 'weather in New Delhi'}, 'id': '0g5ajya7d', 'type': 'tool_call'}], usage_metadata={'input_tokens': 307, 'output_tokens': 224, 'total_tokens': 531})]}\n",
      "\n",
      "\n",
      "here is output from mytools\n",
      "_______\n",
      "{'messages': [ToolMessage(content='The temp is 45 degrees and sunny', name='search', id='967d65f0-4c5b-4833-9fe6-066a31f8ef20', tool_call_id='0g5ajya7d')]}\n",
      "\n",
      "\n",
      "here is output from llmwithtool\n",
      "_______\n",
      "{'messages': [AIMessage(content='', additional_kwargs={'tool_calls': [{'id': '6gvn2cv3d', 'function': {'arguments': '{\"query\":\"weather in New Delhi\"}', 'name': 'search'}, 'type': 'function'}]}, response_metadata={'token_usage': {'completion_tokens': 54, 'prompt_tokens': 367, 'total_tokens': 421, 'completion_time': 0.196363636, 'prompt_time': 0.024237764, 'queue_time': 0.05500381600000001, 'total_time': 0.2206014}, 'model_name': 'deepseek-r1-distill-llama-70b', 'system_fingerprint': 'fp_1bbe7845ec', 'finish_reason': 'tool_calls', 'logprobs': None}, id='run--7e505150-3494-455c-af8a-6855663a77e4-0', tool_calls=[{'name': 'search', 'args': {'query': 'weather in New Delhi'}, 'id': '6gvn2cv3d', 'type': 'tool_call'}], usage_metadata={'input_tokens': 367, 'output_tokens': 54, 'total_tokens': 421})]}\n",
      "\n",
      "\n",
      "here is output from mytools\n",
      "_______\n",
      "{'messages': [ToolMessage(content='The temp is 45 degrees and sunny', name='search', id='10223db0-e652-4306-aed3-a3c235f1a35a', tool_call_id='6gvn2cv3d')]}\n",
      "\n",
      "\n",
      "here is output from llmwithtool\n",
      "_______\n",
      "{'messages': [AIMessage(content='', additional_kwargs={'tool_calls': [{'id': 'aczdr0jd7', 'function': {'arguments': '{\"query\":\"weather in New Delhi\"}', 'name': 'search'}, 'type': 'function'}]}, response_metadata={'token_usage': {'completion_tokens': 42, 'prompt_tokens': 427, 'total_tokens': 469, 'completion_time': 0.196731374, 'prompt_time': 0.027400161, 'queue_time': 0.053389747999999994, 'total_time': 0.224131535}, 'model_name': 'deepseek-r1-distill-llama-70b', 'system_fingerprint': 'fp_1bbe7845ec', 'finish_reason': 'tool_calls', 'logprobs': None}, id='run--954bfadf-d057-413d-af25-39e8b0b54025-0', tool_calls=[{'name': 'search', 'args': {'query': 'weather in New Delhi'}, 'id': 'aczdr0jd7', 'type': 'tool_call'}], usage_metadata={'input_tokens': 427, 'output_tokens': 42, 'total_tokens': 469})]}\n",
      "\n",
      "\n",
      "here is output from mytools\n",
      "_______\n",
      "{'messages': [ToolMessage(content='The temp is 45 degrees and sunny', name='search', id='94b0dd2a-95c8-4482-bdc0-9fbd27cffe4c', tool_call_id='aczdr0jd7')]}\n",
      "\n",
      "\n",
      "here is output from llmwithtool\n",
      "_______\n",
      "{'messages': [AIMessage(content='', additional_kwargs={'tool_calls': [{'id': 'mfm3pahvj', 'function': {'arguments': '{\"query\":\"weather in New Delhi\"}', 'name': 'search'}, 'type': 'function'}]}, response_metadata={'token_usage': {'completion_tokens': 100, 'prompt_tokens': 485, 'total_tokens': 585, 'completion_time': 0.363636364, 'prompt_time': 0.037106163, 'queue_time': 0.053406287, 'total_time': 0.400742527}, 'model_name': 'deepseek-r1-distill-llama-70b', 'system_fingerprint': 'fp_1bbe7845ec', 'finish_reason': 'tool_calls', 'logprobs': None}, id='run--40856a1b-d75c-4720-b68b-5fc5b39c4443-0', tool_calls=[{'name': 'search', 'args': {'query': 'weather in New Delhi'}, 'id': 'mfm3pahvj', 'type': 'tool_call'}], usage_metadata={'input_tokens': 485, 'output_tokens': 100, 'total_tokens': 585})]}\n",
      "\n",
      "\n",
      "here is output from mytools\n",
      "_______\n",
      "{'messages': [ToolMessage(content='The temp is 45 degrees and sunny', name='search', id='2544f34c-5b8d-4df2-af6f-233e3197868e', tool_call_id='mfm3pahvj')]}\n",
      "\n",
      "\n",
      "here is output from llmwithtool\n",
      "_______\n",
      "{'messages': [AIMessage(content='', additional_kwargs={'tool_calls': [{'id': '8y7tpvtgq', 'function': {'arguments': '{\"query\":\"weather in New Delhi\"}', 'name': 'search'}, 'type': 'function'}]}, response_metadata={'token_usage': {'completion_tokens': 35, 'prompt_tokens': 544, 'total_tokens': 579, 'completion_time': 0.136669215, 'prompt_time': 0.035068126, 'queue_time': 0.053627564999999995, 'total_time': 0.171737341}, 'model_name': 'deepseek-r1-distill-llama-70b', 'system_fingerprint': 'fp_1bbe7845ec', 'finish_reason': 'tool_calls', 'logprobs': None}, id='run--31851234-084b-492b-87d5-6f10857d909b-0', tool_calls=[{'name': 'search', 'args': {'query': 'weather in New Delhi'}, 'id': '8y7tpvtgq', 'type': 'tool_call'}], usage_metadata={'input_tokens': 544, 'output_tokens': 35, 'total_tokens': 579})]}\n",
      "\n",
      "\n",
      "here is output from mytools\n",
      "_______\n",
      "{'messages': [ToolMessage(content='The temp is 45 degrees and sunny', name='search', id='8748a1c9-6978-48bc-b7ca-40d97fa0df21', tool_call_id='8y7tpvtgq')]}\n",
      "\n",
      "\n",
      "here is output from llmwithtool\n",
      "_______\n",
      "{'messages': [AIMessage(content='', additional_kwargs={'tool_calls': [{'id': 'ndd9zb76a', 'function': {'arguments': '{\"query\":\"weather in New Delhi\"}', 'name': 'search'}, 'type': 'function'}]}, response_metadata={'token_usage': {'completion_tokens': 61, 'prompt_tokens': 604, 'total_tokens': 665, 'completion_time': 0.221818182, 'prompt_time': 0.039482035, 'queue_time': 0.053656285, 'total_time': 0.261300217}, 'model_name': 'deepseek-r1-distill-llama-70b', 'system_fingerprint': 'fp_1bbe7845ec', 'finish_reason': 'tool_calls', 'logprobs': None}, id='run--01302e15-25cc-422b-bbdb-c929b96229ba-0', tool_calls=[{'name': 'search', 'args': {'query': 'weather in New Delhi'}, 'id': 'ndd9zb76a', 'type': 'tool_call'}], usage_metadata={'input_tokens': 604, 'output_tokens': 61, 'total_tokens': 665})]}\n",
      "\n",
      "\n",
      "here is output from mytools\n",
      "_______\n",
      "{'messages': [ToolMessage(content='The temp is 45 degrees and sunny', name='search', id='3bfa9bc6-13b1-4500-996b-5422409eabb1', tool_call_id='ndd9zb76a')]}\n",
      "\n",
      "\n",
      "here is output from llmwithtool\n",
      "_______\n",
      "{'messages': [AIMessage(content='', additional_kwargs={'tool_calls': [{'id': 'jncc1sf4h', 'function': {'arguments': '{\"query\":\"weather in New Delhi\"}', 'name': 'search'}, 'type': 'function'}]}, response_metadata={'token_usage': {'completion_tokens': 76, 'prompt_tokens': 663, 'total_tokens': 739, 'completion_time': 0.276363636, 'prompt_time': 0.050333887, 'queue_time': 0.055175164000000006, 'total_time': 0.326697523}, 'model_name': 'deepseek-r1-distill-llama-70b', 'system_fingerprint': 'fp_1bbe7845ec', 'finish_reason': 'tool_calls', 'logprobs': None}, id='run--a58a4fe5-fd61-4741-878f-a694fa2ce533-0', tool_calls=[{'name': 'search', 'args': {'query': 'weather in New Delhi'}, 'id': 'jncc1sf4h', 'type': 'tool_call'}], usage_metadata={'input_tokens': 663, 'output_tokens': 76, 'total_tokens': 739})]}\n",
      "\n",
      "\n",
      "here is output from mytools\n",
      "_______\n",
      "{'messages': [ToolMessage(content='The temp is 45 degrees and sunny', name='search', id='bf4ae544-e9a8-4ac8-84bd-faa69f74a607', tool_call_id='jncc1sf4h')]}\n",
      "\n",
      "\n",
      "here is output from llmwithtool\n",
      "_______\n",
      "{'messages': [AIMessage(content='', additional_kwargs={'tool_calls': [{'id': 'qk3gehszk', 'function': {'arguments': '{\"query\":\"weather in New Delhi\"}', 'name': 'search'}, 'type': 'function'}]}, response_metadata={'token_usage': {'completion_tokens': 583, 'prompt_tokens': 722, 'total_tokens': 1305, 'completion_time': 2.531476128, 'prompt_time': 0.047217308, 'queue_time': 0.053062212, 'total_time': 2.578693436}, 'model_name': 'deepseek-r1-distill-llama-70b', 'system_fingerprint': 'fp_1bbe7845ec', 'finish_reason': 'tool_calls', 'logprobs': None}, id='run--06813a9f-250a-40a3-8fb8-04b3188a190d-0', tool_calls=[{'name': 'search', 'args': {'query': 'weather in New Delhi'}, 'id': 'qk3gehszk', 'type': 'tool_call'}], usage_metadata={'input_tokens': 722, 'output_tokens': 583, 'total_tokens': 1305})]}\n",
      "\n",
      "\n",
      "here is output from mytools\n",
      "_______\n",
      "{'messages': [ToolMessage(content='The temp is 45 degrees and sunny', name='search', id='73d93cd8-fe01-4523-9fe5-2073d8662729', tool_call_id='qk3gehszk')]}\n",
      "\n",
      "\n",
      "here is output from llmwithtool\n",
      "_______\n",
      "{'messages': [AIMessage(content='', additional_kwargs={'tool_calls': [{'id': '7sghxtx7g', 'function': {'arguments': '{\"query\":\"weather in New Delhi\"}', 'name': 'search'}, 'type': 'function'}]}, response_metadata={'token_usage': {'completion_tokens': 732, 'prompt_tokens': 781, 'total_tokens': 1513, 'completion_time': 2.661818182, 'prompt_time': 0.058383515, 'queue_time': 0.052897575, 'total_time': 2.7202016970000003}, 'model_name': 'deepseek-r1-distill-llama-70b', 'system_fingerprint': 'fp_1bbe7845ec', 'finish_reason': 'tool_calls', 'logprobs': None}, id='run--be78185f-6700-4292-af39-cb93b9348747-0', tool_calls=[{'name': 'search', 'args': {'query': 'weather in New Delhi'}, 'id': '7sghxtx7g', 'type': 'tool_call'}], usage_metadata={'input_tokens': 781, 'output_tokens': 732, 'total_tokens': 1513})]}\n",
      "\n",
      "\n",
      "here is output from mytools\n",
      "_______\n",
      "{'messages': [ToolMessage(content='The temp is 45 degrees and sunny', name='search', id='e4fa5196-a9de-46a4-a989-4f701f27ef52', tool_call_id='7sghxtx7g')]}\n",
      "\n",
      "\n",
      "here is output from llmwithtool\n",
      "_______\n",
      "{'messages': [AIMessage(content='', additional_kwargs={'tool_calls': [{'id': 'z0zy17t0x', 'function': {'arguments': '{\"query\":\"weather in New Delhi\"}', 'name': 'search'}, 'type': 'function'}]}, response_metadata={'token_usage': {'completion_tokens': 170, 'prompt_tokens': 841, 'total_tokens': 1011, 'completion_time': 0.753588103, 'prompt_time': 0.061787438, 'queue_time': 0.052811432000000005, 'total_time': 0.815375541}, 'model_name': 'deepseek-r1-distill-llama-70b', 'system_fingerprint': 'fp_1bbe7845ec', 'finish_reason': 'tool_calls', 'logprobs': None}, id='run--c7915027-57be-4f87-b0b4-8055ed249941-0', tool_calls=[{'name': 'search', 'args': {'query': 'weather in New Delhi'}, 'id': 'z0zy17t0x', 'type': 'tool_call'}], usage_metadata={'input_tokens': 841, 'output_tokens': 170, 'total_tokens': 1011})]}\n",
      "\n",
      "\n"
     ]
    },
    {
     "ename": "GraphRecursionError",
     "evalue": "Recursion limit of 25 reached without hitting a stop condition. You can increase the limit by setting the `recursion_limit` config key.\nFor troubleshooting, visit: https://python.langchain.com/docs/troubleshooting/errors/GRAPH_RECURSION_LIMIT",
     "output_type": "error",
     "traceback": [
      "\u001b[31m---------------------------------------------------------------------------\u001b[39m",
      "\u001b[31mGraphRecursionError\u001b[39m                       Traceback (most recent call last)",
      "\u001b[36mCell\u001b[39m\u001b[36m \u001b[39m\u001b[32mIn[53]\u001b[39m\u001b[32m, line 1\u001b[39m\n\u001b[32m----> \u001b[39m\u001b[32m1\u001b[39m \u001b[38;5;28;43;01mfor\u001b[39;49;00m\u001b[43m \u001b[49m\u001b[43moutput\u001b[49m\u001b[43m \u001b[49m\u001b[38;5;129;43;01min\u001b[39;49;00m\u001b[43m \u001b[49m\u001b[43mapp3\u001b[49m\u001b[43m.\u001b[49m\u001b[43mstream\u001b[49m\u001b[43m(\u001b[49m\u001b[43m{\u001b[49m\u001b[33;43m\"\u001b[39;49m\u001b[33;43mmessages\u001b[39;49m\u001b[33;43m\"\u001b[39;49m\u001b[43m:\u001b[49m\u001b[43m[\u001b[49m\u001b[33;43m\"\u001b[39;49m\u001b[33;43mwhat is a weather in new delhi?\u001b[39;49m\u001b[33;43m\"\u001b[39;49m\u001b[43m]\u001b[49m\u001b[43m}\u001b[49m\u001b[43m)\u001b[49m\u001b[43m:\u001b[49m\n\u001b[32m      2\u001b[39m \u001b[43m    \u001b[49m\u001b[38;5;28;43;01mfor\u001b[39;49;00m\u001b[43m \u001b[49m\u001b[43mkey\u001b[49m\u001b[43m,\u001b[49m\u001b[43mvalue\u001b[49m\u001b[43m \u001b[49m\u001b[38;5;129;43;01min\u001b[39;49;00m\u001b[43m \u001b[49m\u001b[43moutput\u001b[49m\u001b[43m.\u001b[49m\u001b[43mitems\u001b[49m\u001b[43m(\u001b[49m\u001b[43m)\u001b[49m\u001b[43m:\u001b[49m\n\u001b[32m      3\u001b[39m \u001b[43m        \u001b[49m\u001b[38;5;28;43mprint\u001b[39;49m\u001b[43m(\u001b[49m\u001b[33;43mf\u001b[39;49m\u001b[33;43m\"\u001b[39;49m\u001b[33;43mhere is output from \u001b[39;49m\u001b[38;5;132;43;01m{\u001b[39;49;00m\u001b[43mkey\u001b[49m\u001b[38;5;132;43;01m}\u001b[39;49;00m\u001b[33;43m\"\u001b[39;49m\u001b[43m)\u001b[49m\n",
      "\u001b[36mFile \u001b[39m\u001b[32mc:\\Users\\User\\miniconda3\\envs\\agents\\Lib\\site-packages\\langgraph\\pregel\\__init__.py:2456\u001b[39m, in \u001b[36mPregel.stream\u001b[39m\u001b[34m(self, input, config, stream_mode, output_keys, interrupt_before, interrupt_after, checkpoint_during, debug, subgraphs)\u001b[39m\n\u001b[32m   2447\u001b[39m \u001b[38;5;28;01mif\u001b[39;00m loop.status == \u001b[33m\"\u001b[39m\u001b[33mout_of_steps\u001b[39m\u001b[33m\"\u001b[39m:\n\u001b[32m   2448\u001b[39m     msg = create_error_message(\n\u001b[32m   2449\u001b[39m         message=(\n\u001b[32m   2450\u001b[39m             \u001b[33mf\u001b[39m\u001b[33m\"\u001b[39m\u001b[33mRecursion limit of \u001b[39m\u001b[38;5;132;01m{\u001b[39;00mconfig[\u001b[33m'\u001b[39m\u001b[33mrecursion_limit\u001b[39m\u001b[33m'\u001b[39m]\u001b[38;5;132;01m}\u001b[39;00m\u001b[33m reached \u001b[39m\u001b[33m\"\u001b[39m\n\u001b[32m   (...)\u001b[39m\u001b[32m   2454\u001b[39m         error_code=ErrorCode.GRAPH_RECURSION_LIMIT,\n\u001b[32m   2455\u001b[39m     )\n\u001b[32m-> \u001b[39m\u001b[32m2456\u001b[39m     \u001b[38;5;28;01mraise\u001b[39;00m GraphRecursionError(msg)\n\u001b[32m   2457\u001b[39m \u001b[38;5;66;03m# set final channel values as run output\u001b[39;00m\n\u001b[32m   2458\u001b[39m run_manager.on_chain_end(loop.output)\n",
      "\u001b[31mGraphRecursionError\u001b[39m: Recursion limit of 25 reached without hitting a stop condition. You can increase the limit by setting the `recursion_limit` config key.\nFor troubleshooting, visit: https://python.langchain.com/docs/troubleshooting/errors/GRAPH_RECURSION_LIMIT"
     ]
    }
   ],
   "source": [
    "for output in app3.stream({\"messages\":[\"what is a weather in new delhi?\"]}):\n",
    "    for key,value in output.items():\n",
    "        print(f\"here is output from {key}\")\n",
    "        print(\"_______\")\n",
    "        print(value)\n",
    "        print(\"\\n\")"
   ]
  },
  {
   "cell_type": "code",
   "execution_count": 54,
   "id": "479592d5",
   "metadata": {},
   "outputs": [
    {
     "data": {
      "text/plain": [
       "'what is a weather in delhi can you tell me some good hotel for staying in north delhi'"
      ]
     },
     "execution_count": 54,
     "metadata": {},
     "output_type": "execute_result"
    }
   ],
   "source": [
    "\"what is a weather in delhi can you tell me some good hotel for staying in north delhi\""
   ]
  },
  {
   "cell_type": "code",
   "execution_count": 55,
   "id": "b7d80ad1",
   "metadata": {},
   "outputs": [],
   "source": [
    "from langgraph.checkpoint.memory import MemorySaver"
   ]
  },
  {
   "cell_type": "code",
   "execution_count": 56,
   "id": "b5ebb408",
   "metadata": {},
   "outputs": [],
   "source": [
    "memory=MemorySaver()"
   ]
  },
  {
   "cell_type": "code",
   "execution_count": 57,
   "id": "1d8c29be",
   "metadata": {},
   "outputs": [
    {
     "data": {
      "text/plain": [
       "<langgraph.graph.state.StateGraph at 0x1c9b060b3b0>"
      ]
     },
     "execution_count": 57,
     "metadata": {},
     "output_type": "execute_result"
    }
   ],
   "source": [
    "workflow3=StateGraph(MessagesState)\n",
    "\n",
    "workflow3.add_node(\"llmwithtool\",call_model)\n",
    "\n",
    "workflow3.add_node(\"mytools\",tool_node)\n",
    "\n",
    "workflow3.add_edge(START,\"llmwithtool\")\n",
    "\n",
    "workflow3.add_conditional_edges(\"llmwithtool\",\n",
    "                                router_func,\n",
    "                                {\"tools\":\"mytools\",\n",
    "                                 END:END})\n",
    "\n",
    "workflow3.add_edge(\"mytools\",\"llmwithtool\")"
   ]
  },
  {
   "cell_type": "code",
   "execution_count": 58,
   "id": "cc7d4c69",
   "metadata": {},
   "outputs": [],
   "source": [
    "app4 = workflow3.compile(checkpointer=memory)"
   ]
  },
  {
   "cell_type": "code",
   "execution_count": 59,
   "id": "f205da04",
   "metadata": {},
   "outputs": [
    {
     "data": {
      "image/png": "[encoded data removed]",
      "text/plain": [
       "<IPython.core.display.Image object>"
      ]
     },
     "metadata": {},
     "output_type": "display_data"
    }
   ],
   "source": [
    "from IPython.display import Image, display\n",
    "display(Image(app4.get_graph().draw_mermaid_png()))"
   ]
  },
  {
   "cell_type": "code",
   "execution_count": 60,
   "id": "2a807978",
   "metadata": {},
   "outputs": [],
   "source": [
    "config={\"configurable\": {\"thread_id\": \"1\"}}"
   ]
  },
  {
   "cell_type": "code",
   "execution_count": 61,
   "id": "2a72bae8",
   "metadata": {},
   "outputs": [],
   "source": [
    "events=app4.stream(\n",
    "    {\"messages\":[\"what is a weather in new delhi?\"]},config=config,stream_mode=\"values\"\n",
    "    )"
   ]
  },
  {
   "cell_type": "code",
   "execution_count": 62,
   "id": "0da7d339",
   "metadata": {},
   "outputs": [
    {
     "name": "stdout",
     "output_type": "stream",
     "text": [
      "================================\u001b[1m Human Message \u001b[0m=================================\n",
      "\n",
      "what is a weather in new delhi?\n",
      "==================================\u001b[1m Ai Message \u001b[0m==================================\n",
      "Tool Calls:\n",
      "  search (z7x9chhdg)\n",
      " Call ID: z7x9chhdg\n",
      "  Args:\n",
      "    query: weather in New Delhi\n",
      "=================================\u001b[1m Tool Message \u001b[0m=================================\n",
      "Name: search\n",
      "\n",
      "The temp is 45 degrees and sunny\n",
      "==================================\u001b[1m Ai Message \u001b[0m==================================\n",
      "Tool Calls:\n",
      "  search (7v324km3s)\n",
      " Call ID: 7v324km3s\n",
      "  Args:\n",
      "    query: weather in New Delhi\n",
      "=================================\u001b[1m Tool Message \u001b[0m=================================\n",
      "Name: search\n",
      "\n",
      "The temp is 45 degrees and sunny\n",
      "==================================\u001b[1m Ai Message \u001b[0m==================================\n",
      "\n",
      "The weather in New Delhi is 45 degrees and sunny.\n"
     ]
    }
   ],
   "source": [
    "for event in events:\n",
    "    event[\"messages\"][-1].pretty_print()"
   ]
  },
  {
   "cell_type": "code",
   "execution_count": 63,
   "id": "72f59f36",
   "metadata": {},
   "outputs": [],
   "source": [
    "events=app4.stream(\n",
    "    {\"messages\":[\"what is a weather in indore?\"]},config=config,stream_mode=\"values\"\n",
    "    )"
   ]
  },
  {
   "cell_type": "code",
   "execution_count": 64,
   "id": "7f3bb933",
   "metadata": {},
   "outputs": [
    {
     "name": "stdout",
     "output_type": "stream",
     "text": [
      "================================\u001b[1m Human Message \u001b[0m=================================\n",
      "\n",
      "what is a weather in indore?\n",
      "==================================\u001b[1m Ai Message \u001b[0m==================================\n",
      "Tool Calls:\n",
      "  search (njavy643f)\n",
      " Call ID: njavy643f\n",
      "  Args:\n",
      "    query: weather in Indore\n",
      "=================================\u001b[1m Tool Message \u001b[0m=================================\n",
      "Name: search\n",
      "\n",
      "The temp is 25 degrees and cloudy\n",
      "==================================\u001b[1m Ai Message \u001b[0m==================================\n"
     ]
    }
   ],
   "source": [
    "for event in events:\n",
    "    event[\"messages\"][-1].pretty_print()"
   ]
  },
  {
   "cell_type": "code",
   "execution_count": 65,
   "id": "550a7c9a",
   "metadata": {},
   "outputs": [
    {
     "data": {
      "text/plain": [
       "{'configurable': {'thread_id': '1'}}"
      ]
     },
     "execution_count": 65,
     "metadata": {},
     "output_type": "execute_result"
    }
   ],
   "source": [
    "config"
   ]
  },
  {
   "cell_type": "code",
   "execution_count": 66,
   "id": "e8cd88f4",
   "metadata": {},
   "outputs": [
    {
     "data": {
      "text/plain": [
       "{'v': 3,\n",
       " 'ts': '2025-06-14T06:18:53.330184+00:00',\n",
       " 'id': '1f048e77-1dae-6650-800a-c9fdca69ee2a',\n",
       " 'channel_versions': {'__start__': '00000000000000000000000000000009.0.20336642142259664',\n",
       "  'messages': '00000000000000000000000000000012.0.013607460082193379',\n",
       "  'branch:to:llmwithtool': '00000000000000000000000000000012.0.051054862933646916',\n",
       "  'branch:to:mytools': '00000000000000000000000000000011.0.6711725595953016'},\n",
       " 'versions_seen': {'__input__': {},\n",
       "  '__start__': {'__start__': '00000000000000000000000000000008.0.16502439145500525'},\n",
       "  'llmwithtool': {'branch:to:llmwithtool': '00000000000000000000000000000011.0.9721215896119404'},\n",
       "  'mytools': {'branch:to:mytools': '00000000000000000000000000000010.0.9590506101499455'}},\n",
       " 'channel_values': {'messages': [HumanMessage(content='what is a weather in new delhi?', additional_kwargs={}, response_metadata={}, id='a1157a34-2ef9-404e-8d5d-1617ba8a9478'),\n",
       "   AIMessage(content='', additional_kwargs={'tool_calls': [{'id': 'z7x9chhdg', 'function': {'arguments': '{\"query\":\"weather in New Delhi\"}', 'name': 'search'}, 'type': 'function'}]}, response_metadata={'token_usage': {'completion_tokens': 209, 'prompt_tokens': 132, 'total_tokens': 341, 'completion_time': 0.836342589, 'prompt_time': 0.008553988, 'queue_time': 0.058032492000000005, 'total_time': 0.844896577}, 'model_name': 'deepseek-r1-distill-llama-70b', 'system_fingerprint': 'fp_1bbe7845ec', 'finish_reason': 'tool_calls', 'logprobs': None}, id='run--ad17d297-a1fd-4cc8-aa95-ed4ef62db5ba-0', tool_calls=[{'name': 'search', 'args': {'query': 'weather in New Delhi'}, 'id': 'z7x9chhdg', 'type': 'tool_call'}], usage_metadata={'input_tokens': 132, 'output_tokens': 209, 'total_tokens': 341}),\n",
       "   ToolMessage(content='The temp is 45 degrees and sunny', name='search', id='d3c22198-ac0a-4d6a-9dd3-362b49800a7f', tool_call_id='z7x9chhdg'),\n",
       "   AIMessage(content='', additional_kwargs={'tool_calls': [{'id': '7v324km3s', 'function': {'arguments': '{\"query\":\"weather in New Delhi\"}', 'name': 'search'}, 'type': 'function'}]}, response_metadata={'token_usage': {'completion_tokens': 198, 'prompt_tokens': 192, 'total_tokens': 390, 'completion_time': 0.939307721, 'prompt_time': 0.012573392, 'queue_time': 0.058005101, 'total_time': 0.951881113}, 'model_name': 'deepseek-r1-distill-llama-70b', 'system_fingerprint': 'fp_1bbe7845ec', 'finish_reason': 'tool_calls', 'logprobs': None}, id='run--92f4d596-57cb-4905-a859-6c09feb88b59-0', tool_calls=[{'name': 'search', 'args': {'query': 'weather in New Delhi'}, 'id': '7v324km3s', 'type': 'tool_call'}], usage_metadata={'input_tokens': 192, 'output_tokens': 198, 'total_tokens': 390}),\n",
       "   ToolMessage(content='The temp is 45 degrees and sunny', name='search', id='03a339cb-1f77-4fc4-a81e-a6c346a8707b', tool_call_id='7v324km3s'),\n",
       "   AIMessage(content='The weather in New Delhi is 45 degrees and sunny.', additional_kwargs={}, response_metadata={'token_usage': {'completion_tokens': 97, 'prompt_tokens': 251, 'total_tokens': 348, 'completion_time': 0.490318012, 'prompt_time': 0.018040111, 'queue_time': 0.056983879, 'total_time': 0.508358123}, 'model_name': 'deepseek-r1-distill-llama-70b', 'system_fingerprint': 'fp_1bbe7845ec', 'finish_reason': 'stop', 'logprobs': None}, id='run--0d9ad9ed-db7f-4263-9856-6cd3b87578fe-0', usage_metadata={'input_tokens': 251, 'output_tokens': 97, 'total_tokens': 348}),\n",
       "   HumanMessage(content='what is a weather in indore?', additional_kwargs={}, response_metadata={}, id='2ffa6147-adcc-402b-a28b-8e823a7b2ede'),\n",
       "   AIMessage(content='', additional_kwargs={'tool_calls': [{'id': 'njavy643f', 'function': {'arguments': '{\"query\":\"weather in Indore\"}', 'name': 'search'}, 'type': 'function'}]}, response_metadata={'token_usage': {'completion_tokens': 183, 'prompt_tokens': 262, 'total_tokens': 445, 'completion_time': 0.828282059, 'prompt_time': 0.024617672, 'queue_time': 0.054002548000000004, 'total_time': 0.852899731}, 'model_name': 'deepseek-r1-distill-llama-70b', 'system_fingerprint': 'fp_1bbe7845ec', 'finish_reason': 'tool_calls', 'logprobs': None}, id='run--704e7896-7fee-440e-b4fb-3f025343c79b-0', tool_calls=[{'name': 'search', 'args': {'query': 'weather in Indore'}, 'id': 'njavy643f', 'type': 'tool_call'}], usage_metadata={'input_tokens': 262, 'output_tokens': 183, 'total_tokens': 445}),\n",
       "   ToolMessage(content='The temp is 25 degrees and cloudy', name='search', id='1063c19a-ba4b-41ea-8e5e-93b059babb93', tool_call_id='njavy643f'),\n",
       "   AIMessage(content='', additional_kwargs={}, response_metadata={'token_usage': {'completion_tokens': 20, 'prompt_tokens': 319, 'total_tokens': 339, 'completion_time': 0.077525713, 'prompt_time': 0.020198604, 'queue_time': 0.056952956, 'total_time': 0.097724317}, 'model_name': 'deepseek-r1-distill-llama-70b', 'system_fingerprint': 'fp_1bbe7845ec', 'finish_reason': 'stop', 'logprobs': None}, id='run--54680994-c4f9-4522-a9b9-4aedf08d5a3c-0', usage_metadata={'input_tokens': 319, 'output_tokens': 20, 'total_tokens': 339})]},\n",
       " 'pending_sends': []}"
      ]
     },
     "execution_count": 66,
     "metadata": {},
     "output_type": "execute_result"
    }
   ],
   "source": [
    "memory.get(config)"
   ]
  },
  {
   "cell_type": "code",
   "execution_count": 67,
   "id": "7cb93e1c",
   "metadata": {},
   "outputs": [],
   "source": [
    "events=app4.stream(\n",
    "    {\"messages\":[\"in which city the temp was 25 degree?\"]},config=config,stream_mode=\"values\"\n",
    "    )"
   ]
  },
  {
   "cell_type": "code",
   "execution_count": 68,
   "id": "c458f8dc",
   "metadata": {},
   "outputs": [
    {
     "name": "stdout",
     "output_type": "stream",
     "text": [
      "================================\u001b[1m Human Message \u001b[0m=================================\n",
      "\n",
      "in which city the temp was 25 degree?\n",
      "==================================\u001b[1m Ai Message \u001b[0m==================================\n",
      "Tool Calls:\n",
      "  search (kvqjfc7f4)\n",
      " Call ID: kvqjfc7f4\n",
      "  Args:\n",
      "    query: city with 25 degrees temperature\n",
      "=================================\u001b[1m Tool Message \u001b[0m=================================\n",
      "Name: search\n",
      "\n",
      "The temp is 25 degrees and cloudy\n",
      "==================================\u001b[1m Ai Message \u001b[0m==================================\n",
      "Tool Calls:\n",
      "  search (42h5varta)\n",
      " Call ID: 42h5varta\n",
      "  Args:\n",
      "    query: city with 25 degrees temperature\n",
      "=================================\u001b[1m Tool Message \u001b[0m=================================\n",
      "Name: search\n",
      "\n",
      "The temp is 25 degrees and cloudy\n",
      "==================================\u001b[1m Ai Message \u001b[0m==================================\n",
      "\n",
      "The temperature in **Indore** was 25 degrees and the weather was cloudy.\n"
     ]
    }
   ],
   "source": [
    "for event in events:\n",
    "    event[\"messages\"][-1].pretty_print()"
   ]
  },
  {
   "cell_type": "code",
   "execution_count": 69,
   "id": "3c1aca07",
   "metadata": {},
   "outputs": [
    {
     "data": {
      "text/plain": [
       "{'v': 3,\n",
       " 'ts': '2025-06-14T06:19:32.752996+00:00',\n",
       " 'id': '1f048e78-95a5-67ee-8011-e84d05539e73',\n",
       " 'channel_versions': {'__start__': '00000000000000000000000000000014.0.5214547540347402',\n",
       "  'messages': '00000000000000000000000000000019.0.8861984797351214',\n",
       "  'branch:to:llmwithtool': '00000000000000000000000000000019.0.19396871084458467',\n",
       "  'branch:to:mytools': '00000000000000000000000000000018.0.8090072226176207'},\n",
       " 'versions_seen': {'__input__': {},\n",
       "  '__start__': {'__start__': '00000000000000000000000000000013.0.2878644163317424'},\n",
       "  'llmwithtool': {'branch:to:llmwithtool': '00000000000000000000000000000018.0.983873191158232'},\n",
       "  'mytools': {'branch:to:mytools': '00000000000000000000000000000017.0.8944735495574248'}},\n",
       " 'channel_values': {'messages': [HumanMessage(content='what is a weather in new delhi?', additional_kwargs={}, response_metadata={}, id='a1157a34-2ef9-404e-8d5d-1617ba8a9478'),\n",
       "   AIMessage(content='', additional_kwargs={'tool_calls': [{'id': 'z7x9chhdg', 'function': {'arguments': '{\"query\":\"weather in New Delhi\"}', 'name': 'search'}, 'type': 'function'}]}, response_metadata={'token_usage': {'completion_tokens': 209, 'prompt_tokens': 132, 'total_tokens': 341, 'completion_time': 0.836342589, 'prompt_time': 0.008553988, 'queue_time': 0.058032492000000005, 'total_time': 0.844896577}, 'model_name': 'deepseek-r1-distill-llama-70b', 'system_fingerprint': 'fp_1bbe7845ec', 'finish_reason': 'tool_calls', 'logprobs': None}, id='run--ad17d297-a1fd-4cc8-aa95-ed4ef62db5ba-0', tool_calls=[{'name': 'search', 'args': {'query': 'weather in New Delhi'}, 'id': 'z7x9chhdg', 'type': 'tool_call'}], usage_metadata={'input_tokens': 132, 'output_tokens': 209, 'total_tokens': 341}),\n",
       "   ToolMessage(content='The temp is 45 degrees and sunny', name='search', id='d3c22198-ac0a-4d6a-9dd3-362b49800a7f', tool_call_id='z7x9chhdg'),\n",
       "   AIMessage(content='', additional_kwargs={'tool_calls': [{'id': '7v324km3s', 'function': {'arguments': '{\"query\":\"weather in New Delhi\"}', 'name': 'search'}, 'type': 'function'}]}, response_metadata={'token_usage': {'completion_tokens': 198, 'prompt_tokens': 192, 'total_tokens': 390, 'completion_time': 0.939307721, 'prompt_time': 0.012573392, 'queue_time': 0.058005101, 'total_time': 0.951881113}, 'model_name': 'deepseek-r1-distill-llama-70b', 'system_fingerprint': 'fp_1bbe7845ec', 'finish_reason': 'tool_calls', 'logprobs': None}, id='run--92f4d596-57cb-4905-a859-6c09feb88b59-0', tool_calls=[{'name': 'search', 'args': {'query': 'weather in New Delhi'}, 'id': '7v324km3s', 'type': 'tool_call'}], usage_metadata={'input_tokens': 192, 'output_tokens': 198, 'total_tokens': 390}),\n",
       "   ToolMessage(content='The temp is 45 degrees and sunny', name='search', id='03a339cb-1f77-4fc4-a81e-a6c346a8707b', tool_call_id='7v324km3s'),\n",
       "   AIMessage(content='The weather in New Delhi is 45 degrees and sunny.', additional_kwargs={}, response_metadata={'token_usage': {'completion_tokens': 97, 'prompt_tokens': 251, 'total_tokens': 348, 'completion_time': 0.490318012, 'prompt_time': 0.018040111, 'queue_time': 0.056983879, 'total_time': 0.508358123}, 'model_name': 'deepseek-r1-distill-llama-70b', 'system_fingerprint': 'fp_1bbe7845ec', 'finish_reason': 'stop', 'logprobs': None}, id='run--0d9ad9ed-db7f-4263-9856-6cd3b87578fe-0', usage_metadata={'input_tokens': 251, 'output_tokens': 97, 'total_tokens': 348}),\n",
       "   HumanMessage(content='what is a weather in indore?', additional_kwargs={}, response_metadata={}, id='2ffa6147-adcc-402b-a28b-8e823a7b2ede'),\n",
       "   AIMessage(content='', additional_kwargs={'tool_calls': [{'id': 'njavy643f', 'function': {'arguments': '{\"query\":\"weather in Indore\"}', 'name': 'search'}, 'type': 'function'}]}, response_metadata={'token_usage': {'completion_tokens': 183, 'prompt_tokens': 262, 'total_tokens': 445, 'completion_time': 0.828282059, 'prompt_time': 0.024617672, 'queue_time': 0.054002548000000004, 'total_time': 0.852899731}, 'model_name': 'deepseek-r1-distill-llama-70b', 'system_fingerprint': 'fp_1bbe7845ec', 'finish_reason': 'tool_calls', 'logprobs': None}, id='run--704e7896-7fee-440e-b4fb-3f025343c79b-0', tool_calls=[{'name': 'search', 'args': {'query': 'weather in Indore'}, 'id': 'njavy643f', 'type': 'tool_call'}], usage_metadata={'input_tokens': 262, 'output_tokens': 183, 'total_tokens': 445}),\n",
       "   ToolMessage(content='The temp is 25 degrees and cloudy', name='search', id='1063c19a-ba4b-41ea-8e5e-93b059babb93', tool_call_id='njavy643f'),\n",
       "   AIMessage(content='', additional_kwargs={}, response_metadata={'token_usage': {'completion_tokens': 20, 'prompt_tokens': 319, 'total_tokens': 339, 'completion_time': 0.077525713, 'prompt_time': 0.020198604, 'queue_time': 0.056952956, 'total_time': 0.097724317}, 'model_name': 'deepseek-r1-distill-llama-70b', 'system_fingerprint': 'fp_1bbe7845ec', 'finish_reason': 'stop', 'logprobs': None}, id='run--54680994-c4f9-4522-a9b9-4aedf08d5a3c-0', usage_metadata={'input_tokens': 319, 'output_tokens': 20, 'total_tokens': 339}),\n",
       "   HumanMessage(content='in which city the temp was 25 degree?', additional_kwargs={}, response_metadata={}, id='eb413acb-5690-45bb-91f3-f92acd92a09d'),\n",
       "   AIMessage(content='', additional_kwargs={'tool_calls': [{'id': 'kvqjfc7f4', 'function': {'arguments': '{\"query\":\"city with 25 degrees temperature\"}', 'name': 'search'}, 'type': 'function'}]}, response_metadata={'token_usage': {'completion_tokens': 64, 'prompt_tokens': 332, 'total_tokens': 396, 'completion_time': 0.232727273, 'prompt_time': 0.028360409, 'queue_time': 0.053337602, 'total_time': 0.261087682}, 'model_name': 'deepseek-r1-distill-llama-70b', 'system_fingerprint': 'fp_1bbe7845ec', 'finish_reason': 'tool_calls', 'logprobs': None}, id='run--9845c763-ec9e-4e2f-9532-286152840142-0', tool_calls=[{'name': 'search', 'args': {'query': 'city with 25 degrees temperature'}, 'id': 'kvqjfc7f4', 'type': 'tool_call'}], usage_metadata={'input_tokens': 332, 'output_tokens': 64, 'total_tokens': 396}),\n",
       "   ToolMessage(content='The temp is 25 degrees and cloudy', name='search', id='7221070b-d065-4700-bd39-65669d0549d6', tool_call_id='kvqjfc7f4'),\n",
       "   AIMessage(content='', additional_kwargs={'tool_calls': [{'id': '42h5varta', 'function': {'arguments': '{\"query\":\"city with 25 degrees temperature\"}', 'name': 'search'}, 'type': 'function'}]}, response_metadata={'token_usage': {'completion_tokens': 192, 'prompt_tokens': 394, 'total_tokens': 586, 'completion_time': 0.70937074, 'prompt_time': 0.025428877, 'queue_time': 0.05736870299999999, 'total_time': 0.734799617}, 'model_name': 'deepseek-r1-distill-llama-70b', 'system_fingerprint': 'fp_1bbe7845ec', 'finish_reason': 'tool_calls', 'logprobs': None}, id='run--db20c392-0d76-43d0-b4f4-66cdc78e7274-0', tool_calls=[{'name': 'search', 'args': {'query': 'city with 25 degrees temperature'}, 'id': '42h5varta', 'type': 'tool_call'}], usage_metadata={'input_tokens': 394, 'output_tokens': 192, 'total_tokens': 586}),\n",
       "   ToolMessage(content='The temp is 25 degrees and cloudy', name='search', id='b4be5b4d-498c-4e51-bbb4-b4544ce41e91', tool_call_id='42h5varta'),\n",
       "   AIMessage(content='The temperature in **Indore** was 25 degrees and the weather was cloudy.', additional_kwargs={}, response_metadata={'token_usage': {'completion_tokens': 154, 'prompt_tokens': 454, 'total_tokens': 608, 'completion_time': 0.622495996, 'prompt_time': 0.036550061, 'queue_time': 0.05432221, 'total_time': 0.659046057}, 'model_name': 'deepseek-r1-distill-llama-70b', 'system_fingerprint': 'fp_1bbe7845ec', 'finish_reason': 'stop', 'logprobs': None}, id='run--ead1678f-58ab-40ee-81d6-b5318da74bd0-0', usage_metadata={'input_tokens': 454, 'output_tokens': 154, 'total_tokens': 608})]},\n",
       " 'pending_sends': []}"
      ]
     },
     "execution_count": 69,
     "metadata": {},
     "output_type": "execute_result"
    }
   ],
   "source": [
    "memory.get(config)"
   ]
  },
  {
   "cell_type": "code",
   "execution_count": null,
   "id": "733546db",
   "metadata": {},
   "outputs": [],
   "source": []
  },
  {
   "cell_type": "code",
   "execution_count": null,
   "id": "b7e5b513",
   "metadata": {},
   "outputs": [],
   "source": []
  },
  {
   "cell_type": "code",
   "execution_count": null,
   "id": "22387c13",
   "metadata": {},
   "outputs": [],
   "source": []
  }
 ],
 "metadata": {
  "kernelspec": {
   "display_name": "agents",
   "language": "python",
   "name": "python3"
  },
  "language_info": {
   "codemirror_mode": {
    "name": "ipython",
    "version": 3
   },
   "file_extension": ".py",
   "mimetype": "text/x-python",
   "name": "python",
   "nbconvert_exporter": "python",
   "pygments_lexer": "ipython3",
   "version": "3.12.0"
  }
 },
 "nbformat": 4,
 "nbformat_minor": 5
}
