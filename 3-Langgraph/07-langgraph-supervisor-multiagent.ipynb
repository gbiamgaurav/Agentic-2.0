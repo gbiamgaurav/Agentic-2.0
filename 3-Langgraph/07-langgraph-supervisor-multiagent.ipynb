{
 "cells": [
  {
   "cell_type": "code",
   "execution_count": 1,
   "id": "09543595",
   "metadata": {},
   "outputs": [
    {
     "data": {
      "text/plain": [
       "True"
      ]
     },
     "execution_count": 1,
     "metadata": {},
     "output_type": "execute_result"
    }
   ],
   "source": [
    "import os\n",
    "from dotenv import load_dotenv\n",
    "load_dotenv()"
   ]
  },
  {
   "cell_type": "code",
   "execution_count": 2,
   "id": "c589f9c7",
   "metadata": {},
   "outputs": [
    {
     "data": {
      "text/plain": [
       "AIMessage(content='Hello! 😊 How can I assist you today?', additional_kwargs={'refusal': None}, response_metadata={'token_usage': {'completion_tokens': 11, 'prompt_tokens': 8, 'total_tokens': 19, 'completion_tokens_details': {'accepted_prediction_tokens': 0, 'audio_tokens': 0, 'reasoning_tokens': 0, 'rejected_prediction_tokens': 0}, 'prompt_tokens_details': {'audio_tokens': 0, 'cached_tokens': 0}}, 'model_name': 'gpt-4o-2024-11-20', 'system_fingerprint': 'fp_ee1d74bde0', 'id': 'chatcmpl-BnHvCVHJveEF1yPQpQ0zWqyrvPUMh', 'service_tier': None, 'prompt_filter_results': [{'prompt_index': 0, 'content_filter_results': {'hate': {'filtered': False, 'severity': 'safe'}, 'jailbreak': {'filtered': False, 'detected': False}, 'self_harm': {'filtered': False, 'severity': 'safe'}, 'sexual': {'filtered': False, 'severity': 'safe'}, 'violence': {'filtered': False, 'severity': 'safe'}}}], 'finish_reason': 'stop', 'logprobs': None, 'content_filter_results': {'hate': {'filtered': False, 'severity': 'safe'}, 'protected_material_code': {'filtered': False, 'detected': False}, 'protected_material_text': {'filtered': False, 'detected': False}, 'self_harm': {'filtered': False, 'severity': 'safe'}, 'sexual': {'filtered': False, 'severity': 'safe'}, 'violence': {'filtered': False, 'severity': 'safe'}}}, id='run--a5f2d086-2745-4595-a77a-5d9e6064fea2-0', usage_metadata={'input_tokens': 8, 'output_tokens': 11, 'total_tokens': 19, 'input_token_details': {'audio': 0, 'cache_read': 0}, 'output_token_details': {'audio': 0, 'reasoning': 0}})"
      ]
     },
     "execution_count": 2,
     "metadata": {},
     "output_type": "execute_result"
    }
   ],
   "source": [
    "from langchain_openai import AzureChatOpenAI\n",
    "\n",
    "llm = AzureChatOpenAI(\n",
    "    azure_endpoint=os.getenv(\"AZURE_ENDPOINT\"),\n",
    "    api_key=os.getenv(\"AZUE_OPENAI_API_KEY\"),\n",
    "    azure_deployment=os.getenv(\"AZURE_DEPLOYMENT_NAME\"),\n",
    "    api_version=os.getenv(\"AZURE_VERSION\")\n",
    ")\n",
    "\n",
    "llm.invoke(\"hi\")"
   ]
  },
  {
   "cell_type": "code",
   "execution_count": 3,
   "id": "69a9e30d",
   "metadata": {},
   "outputs": [
    {
     "name": "stdout",
     "output_type": "stream",
     "text": [
      "The capital of India is **New Delhi**, which serves as the seat of the government as well as the political and administrative hub of the country. Here’s a detailed explanation about New Delhi and its significance:\n",
      "\n",
      "### **Historical Background**\n",
      "- New Delhi was officially inaugurated as the capital of India on **13 February 1931** during British colonial rule. It replaced **Calcutta (now Kolkata)**, which had served as the capital of India until 1911.\n",
      "- The decision to move the capital to Delhi was made by the British government due to Delhi's historical importance as a center of power, dating back to several ruling dynasties including the Mughals.\n",
      "- The city was designed by British architects **Sir Edwin Lutyens** and **Herbert Baker**, who planned much of the prominent government buildings and structures.\n",
      "\n",
      "---\n",
      "\n",
      "### **The City Layout**\n",
      "New Delhi is known for its carefully planned infrastructure, wide roads, and colonial-era architecture. It is a part of **Delhi NCR (National Capital Region)** and exists as a district within the larger metropolis of Delhi. Key features of the city include:\n",
      "\n",
      "1. **Government Buildings:**\n",
      "   - **Rashtrapati Bhavan**: The presidential residence, located on the Raisina Hill.\n",
      "   - **Parliament House**: The seat of the Indian Legislature.\n",
      "   - **Supreme Court of India**: The highest judicial authority in the country.\n",
      "\n",
      "2. **Prominent Landmarks:**\n",
      "   - **India Gate**: A war memorial dedicated to Indian soldiers who died during World War I.\n",
      "   - **Rajpath**: A ceremonial boulevard that stretches from Rashtrapati Bhavan to India Gate.\n",
      "   - Numerous historical monuments such as:\n",
      "     - Qutub Minar (South Delhi).\n",
      "     - Red Fort (Old Delhi).\n",
      "     - Jama Masjid.\n",
      "\n",
      "3. **Residential Areas and Diplomacy:**\n",
      "   - New Delhi houses various foreign embassies, diplomatic missions, and residential areas for officials.\n",
      "\n",
      "---\n",
      "\n",
      "### **Political and Administrative Significance**\n",
      "New Delhi holds a special place in India's governance and administration. As the capital, the city houses:\n",
      "- All branches of the government:\n",
      "   - The executive (led by the President and Prime Minister).\n",
      "   - The legislature (Lok Sabha and Rajya Sabha).\n",
      "   - The judiciary (Supreme Court and High Courts).\n",
      "- Headquarters for major ministries, departments, and public-sector enterprises.\n",
      "- It is the location where important national celebrations such as **Republic Day** parades and Independence Day events are held.\n",
      "\n",
      "---\n",
      "\n",
      "### **Cultural Significance**\n",
      "New Delhi represents a blend of ancient heritage and modern urbanization. With monuments like **Humayun's Tomb**, **Lotus Temple**, and **Akshardham Temple**, as well as thriving marketplaces like Chandni Chowk and Connaught Place, New Delhi is a hotspot for cultural tourism.\n",
      "\n",
      "---\n",
      "\n",
      "### **Current Status**\n",
      "As of now (2023), New Delhi remains symbolic of India's striving for development. It reflects a mix of colonial charm, Mughal heritage, and modern aspirations. The city continues to face challenges such as pollution, urban congestion, and housing shortages but remains an essential part of India's identity on both the national and international levels.\n",
      "\n",
      "\n"
     ]
    }
   ],
   "source": [
    "print(llm.invoke(\"What is the capital of india tell me in detail?\").content)"
   ]
  },
  {
   "cell_type": "code",
   "execution_count": 4,
   "id": "bd3a8335",
   "metadata": {},
   "outputs": [],
   "source": [
    "import os\n",
    "from langchain_community.tools.tavily_search import TavilySearchResults\n",
    "TAVILY_API_KEY=os.getenv(\"TAVILY_API_KEY\")\n",
    "search_tool=TavilySearchResults(tavily_api_key=TAVILY_API_KEY)"
   ]
  },
  {
   "cell_type": "code",
   "execution_count": 5,
   "id": "27f1f4dc",
   "metadata": {},
   "outputs": [
    {
     "data": {
      "text/plain": [
       "[{'title': 'Paris facts: the capital of France in history',\n",
       "  'url': 'https://home.adelphi.edu/~ca19535/page%204.html',\n",
       "  'content': 'page 4\\n\\n===============\\n\\nHomeSpainSydneySan FranciscoParisLas VegasMaui\\n\\n Paris, France\\n\\nImage 1\\n\\nParis facts: Paris, the capital of France\\n---------------------------------------------\\n\\nParis is the capital of France, the largest country of Europe with 550 000 km2 (65 millions inhabitants).\\n\\nParis has 2.234 million inhabitants end 2011. She is the core of Ile de France region (12 million people). [...] Before Paris, the capital of France was Lyon (under the Romans). Paris first became the capital of France in 508 under King Clovis. After centuries with no unique capital of France, Paris retrieved its status of capital of France under King Philippe Auguste, who reigned between 1180 and 1223. You can see remains of the Philippe August Paris walls in the passageway between the Louvre parking and Louvre Museum [...] Paris remained the capital of France until today, with one four year interruption. During German occupation (WW2 , 1940-1944), the capital of France was Vichy.\\n\\ngo to top\\n\\nReference:',\n",
       "  'score': 0.89166987},\n",
       " {'title': 'Paris - Simple English Wikipedia, the free encyclopedia',\n",
       "  'url': 'https://simple.wikipedia.org/wiki/Paris',\n",
       "  'content': 'Wikipedia\\n\\n# Paris\\n\\nParis (nicknamed the \"City of light\") is the capital city \"Capital (city)\") of France, and the largest city in France. The area is 105 square kilometres (41 square miles), and around 2.15 million people live there. If suburbs are counted, the population of the Paris area rises to 10.7 million people. It is the most densely populated city in the European Union, with 20.653 people per square kilometer.',\n",
       "  'score': 0.88372874},\n",
       " {'title': 'Paris - Wikipedia',\n",
       "  'url': 'https://en.wikipedia.org/wiki/Paris',\n",
       "  'content': 'As the capital of France, Paris is the seat of France\\'s national government. For the executive, the two chief officers each have their own official residences, which also serve as their offices. The President of the French Republic resides at the Élysée Palace.( The Prime Minister\\'s seat is at the Hôtel Matignon.( Government ministries are located in various parts of the city, many near the Hôtel Matignon.( [...] Appearance\\n\\nmove to sidebar hide\\n\\nCoordinates: 48°51′24″N 2°21′8″E / 48.85667°N 2.35222°E / 48.85667; 2.35222_region:FR-75C)\\n\\nImage 4: This is a good article. Click here for more information.\\n\\nImage 5: Page semi-protected\\n\\nFrom Wikipedia, the free encyclopedia\\n\\nCapital and largest city of France\\n\\nThis article is about the capital city of France. For other uses, see Paris (disambiguation) \"Paris (disambiguation)\"). [...] Paris (French pronunciation:( \"Help:IPA/French\")ⓘ) is the capital and largest city of France. With an estimated population of 2,048,472 residents in January 2025( in an area of more than 105 km 2 (41 sq mi),( Paris is the fourth-most populous city in the European Union and the 30th most densely populated city in the world in 2022.( Since the 17th century, Paris has been one of the world\\'s major centres of finance, diplomacy, commerce, culture, fashion, and gastronomy. Because of its leading',\n",
       "  'score': 0.8815438},\n",
       " {'title': 'What is the Capital of France? - WorldAtlas',\n",
       "  'url': 'https://www.worldatlas.com/articles/what-is-the-capital-of-france.html',\n",
       "  'content': 'Paris is the capital city of France. The city has an approximate area of 41 square miles with a population of 2,206,488 people as of 2018. Contrary to popular belief, the name of the city did not come from the Paris in Greek myths. Instead, the name Paris is derived from the city’s initial inhabitants who were part of the Celtic Parisii tribe. Sometimes, the city is called the City of Light for two reasons; it was among the first cities to adopt gas for lighting the streets and its role during [...] Published Time: 2018-06-29T15:23:00-04:00\\n\\nWhat is the Capital of France? - WorldAtlas\\n\\n===============\\n\\nWhat is the Capital of France?\\n==============================\\n\\nImage 1: Tourism has always been a major source of income for Paris. \\n\\nTourism has always been a major source of income for Paris. [...] As the capital city of France, the city plays host to the national government of France. Even the official residence of the president is in the city at the Élysée Palace while the Prime Minister is housed at the Hôtel Matignon. The Senate or the upper house meets at the Palais du Luxembourg while the Palais Bourbon is the meeting point for the Assemblée Nationale. The second highest public official after the President of France, the President of the Senate, stays at the Petit Luxembourg.',\n",
       "  'score': 0.87807417},\n",
       " {'title': 'Paris - Wikiwand',\n",
       "  'url': 'https://www.wikiwand.com/en/articles/Paris',\n",
       "  'content': 'As the capital of France, Paris is the seat of France\\'s national government. For the executive, the two chief officers each have their own official residences, which also serve as their offices. The President of the French Republic resides at the Élysée Palace.(./Paris#cite_note-121) The Prime Minister\\'s seat is at the Hôtel Matignon.(./Paris#cite_note-122)(./Paris#cite_note-FOOTNOTEKnappWright200693–94-123) Government ministries are located in various parts of the city, many near the Hôtel [...] Paris (French pronunciation: ( \"Help:IPA/French\") ⓘ) is the capital and largest city of France. With an estimated population of 2,048,472 residents in January 2025(./Paris#cite_note-pop2025-3) in an area of more than 105 km2 (41 sq mi),(./Paris#cite_note-pop2019-4) Paris is the fourth-most populous city in the European Union and the 30th most densely populated city in the world in 2022.(./Paris#cite_note-5) Since the 17th century, Paris has been one of the world\\'s major centres of finance, [...] With 200,000 inhabitants in 1328, Paris, then already the capital of France, was the most populous city of Europe. By comparison, London in 1300 had 80,000 inhabitants.(./Paris#cite_note-ParisDigest-39) By the early fourteenth century, so much filth had collected inside urban Europe that French and Italian cities were naming streets after human waste. In medieval Paris, several street names were inspired by merde, the French word for \"shit\".(./Paris#cite_note-40)\\n\\nThumb',\n",
       "  'score': 0.875031}]"
      ]
     },
     "execution_count": 5,
     "metadata": {},
     "output_type": "execute_result"
    }
   ],
   "source": [
    "search_tool.invoke(\"What is the capital of France?\")"
   ]
  },
  {
   "cell_type": "code",
   "execution_count": 6,
   "id": "6e96d3bb",
   "metadata": {},
   "outputs": [],
   "source": [
    "my_code = \"\"\"\n",
    "x=10\n",
    "y=x+10\n",
    "print(y)\n",
    "\"\"\""
   ]
  },
  {
   "cell_type": "code",
   "execution_count": 7,
   "id": "76412f03",
   "metadata": {},
   "outputs": [],
   "source": [
    "from langchain_experimental.utilities import PythonREPL"
   ]
  },
  {
   "cell_type": "code",
   "execution_count": 8,
   "id": "c2efe0f4",
   "metadata": {},
   "outputs": [
    {
     "name": "stderr",
     "output_type": "stream",
     "text": [
      "Python REPL can execute arbitrary code. Use with caution.\n"
     ]
    },
    {
     "data": {
      "text/plain": [
       "'20\\n'"
      ]
     },
     "execution_count": 8,
     "metadata": {},
     "output_type": "execute_result"
    }
   ],
   "source": [
    "repl=PythonREPL()\n",
    "\n",
    "repl.run(my_code)"
   ]
  },
  {
   "cell_type": "code",
   "execution_count": 9,
   "id": "ce41578a",
   "metadata": {},
   "outputs": [],
   "source": [
    "from typing import Annotated, Literal, TypedDict"
   ]
  },
  {
   "cell_type": "code",
   "execution_count": 10,
   "id": "cc82bb0a",
   "metadata": {},
   "outputs": [],
   "source": [
    "from langchain_core.tools import tool"
   ]
  },
  {
   "cell_type": "code",
   "execution_count": 11,
   "id": "cd34f2e7",
   "metadata": {},
   "outputs": [
    {
     "name": "stderr",
     "output_type": "stream",
     "text": [
      "<>:11: SyntaxWarning: invalid escape sequence '\\`'\n",
      "<>:11: SyntaxWarning: invalid escape sequence '\\`'\n",
      "<>:11: SyntaxWarning: invalid escape sequence '\\`'\n",
      "<>:11: SyntaxWarning: invalid escape sequence '\\`'\n",
      "C:\\Users\\User\\AppData\\Local\\Temp\\ipykernel_8076\\2860116823.py:11: SyntaxWarning: invalid escape sequence '\\`'\n",
      "  result_str = f\"Successfully executed:\\n\\`\\`\\`python\\n{code}\\n\\`\\`\\`\\nStdout: {result}\"\n",
      "C:\\Users\\User\\AppData\\Local\\Temp\\ipykernel_8076\\2860116823.py:11: SyntaxWarning: invalid escape sequence '\\`'\n",
      "  result_str = f\"Successfully executed:\\n\\`\\`\\`python\\n{code}\\n\\`\\`\\`\\nStdout: {result}\"\n"
     ]
    }
   ],
   "source": [
    "@tool\n",
    "def python_repl_tool(code: Annotated[str, \"The python code to execute to generate your chart.\"]):\n",
    "    \"\"\"Use this to execute python code and do math. If you want to see the output of a value,\n",
    "    you should print it out with `print(...)`. This is visible to the user.\"\"\"\n",
    "    \n",
    "    try:\n",
    "        result = repl.run(code)\n",
    "    except BaseException as e:\n",
    "        return f\"Failed to execute. Error: {repr(e)}\"\n",
    "    \n",
    "    result_str = f\"Successfully executed:\\n\\`\\`\\`python\\n{code}\\n\\`\\`\\`\\nStdout: {result}\"\n",
    "    return result_str"
   ]
  },
  {
   "cell_type": "code",
   "execution_count": 12,
   "metadata": {},
   "outputs": [
    {
     "data": {
      "text/plain": [
       "'Successfully executed:\\n\\\\`\\\\`\\\\`python\\nx=10\\ny=x+10\\nprint(y)\\n\\\\`\\\\`\\\\`\\nStdout: 20\\n'"
      ]
     },
     "execution_count": 12,
     "metadata": {},
     "output_type": "execute_result"
    }
   ],
   "source": [
    "python_repl_tool.invoke(\"x=10\\ny=x+10\\nprint(y)\")"
   ]
  },
  {
   "cell_type": "code",
   "execution_count": 13,
   "id": "190bd8ca",
   "metadata": {},
   "outputs": [
    {
     "data": {
      "text/plain": [
       "'Successfully executed:\\n\\\\`\\\\`\\\\`python\\n\\nx=10\\ny=x+10\\nprint(y)\\n\\n\\\\`\\\\`\\\\`\\nStdout: 20\\n'"
      ]
     },
     "execution_count": 13,
     "metadata": {},
     "output_type": "execute_result"
    }
   ],
   "source": [
    "python_repl_tool.invoke(my_code)"
   ]
  },
  {
   "cell_type": "code",
   "execution_count": 14,
   "id": "c9f391e3",
   "metadata": {},
   "outputs": [
    {
     "data": {
      "text/plain": [
       "['researcher', 'coder']"
      ]
     },
     "execution_count": 14,
     "metadata": {},
     "output_type": "execute_result"
    }
   ],
   "source": [
    "members=[\"researcher\",\"coder\"]\n",
    "\n",
    "members"
   ]
  },
  {
   "cell_type": "code",
   "execution_count": 15,
   "id": "330c9f25",
   "metadata": {},
   "outputs": [
    {
     "data": {
      "text/plain": [
       "['researcher', 'coder', 'FINISH']"
      ]
     },
     "execution_count": 15,
     "metadata": {},
     "output_type": "execute_result"
    }
   ],
   "source": [
    "options = members+[\"FINISH\"]\n",
    "\n",
    "options"
   ]
  },
  {
   "cell_type": "code",
   "execution_count": 16,
   "id": "c48fc3f7",
   "metadata": {},
   "outputs": [],
   "source": [
    "class Router(TypedDict):\n",
    "    next: Literal['researcher', 'coder', 'FINISH']"
   ]
  },
  {
   "cell_type": "code",
   "execution_count": 17,
   "id": "4f193db9",
   "metadata": {},
   "outputs": [],
   "source": [
    "from langgraph.graph import MessagesState,StateGraph,START, END"
   ]
  },
  {
   "cell_type": "code",
   "execution_count": 18,
   "id": "3b6563ad",
   "metadata": {},
   "outputs": [],
   "source": [
    "class State(MessagesState):\n",
    "    next:str"
   ]
  },
  {
   "cell_type": "code",
   "execution_count": 19,
   "id": "104ddac3",
   "metadata": {},
   "outputs": [
    {
     "data": {
      "text/plain": [
       "'\"\\nYou are a supervisor, tasked with managing a conversation between the following workers: [\\'researcher\\', \\'coder\\']. \\nGiven the following user request, respond with the worker to act next. \\nEach worker will perform a task and respond with their results and status. \\nWhen finished, respond with FINISH.\\n'"
      ]
     },
     "execution_count": 19,
     "metadata": {},
     "output_type": "execute_result"
    }
   ],
   "source": [
    "system_prompt = f\"\"\"\"\n",
    "You are a supervisor, tasked with managing a conversation between the following workers: {members}. \n",
    "Given the following user request, respond with the worker to act next. \n",
    "Each worker will perform a task and respond with their results and status. \n",
    "When finished, respond with FINISH.\n",
    "\"\"\"\n",
    "\n",
    "system_prompt"
   ]
  },
  {
   "cell_type": "markdown",
   "id": "cee1734f",
   "metadata": {},
   "source": [
    "### These are the three Agents"
   ]
  },
  {
   "cell_type": "code",
   "execution_count": 20,
   "id": "f35e3080",
   "metadata": {},
   "outputs": [],
   "source": [
    "from langgraph.types import Command"
   ]
  },
  {
   "cell_type": "code",
   "execution_count": 21,
   "id": "1cd18d4c",
   "metadata": {},
   "outputs": [],
   "source": [
    "def supervisor_agent(state:State)->Command[Literal['researcher', 'coder', '__end__']]:\n",
    "    \n",
    "    messages = [{\"role\": \"system\", \"content\": system_prompt},] + state[\"messages\"]\n",
    "    \n",
    "    llm_with_structure_output=llm.with_structured_output(Router)\n",
    "    \n",
    "    response=llm_with_structure_output.invoke(messages)\n",
    "    \n",
    "    #this is my next worker agent\n",
    "    goto=response[\"next\"]\n",
    "    \n",
    "    print(\"**********BELOW IS MY GOTO***************\")\n",
    "    \n",
    "    print(goto)\n",
    "    \n",
    "    if goto == \"FINISH\":\n",
    "        goto=END\n",
    "        \n",
    "    return Command(goto=goto, update={\"next\":goto})"
   ]
  },
  {
   "cell_type": "code",
   "execution_count": 23,
   "id": "9ef3ce50",
   "metadata": {},
   "outputs": [],
   "source": [
    "from langgraph.prebuilt import create_react_agent\n",
    "\n",
    "from langchain_core.messages import AIMessage, HumanMessage"
   ]
  },
  {
   "cell_type": "code",
   "execution_count": 24,
   "id": "294389a8",
   "metadata": {},
   "outputs": [],
   "source": [
    "def research_agent(state: State) -> Command[Literal[\"supervisor\"]]:\n",
    "    \n",
    "    research_agent = create_react_agent(llm, tools=[search_tool], prompt=\"You are a researcher. DO NOT do any math.\")\n",
    "    \n",
    "    result=research_agent.invoke(state)\n",
    "    \n",
    "    return Command(\n",
    "        update={\n",
    "            \"messages\": [\n",
    "                HumanMessage(content=result[\"messages\"][-1].content, name=\"researcher\")\n",
    "            ]\n",
    "        },\n",
    "        goto=\"supervisor\",\n",
    "    )"
   ]
  },
  {
   "cell_type": "code",
   "execution_count": 25,
   "id": "6d09cdfd",
   "metadata": {},
   "outputs": [],
   "source": [
    "def coder_agent(state:State)->Command[Literal['supervisor']]:\n",
    "    code_agent=create_react_agent(llm,tools=[python_repl_tool], prompt=\"You are a coder. DO NOT do any research.\")\n",
    "    result=code_agent.invoke(state)\n",
    "    \n",
    "    return Command(\n",
    "        update={\n",
    "            \"messages\": [\n",
    "                HumanMessage(content=result[\"messages\"][-1].content, name=\"coder\")\n",
    "            ]\n",
    "        },\n",
    "        goto=\"supervisor\",\n",
    "    )"
   ]
  },
  {
   "cell_type": "markdown",
   "id": "98f1f9ea",
   "metadata": {},
   "source": [
    "### Orchestration from LangGraph"
   ]
  },
  {
   "cell_type": "code",
   "execution_count": 26,
   "id": "843cf5dc",
   "metadata": {},
   "outputs": [],
   "source": [
    "# Defining the StateGraph\n",
    "graph=StateGraph(State)\n",
    "\n",
    "# Defining the Nodes\n",
    "graph.add_node(\"supervisor\", supervisor_agent)\n",
    "graph.add_node(\"researcher\", research_agent)\n",
    "graph.add_node(\"coder\", coder_agent)\n",
    "\n",
    "# Defining the Edges\n",
    "graph.add_edge(START, \"supervisor\")\n",
    "\n",
    "# Compile the Graph\n",
    "app=graph.compile()\n"
   ]
  },
  {
   "cell_type": "code",
   "execution_count": 27,
   "id": "b997c739",
   "metadata": {},
   "outputs": [
    {
     "data": {
      "image/png": "[encoded data removed]",
      "text/plain": [
       "<IPython.core.display.Image object>"
      ]
     },
     "metadata": {},
     "output_type": "display_data"
    }
   ],
   "source": [
    "# View the Graph\n",
    "from IPython.display import display,Image\n",
    "display(Image(app.get_graph().draw_mermaid_png()))"
   ]
  },
  {
   "cell_type": "code",
   "execution_count": 28,
   "id": "d0194d2e",
   "metadata": {},
   "outputs": [
    {
     "name": "stdout",
     "output_type": "stream",
     "text": [
      "**********BELOW IS MY GOTO***************\n",
      "coder\n",
      "((), {'supervisor': {'next': 'coder'}})\n",
      "**********BELOW IS MY STATE***************\n",
      "(('coder:63a956d6-0443-489c-6327-3d7ea85ce33e',), {'agent': {'messages': [AIMessage(content='', additional_kwargs={'tool_calls': [{'id': 'call_dwlOC1IGdqrRWIIXA6G8Btha', 'function': {'arguments': '{\"code\":\"import math\\\\nmath.sqrt(42)\"}', 'name': 'python_repl_tool'}, 'type': 'function'}], 'refusal': None}, response_metadata={'token_usage': {'completion_tokens': 24, 'prompt_tokens': 107, 'total_tokens': 131, 'completion_tokens_details': {'accepted_prediction_tokens': 0, 'audio_tokens': 0, 'reasoning_tokens': 0, 'rejected_prediction_tokens': 0}, 'prompt_tokens_details': {'audio_tokens': 0, 'cached_tokens': 0}}, 'model_name': 'gpt-4o-2024-11-20', 'system_fingerprint': 'fp_ee1d74bde0', 'id': 'chatcmpl-BnI2WDsWZo0yuJrksJSuKaodRZJMT', 'service_tier': None, 'prompt_filter_results': [{'prompt_index': 0, 'content_filter_results': {'hate': {'filtered': False, 'severity': 'safe'}, 'jailbreak': {'filtered': False, 'detected': False}, 'self_harm': {'filtered': False, 'severity': 'safe'}, 'sexual': {'filtered': False, 'severity': 'safe'}, 'violence': {'filtered': False, 'severity': 'safe'}}}], 'finish_reason': 'tool_calls', 'logprobs': None, 'content_filter_results': {}}, id='run--70fab0e3-d7cd-4b2c-8a01-2b7061047972-0', tool_calls=[{'name': 'python_repl_tool', 'args': {'code': 'import math\\nmath.sqrt(42)'}, 'id': 'call_dwlOC1IGdqrRWIIXA6G8Btha', 'type': 'tool_call'}], usage_metadata={'input_tokens': 107, 'output_tokens': 24, 'total_tokens': 131, 'input_token_details': {'audio': 0, 'cache_read': 0}, 'output_token_details': {'audio': 0, 'reasoning': 0}})]}})\n",
      "**********BELOW IS MY STATE***************\n",
      "(('coder:63a956d6-0443-489c-6327-3d7ea85ce33e',), {'tools': {'messages': [ToolMessage(content='Successfully executed:\\n\\\\`\\\\`\\\\`python\\nimport math\\nmath.sqrt(42)\\n\\\\`\\\\`\\\\`\\nStdout: ', name='python_repl_tool', id='4e55089a-122d-4800-9949-9dc5231901cc', tool_call_id='call_dwlOC1IGdqrRWIIXA6G8Btha')]}})\n",
      "**********BELOW IS MY STATE***************\n",
      "(('coder:63a956d6-0443-489c-6327-3d7ea85ce33e',), {'agent': {'messages': [AIMessage(content='The square root of 42 is approximately 6.48.', additional_kwargs={'refusal': None}, response_metadata={'token_usage': {'completion_tokens': 15, 'prompt_tokens': 165, 'total_tokens': 180, 'completion_tokens_details': {'accepted_prediction_tokens': 0, 'audio_tokens': 0, 'reasoning_tokens': 0, 'rejected_prediction_tokens': 0}, 'prompt_tokens_details': {'audio_tokens': 0, 'cached_tokens': 0}}, 'model_name': 'gpt-4o-2024-11-20', 'system_fingerprint': 'fp_ee1d74bde0', 'id': 'chatcmpl-BnI2XF8cwIvBtTPqXGje2yUNVoCh0', 'service_tier': None, 'prompt_filter_results': [{'prompt_index': 0, 'content_filter_results': {'hate': {'filtered': False, 'severity': 'safe'}, 'jailbreak': {'filtered': False, 'detected': False}, 'self_harm': {'filtered': False, 'severity': 'safe'}, 'sexual': {'filtered': False, 'severity': 'safe'}, 'violence': {'filtered': False, 'severity': 'safe'}}}], 'finish_reason': 'stop', 'logprobs': None, 'content_filter_results': {'hate': {'filtered': False, 'severity': 'safe'}, 'protected_material_code': {'filtered': False, 'detected': False}, 'protected_material_text': {'filtered': False, 'detected': False}, 'self_harm': {'filtered': False, 'severity': 'safe'}, 'sexual': {'filtered': False, 'severity': 'safe'}, 'violence': {'filtered': False, 'severity': 'safe'}}}, id='run--48328089-4649-43ba-9ce2-59997737dfe7-0', usage_metadata={'input_tokens': 165, 'output_tokens': 15, 'total_tokens': 180, 'input_token_details': {'audio': 0, 'cache_read': 0}, 'output_token_details': {'audio': 0, 'reasoning': 0}})]}})\n",
      "**********BELOW IS MY STATE***************\n",
      "((), {'coder': {'messages': [HumanMessage(content='The square root of 42 is approximately 6.48.', additional_kwargs={}, response_metadata={}, name='coder')]}})\n",
      "**********BELOW IS MY STATE***************\n",
      "**********BELOW IS MY GOTO***************\n",
      "FINISH\n",
      "((), {'supervisor': {'next': '__end__'}})\n",
      "**********BELOW IS MY STATE***************\n"
     ]
    }
   ],
   "source": [
    "for s in app.stream({\"messages\": [(\"user\", \"What's the square root of 42?\")]}, subgraphs=True):\n",
    "    print(s)\n",
    "    print(\"**********BELOW IS MY STATE***************\")"
   ]
  },
  {
   "cell_type": "code",
   "execution_count": 29,
   "id": "87e421be",
   "metadata": {},
   "outputs": [
    {
     "name": "stdout",
     "output_type": "stream",
     "text": [
      "**********BELOW IS MY GOTO***************\n",
      "coder\n",
      "**********BELOW IS MY GOTO***************\n",
      "coder\n",
      "**********BELOW IS MY GOTO***************\n",
      "FINISH\n"
     ]
    },
    {
     "data": {
      "text/plain": [
       "((),\n",
       " {'messages': [HumanMessage(content='what is an efficient python code to get prime number?', additional_kwargs={}, response_metadata={}, id='741ef6d8-bae7-4b49-8dfa-3f3acc8782c0'),\n",
       "   HumanMessage(content='Here’s an efficient Python code to generate prime numbers using the popular [Sieve of Eratosthenes](https://en.wikipedia.org/wiki/Sieve_of_Eratosthenes) algorithm. This method is particularly useful for finding all primes up to a given number `n` and is more efficient than checking each number individually.\\n\\n```python\\ndef sieve_of_eratosthenes(n):\\n    \"\"\"\\n    Generate all prime numbers less than or equal to n using the Sieve of Eratosthenes.\\n    :param n: int - Upper limit to find primes.\\n    :return: List[int] - List of primes up to n.\\n    \"\"\"\\n    if n < 2:\\n        return []\\n\\n    # Create a boolean array \"prime[0..n]\" and initialize all entries as True.\\n    # A value in prime[i] will be False if i is not a prime, else True.\\n    prime = [True for _ in range(n + 1)]\\n    p = 2\\n    while p * p <= n:\\n        # If prime[p] is still True, mark multiples of p as False.\\n        if prime[p]:\\n            for i in range(p * p, n + 1, p):\\n                prime[i] = False\\n        p += 1\\n\\n    # Return all numbers that are still marked True.\\n    return [p for p in range(2, n + 1) if prime[p]]\\n\\n# Example usage:\\nn = 50\\nprint(sieve_of_eratosthenes(n))  # Outputs prime numbers up to 50\\n```\\n\\n### Explanation:\\n1. This algorithm works by marking multiples of each prime starting from 2.\\n2. Numbers which are not marked remain prime.\\n3. The time complexity is O(n log log n), making it much faster than checking prime status for individual numbers directly.', additional_kwargs={}, response_metadata={}, name='coder', id='5ae5fe90-297f-4734-8cc3-d19812599e30'),\n",
       "   HumanMessage(content=\"Let me know if you'd like me to further optimize or rewrite this code in a different style!\", additional_kwargs={}, response_metadata={}, name='coder', id='a7bdc045-88ad-4f16-989a-a51aa89bf758')],\n",
       "  'next': '__end__'})"
      ]
     },
     "execution_count": 29,
     "metadata": {},
     "output_type": "execute_result"
    }
   ],
   "source": [
    "app.invoke({\"messages\": [(\"user\", \"what is an efficient python code to get prime number?\")]}, subgraphs=True)"
   ]
  },
  {
   "cell_type": "code",
   "execution_count": 30,
   "id": "2222651a",
   "metadata": {},
   "outputs": [
    {
     "name": "stdout",
     "output_type": "stream",
     "text": [
      "**********BELOW IS MY GOTO***************\n",
      "researcher\n",
      "**********BELOW IS MY GOTO***************\n",
      "coder\n",
      "**********BELOW IS MY GOTO***************\n",
      "FINISH\n"
     ]
    },
    {
     "data": {
      "text/plain": [
       "((),\n",
       " {'messages': [HumanMessage(content='please give me a code snippet of finding prime numbers in range in different programming langugages', additional_kwargs={}, response_metadata={}, id='08e1fb31-c409-44c7-9e5f-bccd88ad4ce7'),\n",
       "   HumanMessage(content='Sure! Below are code snippets for finding prime numbers in a given range in a few different programming languages.\\n\\n---\\n\\n### Python\\n```python\\ndef is_prime(num):\\n    if num < 2:\\n        return False\\n    for i in range(2, int(num ** 0.5) + 1):\\n        if num % i == 0:\\n            return False\\n    return True\\n\\ndef find_primes_in_range(start, end):\\n    return [num for num in range(start, end + 1) if is_prime(num)]\\n\\n# Example usage\\nstart = 10\\nend = 50\\nprint(find_primes_in_range(start, end))\\n```\\n\\n---\\n\\n### Java\\n```java\\nimport java.util.ArrayList;\\nimport java.util.List;\\n\\npublic class PrimeNumbers {\\n    public static boolean isPrime(int num) {\\n        if (num < 2) return false;\\n        for (int i = 2; i <= Math.sqrt(num); i++) {\\n            if (num % i == 0) return false;\\n        }\\n        return true;\\n    }\\n\\n    public static List<Integer> findPrimesInRange(int start, int end) {\\n        List<Integer> primes = new ArrayList<>();\\n        for (int i = start; i <= end; i++) {\\n            if (isPrime(i)) {\\n                primes.add(i);\\n            }\\n        }\\n        return primes;\\n    }\\n\\n    public static void main(String[] args) {\\n        int start = 10, end = 50;\\n        System.out.println(findPrimesInRange(start, end));\\n    }\\n}\\n```\\n\\n---\\n\\n### JavaScript\\n```javascript\\nfunction isPrime(num) {\\n    if (num < 2) return false;\\n    for (let i = 2; i <= Math.sqrt(num); i++) {\\n        if (num % i === 0) return false;\\n    }\\n    return true;\\n}\\n\\nfunction findPrimesInRange(start, end) {\\n    let primes = [];\\n    for (let i = start; i <= end; i++) {\\n        if (isPrime(i)) {\\n            primes.push(i);\\n        }\\n    }\\n    return primes;\\n}\\n\\n// Example usage\\nlet start = 10;\\nlet end = 50;\\nconsole.log(findPrimesInRange(start, end));\\n```\\n\\n---\\n\\n### C++\\n```cpp\\n#include <iostream>\\n#include <vector>\\n#include <cmath>\\nusing namespace std;\\n\\nbool isPrime(int num) {\\n    if (num < 2) return false;\\n    for (int i = 2; i <= sqrt(num); i++) {\\n        if (num % i == 0) return false;\\n    }\\n    return true;\\n}\\n\\nvector<int> findPrimesInRange(int start, int end) {\\n    vector<int> primes;\\n    for (int i = start; i <= end; i++) {\\n        if (isPrime(i)) {\\n            primes.push_back(i);\\n        }\\n    }\\n    return primes;\\n}\\n\\nint main() {\\n    int start = 10, end = 50;\\n    vector<int> primes = findPrimesInRange(start, end);\\n    for (int prime : primes) {\\n        cout << prime << \" \";\\n    }\\n    return 0;\\n}\\n```\\n\\n---\\n\\n### Ruby\\n```ruby\\ndef is_prime?(num)\\n  return false if num < 2\\n  (2..Math.sqrt(num)).each do |i|\\n    return false if num % i == 0\\n  end\\n  true\\nend\\n\\ndef find_primes_in_range(start, stop)\\n  (start..stop).select { |num| is_prime?(num) }\\nend\\n\\n# Example usage\\nstart = 10\\nstop = 50\\nputs find_primes_in_range(start, stop)\\n```\\n\\n---\\n\\n### C#\\n```csharp\\nusing System;\\nusing System.Collections.Generic;\\n\\nclass Program\\n{\\n    static bool IsPrime(int num)\\n    {\\n        if (num < 2) return false;\\n        for (int i = 2; i <= Math.Sqrt(num); i++)\\n        {\\n            if (num % i == 0) return false;\\n        }\\n        return true;\\n    }\\n\\n    static List<int> FindPrimesInRange(int start, int end)\\n    {\\n        List<int> primes = new List<int>();\\n        for (int i = start; i <= end; i++)\\n        {\\n            if (IsPrime(i))\\n            {\\n                primes.Add(i);\\n            }\\n        }\\n        return primes;\\n    }\\n\\n    static void Main(string[] args)\\n    {\\n        int start = 10, end = 50;\\n        var primes = FindPrimesInRange(start, end);\\n        Console.WriteLine(string.Join(\", \", primes));\\n    }\\n}\\n```\\n\\nLet me know if you need more programming languages!', additional_kwargs={}, response_metadata={}, name='researcher', id='6d77333c-ff92-4ada-9210-8aac3cdcb5ec'),\n",
       "   HumanMessage(content='Here are some additional examples for finding prime numbers in a range using different programming languages:\\n\\n---\\n\\n### PHP\\n```php\\nfunction is_prime($num) {\\n    if ($num < 2) return false;\\n    for ($i = 2; $i <= sqrt($num); $i++) {\\n        if ($num % $i == 0) return false;\\n    }\\n    return true;\\n}\\n\\nfunction find_primes_in_range($start, $end) {\\n    $primes = [];\\n    for ($i = $start; $i <= $end; $i++) {\\n        if (is_prime($i)) {\\n            $primes[] = $i;\\n        }\\n    }\\n    return $primes;\\n}\\n\\n$start = 10;\\n$end = 50;\\nprint_r(find_primes_in_range($start, $end));\\n```\\n\\n---\\n\\n### Go\\n```go\\npackage main\\n\\nimport (\\n\\t\"fmt\"\\n\\t\"math\"\\n)\\n\\nfunc isPrime(num int) bool {\\n\\tif num < 2 {\\n\\t\\treturn false\\n\\t}\\n\\tfor i := 2; i <= int(math.Sqrt(float64(num))); i++ {\\n\\t\\tif num%i == 0 {\\n\\t\\t\\treturn false\\n\\t\\t}\\n\\t}\\n\\treturn true\\n}\\n\\nfunc findPrimesInRange(start, end int) []int {\\n\\tprimes := []int{}\\n\\tfor i := start; i <= end; i++ {\\n\\t\\tif isPrime(i) {\\n\\t\\t\\tprimes = append(primes, i)\\n\\t\\t}\\n\\t}\\n\\treturn primes\\n}\\n\\nfunc main() {\\n\\tstart, end := 10, 50\\n\\tfmt.Println(findPrimesInRange(start, end))\\n}\\n```\\n\\n---\\n\\n### Kotlin\\n```kotlin\\nfun isPrime(num: Int): Boolean {\\n    if (num < 2) return false\\n    for (i in 2..Math.sqrt(num.toDouble()).toInt()) {\\n        if (num % i == 0) return false\\n    }\\n    return true\\n}\\n\\nfun findPrimesInRange(start: Int, end: Int): List<Int> {\\n    return (start..end).filter { isPrime(it) }\\n}\\n\\nfun main() {\\n    val start = 10\\n    val end = 50\\n    println(findPrimesInRange(start, end))\\n}\\n```\\n\\n---\\n\\n### Swift\\n```swift\\nimport Foundation\\n\\nfunc isPrime(_ num: Int) -> Bool {\\n    if num < 2 { return false }\\n    for i in 2...Int(sqrt(Double(num))) {\\n        if num % i == 0 {\\n            return false\\n        }\\n    }\\n    return true\\n}\\n\\nfunc findPrimesInRange(_ start: Int, _ end: Int) -> [Int] {\\n    var primes = [Int]()\\n    for i in start...end {\\n        if isPrime(i) {\\n            primes.append(i)\\n        }\\n    }\\n    return primes\\n}\\n\\nlet start = 10\\nlet end = 50\\nprint(findPrimesInRange(start, end))\\n```\\n\\n---\\n\\n### Rust\\n```rust\\nfn is_prime(num: u32) -> bool {\\n    if num < 2 {\\n        return false;\\n    }\\n    for i in 2..=((num as f64).sqrt() as u32) {\\n        if num % i == 0 {\\n            return false;\\n        }\\n    }\\n    true\\n}\\n\\nfn find_primes_in_range(start: u32, end: u32) -> Vec<u32> {\\n    let mut primes = Vec::new();\\n    for num in start..=end {\\n        if is_prime(num) {\\n            primes.push(num);\\n        }\\n    }\\n    primes\\n}\\n\\nfn main() {\\n    let start = 10;\\n    let end = 50;\\n    let primes = find_primes_in_range(start, end);\\n    println!(\"{:?}\", primes);\\n}\\n```\\n\\nLet me know if you\\'d like examples in any other language!', additional_kwargs={}, response_metadata={}, name='coder', id='744f0f6a-4fa3-4c43-9875-2166ab22a89b')],\n",
       "  'next': '__end__'})"
      ]
     },
     "execution_count": 30,
     "metadata": {},
     "output_type": "execute_result"
    }
   ],
   "source": [
    "app.invoke({\"messages\": [(\"user\", \"please give me a code snippet of finding prime numbers in range in different programming langugages\")]}, subgraphs=True)"
   ]
  },
  {
   "cell_type": "code",
   "execution_count": null,
   "id": "6123c3be",
   "metadata": {},
   "outputs": [],
   "source": []
  }
 ],
 "metadata": {
  "kernelspec": {
   "display_name": "agents",
   "language": "python",
   "name": "python3"
  },
  "language_info": {
   "codemirror_mode": {
    "name": "ipython",
    "version": 3
   },
   "file_extension": ".py",
   "mimetype": "text/x-python",
   "name": "python",
   "nbconvert_exporter": "python",
   "pygments_lexer": "ipython3",
   "version": "3.12.0"
  }
 },
 "nbformat": 4,
 "nbformat_minor": 5
}
