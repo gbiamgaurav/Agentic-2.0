{
 "cells": [
  {
   "cell_type": "code",
   "execution_count": 1,
   "id": "f9d77862",
   "metadata": {},
   "outputs": [
    {
     "data": {
      "text/plain": [
       "True"
      ]
     },
     "execution_count": 1,
     "metadata": {},
     "output_type": "execute_result"
    }
   ],
   "source": [
    "import os \n",
    "from dotenv import load_dotenv\n",
    "load_dotenv()"
   ]
  },
  {
   "cell_type": "code",
   "execution_count": 2,
   "id": "16c77c63",
   "metadata": {},
   "outputs": [
    {
     "data": {
      "text/plain": [
       "AIMessage(content='Hello! How can I assist you today? 😊', additional_kwargs={'refusal': None}, response_metadata={'token_usage': {'completion_tokens': 11, 'prompt_tokens': 8, 'total_tokens': 19, 'completion_tokens_details': {'accepted_prediction_tokens': 0, 'audio_tokens': 0, 'reasoning_tokens': 0, 'rejected_prediction_tokens': 0}, 'prompt_tokens_details': {'audio_tokens': 0, 'cached_tokens': 0}}, 'model_name': 'gpt-4o-2024-11-20', 'system_fingerprint': 'fp_ee1d74bde0', 'id': 'chatcmpl-BnfRgd1eeGr9XdhVLFJH7zvrMQ61O', 'service_tier': None, 'prompt_filter_results': [{'prompt_index': 0, 'content_filter_results': {'hate': {'filtered': False, 'severity': 'safe'}, 'jailbreak': {'filtered': False, 'detected': False}, 'self_harm': {'filtered': False, 'severity': 'safe'}, 'sexual': {'filtered': False, 'severity': 'safe'}, 'violence': {'filtered': False, 'severity': 'safe'}}}], 'finish_reason': 'stop', 'logprobs': None, 'content_filter_results': {'hate': {'filtered': False, 'severity': 'safe'}, 'protected_material_code': {'filtered': False, 'detected': False}, 'protected_material_text': {'filtered': False, 'detected': False}, 'self_harm': {'filtered': False, 'severity': 'safe'}, 'sexual': {'filtered': False, 'severity': 'safe'}, 'violence': {'filtered': False, 'severity': 'safe'}}}, id='run--3b17c804-21d6-42df-843c-1bf853f42057-0', usage_metadata={'input_tokens': 8, 'output_tokens': 11, 'total_tokens': 19, 'input_token_details': {'audio': 0, 'cache_read': 0}, 'output_token_details': {'audio': 0, 'reasoning': 0}})"
      ]
     },
     "execution_count": 2,
     "metadata": {},
     "output_type": "execute_result"
    }
   ],
   "source": [
    "from langchain_openai import AzureChatOpenAI\n",
    "\n",
    "llm = AzureChatOpenAI(\n",
    "    azure_endpoint=os.getenv(\"AZURE_ENDPOINT\"),\n",
    "    api_key=os.getenv(\"AZUE_OPENAI_API_KEY\"),\n",
    "    azure_deployment=os.getenv(\"AZURE_DEPLOYMENT_NAME\"),\n",
    "    api_version=os.getenv(\"AZURE_VERSION\")\n",
    ")\n",
    "\n",
    "llm.invoke(\"hi\")"
   ]
  },
  {
   "cell_type": "code",
   "execution_count": 3,
   "id": "6e2a6dd8",
   "metadata": {},
   "outputs": [],
   "source": [
    "from langchain_core.tools import tool\n",
    "from langchain_community.tools.tavily_search import TavilySearchResults"
   ]
  },
  {
   "cell_type": "code",
   "execution_count": 4,
   "id": "b7921812",
   "metadata": {},
   "outputs": [],
   "source": [
    "TAVILY_API_KEY=os.getenv(\"TAVILY_API_KEY\")\n",
    "search_tool=TavilySearchResults(tavily_api_key=TAVILY_API_KEY)"
   ]
  },
  {
   "cell_type": "code",
   "execution_count": 5,
   "id": "cc011b0a",
   "metadata": {},
   "outputs": [],
   "source": [
    "@tool\n",
    "def multiply(x: int, y: int) -> int:\n",
    "    \"\"\"Multiplies two numbers.\"\"\"\n",
    "    return x * y"
   ]
  },
  {
   "cell_type": "code",
   "execution_count": 6,
   "id": "20559bad",
   "metadata": {},
   "outputs": [
    {
     "name": "stderr",
     "output_type": "stream",
     "text": [
      "C:\\Users\\User\\AppData\\Local\\Temp\\ipykernel_1952\\4161870413.py:1: LangChainDeprecationWarning: The method `BaseTool.__call__` was deprecated in langchain-core 0.1.47 and will be removed in 1.0. Use :meth:`~invoke` instead.\n",
      "  multiply({\"x\":2, \"y\":3})\n"
     ]
    },
    {
     "data": {
      "text/plain": [
       "6"
      ]
     },
     "execution_count": 6,
     "metadata": {},
     "output_type": "execute_result"
    }
   ],
   "source": [
    "multiply({\"x\":2, \"y\":3})"
   ]
  },
  {
   "cell_type": "code",
   "execution_count": 7,
   "id": "f208f01e",
   "metadata": {},
   "outputs": [],
   "source": [
    "@tool\n",
    "def search(query: str):\n",
    "    \"\"\"search the web for a query and return the results\"\"\"\n",
    "    search_tool=TavilySearchResults(tavily_api_key=TAVILY_API_KEY)\n",
    "    result=search_tool.invoke(query)\n",
    "    return f\"Result for {query} is: \\n{result}\""
   ]
  },
  {
   "cell_type": "code",
   "execution_count": 8,
   "id": "f55fba9a",
   "metadata": {},
   "outputs": [
    {
     "name": "stdout",
     "output_type": "stream",
     "text": [
      "Result for What is the capital of France? is: \n",
      "[{'title': 'Paris facts: the capital of France in history', 'url': 'https://home.adelphi.edu/~ca19535/page%204.html', 'content': 'page 4\\n\\n===============\\n\\nHomeSpainSydneySan FranciscoParisLas VegasMaui\\n\\n Paris, France\\n\\nImage 1\\n\\nParis facts: Paris, the capital of France\\n---------------------------------------------\\n\\nParis is the capital of France, the largest country of Europe with 550 000 km2 (65 millions inhabitants).\\n\\nParis has 2.234 million inhabitants end 2011. She is the core of Ile de France region (12 million people). [...] Before Paris, the capital of France was Lyon (under the Romans). Paris first became the capital of France in 508 under King Clovis. After centuries with no unique capital of France, Paris retrieved its status of capital of France under King Philippe Auguste, who reigned between 1180 and 1223. You can see remains of the Philippe August Paris walls in the passageway between the Louvre parking and Louvre Museum [...] Paris remained the capital of France until today, with one four year interruption. During German occupation (WW2 , 1940-1944), the capital of France was Vichy.\\n\\ngo to top\\n\\nReference:', 'score': 0.89166987}, {'title': 'Paris - Simple English Wikipedia, the free encyclopedia', 'url': 'https://simple.wikipedia.org/wiki/Paris', 'content': 'Wikipedia\\n\\n# Paris\\n\\nParis (nicknamed the \"City of light\") is the capital city \"Capital (city)\") of France, and the largest city in France. The area is 105 square kilometres (41 square miles), and around 2.15 million people live there. If suburbs are counted, the population of the Paris area rises to 10.7 million people. It is the most densely populated city in the European Union, with 20.653 people per square kilometer.', 'score': 0.88372874}, {'title': 'Paris - Wikipedia', 'url': 'https://en.wikipedia.org/wiki/Paris', 'content': 'As the capital of France, Paris is the seat of France\\'s national government. For the executive, the two chief officers each have their own official residences, which also serve as their offices. The President of the French Republic resides at the Élysée Palace.( The Prime Minister\\'s seat is at the Hôtel Matignon.( Government ministries are located in various parts of the city, many near the Hôtel Matignon.( [...] Appearance\\n\\nmove to sidebar hide\\n\\nCoordinates: 48°51′24″N 2°21′8″E / 48.85667°N 2.35222°E / 48.85667; 2.35222_region:FR-75C)\\n\\nImage 4: This is a good article. Click here for more information.\\n\\nImage 5: Page semi-protected\\n\\nFrom Wikipedia, the free encyclopedia\\n\\nCapital and largest city of France\\n\\nThis article is about the capital city of France. For other uses, see Paris (disambiguation) \"Paris (disambiguation)\"). [...] Paris (French pronunciation:( \"Help:IPA/French\")ⓘ) is the capital and largest city of France. With an estimated population of 2,048,472 residents in January 2025( in an area of more than 105 km 2 (41 sq mi),( Paris is the fourth-most populous city in the European Union and the 30th most densely populated city in the world in 2022.( Since the 17th century, Paris has been one of the world\\'s major centres of finance, diplomacy, commerce, culture, fashion, and gastronomy. Because of its leading', 'score': 0.8815438}, {'title': 'What is the Capital of France? - WorldAtlas', 'url': 'https://www.worldatlas.com/articles/what-is-the-capital-of-france.html', 'content': 'Paris is the capital city of France. The city has an approximate area of 41 square miles with a population of 2,206,488 people as of 2018. Contrary to popular belief, the name of the city did not come from the Paris in Greek myths. Instead, the name Paris is derived from the city’s initial inhabitants who were part of the Celtic Parisii tribe. Sometimes, the city is called the City of Light for two reasons; it was among the first cities to adopt gas for lighting the streets and its role during [...] Published Time: 2018-06-29T15:23:00-04:00\\n\\nWhat is the Capital of France? - WorldAtlas\\n\\n===============\\n\\nWhat is the Capital of France?\\n==============================\\n\\nImage 1: Tourism has always been a major source of income for Paris. \\n\\nTourism has always been a major source of income for Paris. [...] As the capital city of France, the city plays host to the national government of France. Even the official residence of the president is in the city at the Élysée Palace while the Prime Minister is housed at the Hôtel Matignon. The Senate or the upper house meets at the Palais du Luxembourg while the Palais Bourbon is the meeting point for the Assemblée Nationale. The second highest public official after the President of France, the President of the Senate, stays at the Petit Luxembourg.', 'score': 0.87807417}, {'title': 'Paris - Wikiwand', 'url': 'https://www.wikiwand.com/en/articles/Paris', 'content': 'As the capital of France, Paris is the seat of France\\'s national government. For the executive, the two chief officers each have their own official residences, which also serve as their offices. The President of the French Republic resides at the Élysée Palace.(./Paris#cite_note-121) The Prime Minister\\'s seat is at the Hôtel Matignon.(./Paris#cite_note-122)(./Paris#cite_note-FOOTNOTEKnappWright200693–94-123) Government ministries are located in various parts of the city, many near the Hôtel [...] Paris (French pronunciation: ( \"Help:IPA/French\") ⓘ) is the capital and largest city of France. With an estimated population of 2,048,472 residents in January 2025(./Paris#cite_note-pop2025-3) in an area of more than 105 km2 (41 sq mi),(./Paris#cite_note-pop2019-4) Paris is the fourth-most populous city in the European Union and the 30th most densely populated city in the world in 2022.(./Paris#cite_note-5) Since the 17th century, Paris has been one of the world\\'s major centres of finance, [...] With 200,000 inhabitants in 1328, Paris, then already the capital of France, was the most populous city of Europe. By comparison, London in 1300 had 80,000 inhabitants.(./Paris#cite_note-ParisDigest-39) By the early fourteenth century, so much filth had collected inside urban Europe that French and Italian cities were naming streets after human waste. In medieval Paris, several street names were inspired by merde, the French word for \"shit\".(./Paris#cite_note-40)\\n\\nThumb', 'score': 0.875031}]\n"
     ]
    }
   ],
   "source": [
    "print(search.invoke({\"query\":\"What is the capital of France?\"}))"
   ]
  },
  {
   "cell_type": "code",
   "execution_count": 9,
   "metadata": {},
   "outputs": [],
   "source": [
    "tools = [multiply, search]"
   ]
  },
  {
   "cell_type": "code",
   "execution_count": 10,
   "id": "5341bc80",
   "metadata": {},
   "outputs": [
    {
     "data": {
      "text/plain": [
       "[StructuredTool(name='multiply', description='Multiplies two numbers.', args_schema=<class 'langchain_core.utils.pydantic.multiply'>, func=<function multiply at 0x0000024E48CE9260>),\n",
       " StructuredTool(name='search', description='search the web for a query and return the results', args_schema=<class 'langchain_core.utils.pydantic.search'>, func=<function search at 0x0000024E469FC180>)]"
      ]
     },
     "execution_count": 10,
     "metadata": {},
     "output_type": "execute_result"
    }
   ],
   "source": [
    "tools"
   ]
  },
  {
   "cell_type": "code",
   "execution_count": 11,
   "id": "19f5cb28",
   "metadata": {},
   "outputs": [],
   "source": [
    "llm_with_tools=llm.bind_tools(tools)"
   ]
  },
  {
   "cell_type": "code",
   "execution_count": 12,
   "id": "0b3054bc",
   "metadata": {},
   "outputs": [],
   "source": [
    "result=llm_with_tools.invoke(\"what is current gdp of india?\")"
   ]
  },
  {
   "cell_type": "code",
   "execution_count": 13,
   "metadata": {},
   "outputs": [
    {
     "data": {
      "text/plain": [
       "''"
      ]
     },
     "execution_count": 13,
     "metadata": {},
     "output_type": "execute_result"
    }
   ],
   "source": [
    "result.content"
   ]
  },
  {
   "cell_type": "code",
   "execution_count": 14,
   "id": "e779aadc",
   "metadata": {},
   "outputs": [
    {
     "data": {
      "text/plain": [
       "[{'name': 'search',\n",
       "  'args': {'query': 'current GDP of India 2023'},\n",
       "  'id': 'call_DJ0vcS8pXWeaZfmYKaWPC6CA',\n",
       "  'type': 'tool_call'}]"
      ]
     },
     "execution_count": 14,
     "metadata": {},
     "output_type": "execute_result"
    }
   ],
   "source": [
    "result.tool_calls"
   ]
  },
  {
   "cell_type": "code",
   "execution_count": 15,
   "metadata": {},
   "outputs": [
    {
     "data": {
      "text/plain": [
       "'search'"
      ]
     },
     "execution_count": 15,
     "metadata": {},
     "output_type": "execute_result"
    }
   ],
   "source": [
    "result.tool_calls[0][\"name\"]"
   ]
  },
  {
   "cell_type": "code",
   "execution_count": 16,
   "id": "fa9a8729",
   "metadata": {},
   "outputs": [
    {
     "data": {
      "text/plain": [
       "{'query': 'current GDP of India 2023'}"
      ]
     },
     "execution_count": 16,
     "metadata": {},
     "output_type": "execute_result"
    }
   ],
   "source": [
    "result.tool_calls[0][\"args\"]"
   ]
  },
  {
   "cell_type": "code",
   "execution_count": 17,
   "id": "3f06e95e",
   "metadata": {},
   "outputs": [
    {
     "data": {
      "text/plain": [
       "dict"
      ]
     },
     "execution_count": 17,
     "metadata": {},
     "output_type": "execute_result"
    }
   ],
   "source": [
    "type(result.tool_calls[0][\"args\"])"
   ]
  },
  {
   "cell_type": "code",
   "execution_count": 18,
   "metadata": {},
   "outputs": [
    {
     "data": {
      "text/plain": [
       "{'multiply': StructuredTool(name='multiply', description='Multiplies two numbers.', args_schema=<class 'langchain_core.utils.pydantic.multiply'>, func=<function multiply at 0x0000024E48CE9260>),\n",
       " 'search': StructuredTool(name='search', description='search the web for a query and return the results', args_schema=<class 'langchain_core.utils.pydantic.search'>, func=<function search at 0x0000024E469FC180>)}"
      ]
     },
     "execution_count": 18,
     "metadata": {},
     "output_type": "execute_result"
    }
   ],
   "source": [
    "tool_mapping={tool.name:tool for tool in tools}\n",
    "\n",
    "tool_mapping"
   ]
  },
  {
   "cell_type": "code",
   "execution_count": 19,
   "id": "d4a8d986",
   "metadata": {},
   "outputs": [
    {
     "data": {
      "text/plain": [
       "StructuredTool(name='search', description='search the web for a query and return the results', args_schema=<class 'langchain_core.utils.pydantic.search'>, func=<function search at 0x0000024E469FC180>)"
      ]
     },
     "execution_count": 19,
     "metadata": {},
     "output_type": "execute_result"
    }
   ],
   "source": [
    "tool_mapping[\"search\"]"
   ]
  },
  {
   "cell_type": "code",
   "execution_count": 20,
   "id": "646a874c",
   "metadata": {},
   "outputs": [
    {
     "data": {
      "text/plain": [
       "'Result for What is the capital of india? is: \\n[{\\'title\\': \\'What is the Capital of India? - Mappr\\', \\'url\\': \\'https://www.mappr.co/capital-cities/india/\\', \\'content\\': \\'What is the Capital of India?\\\\n=============================\\\\n\\\\nNew Delhi is the capital of India. A cosmopolitan city in South Asia, New Delhi is home to a diverse population that speaks many different languages and holds a wide variety of religious beliefs. The city of New Delhi is part of the larger Delhi Metro Area whose population is over 32 million, and it is well-known for its chaotic traffic and large crowds. [...] New Delhi was not always the capital of India. Prior to 1911, Calcutta was the capital city of the country. India was under British rule at this time, and it was decided to move the capital away from Calcutta due to the intense anti-colonial sentiments that existed there.\\\\n\\\\nImage 4: A bustling street with various vehicles, roadside billboards, and urban development on both sides.\\\\n\\\\nTraffic in New Delhi [...] ### What was the first capital of India?\\\\n\\\\nBefore New Delhi was the capital of India, the city of Calcutta (Kolkata) became the nation’s capital in 1772. Various important statesmen and yogis have come from Calcutta, and the city was a center of culture and politics within India from the 18th century onward.\\\\n\\\\n### Is New Delhi worth visiting?\\', \\'score\\': 0.93624437}, {\\'title\\': \\'New Delhi - Wikipedia\\', \\'url\\': \\'https://en.wikipedia.org/wiki/New_Delhi\\', \\'content\\': \\'Appearance\\\\n\\\\nmove to sidebar hide\\\\n\\\\nCoordinates: 28°36′50″N 77°12′32″E / 28.61389°N 77.20889°E / 28.61389; 77.20889\\\\n\\\\nImage 4: Page semi-protected\\\\n\\\\nFrom Wikipedia, the free encyclopedia\\\\n\\\\nCapital city of India\\\\n\\\\nThis article is about the capital of India, within the union territory of Delhi. For other uses, see New Delhi (disambiguation) \"New Delhi (disambiguation)\"). [...] New Delhi (/ˈ nj uː ˈ d ɛ.l i/ⓘ;( _\\\\\\\\_\\\\\\\\\\\\\\\\_Naī Dillī\\\\\\\\\\\\\\\\_\\\\\\\\__, pronounced( \"Help:IPA/Hindi and Urdu\")) is the capital of India and a part of the National Capital Territory of Delhi (NCT). New Delhi is the seat of all three branches of the Government of India, hosting the Rashtrapati Bhavan, Sansad Bhavan, and the Supreme Court. New Delhi is a municipality within the NCT, administered by the New Delhi Municipal Council (NDMC), which covers mostly Lutyens\\\\\\' Delhi and a few adjacent areas. The municipal [...] 8.   ^Stancati, Margherita (8 December 2011). \"New Delhi becomes the capital of Independent India\". _The Wall Street Journal_. Archived from the original on 13 December 2019. Retrieved 11 December 2011.\\\\n9.   ^\"86 years ago New Delhi took over as power capital of India\". _The Times of India_. Archived from the original on 1 March 2021. Retrieved 31 May 2018.\\', \\'score\\': 0.9108078}, {\\'title\\': \\'Which City became the capital of India for a day, Check here\\', \\'url\\': \\'https://www.jagranjosh.com/general-knowledge/which-city-became-the-capital-of-india-for-a-day-1731421925-1\\', \\'content\\': \\'If you are asked what the capital of India is, your answer will be New Delhi, which was settled by the British. Do you know that once in Indian history, a district was made the capital of the country? However, this incident lasted only for a day, after which it was recorded in the pages of history forever. This article will introduce you to one such district in India. [...] Image 1Image 2: Kishan Kumar\\\\n\\\\nByKishan Kumar\\\\n\\\\nNov 12, 2024, 20:03 IST\\\\n\\\\n   \\\\n   \\\\n   \\\\n   \\\\n   \\\\n\\\\nImage 4: one day capital of India.webp)\\\\n\\\\none day capital of India\\\\n\\\\nIf someone asks you what is the capital of India, you will answer that it is New Delhi, which the British established. In Indian history, the capital of the country changed many times and different cities got the honour of becoming the capital of the country. [...] After making Kolkata its capital, on 12 December 1912, New Delhi was declared as the capital of the country in the presence of George V. Since then, the name of New Delhi has been associated with the capital of the country.\\\\n\\\\nAbout the Author\\\\n\\\\nImage 8: Kishan Kumar\\\\n\\\\nKishan KumarSenior content writer\\', \\'score\\': 0.90432173}, {\\'title\\': \\'States and Capitals of India - Full List of Indian States & UTs (2025)\\', \\'url\\': \\'https://arca.co.in/blogs/states-and-capitals/\\', \\'content\\': \\'Keep revisiting and practicing. With time, these names will become second nature. Explore maps, quizzes, and reading materials to keep things engaging, and you’ll master Indian geography in no time.\\\\n\\\\nFAQs\\\\n--------\\\\n\\\\n1.   How many states and union territories are there in India in 2025? There are 28 states and 8 Union Territories in India.\\\\n\\\\n2.   What is the capital of India? The capital of India is New Delhi. [...] 1.   Chandigarh – A Triple Role City Chandigarh is one of the most interesting capitals in India—it serves as the capital of not one, but two states: Punjab and Haryana, and is also a Union Territory on its own.\\\\n2.   Two Capitals, One State – Jammu & Kashmir Jammu & Kashmir is the only region in India with two capitals: Srinagar (summer) and Jammu (winter). The capital shifts with the seasons!\\', \\'score\\': 0.89030397}, {\\'title\\': \\'What is the difference between Delhi and New Delhi?\\', \\'url\\': \\'https://timesofindia.indiatimes.com/travel/destinations/what-is-the-difference-between-delhi-and-new-delhi/articleshow/106572882.cms\\', \\'content\\': \\'The capital city of India – that’s a more simple way to explain what this city is. The city is, without a doubt, a sprawling metropolis, and for as long as one can remember and even way before that, the city has been an integral part of India’s history. Be it wars or trade or exchange of powers, The city has been a witness to all. Officially, the city is called the National Capital Territory (NCT) of Delhi. It is a city and a union territory of India containing New Delhi, the capital of India.\\', \\'score\\': 0.8729662}]'"
      ]
     },
     "execution_count": 20,
     "metadata": {},
     "output_type": "execute_result"
    }
   ],
   "source": [
    "#manually i am passing here\n",
    "tool_mapping[\"search\"].invoke({\"query\":\"What is the capital of india?\"})"
   ]
  },
  {
   "cell_type": "code",
   "execution_count": 21,
   "metadata": {},
   "outputs": [
    {
     "data": {
      "text/plain": [
       "'Result for current GDP of India 2023 is: \\n[{\\'title\\': \\'India GDP - TRADING ECONOMICS\\', \\'url\\': \\'https://tradingeconomics.com/india/gdp\\', \\'content\\': \\'The Gross Domestic Product (GDP) in India was worth 3567.55 billion US dollars in 2023, according to official data from the World Bank. The GDP value of India represents 3.38 percent of the world economy. This page provides the latest reported value for - India GDP - plus previous releases, historical high and low, short-term forecast and long-term prediction, economic calendar, survey\\', \\'score\\': 0.9314689}, {\\'title\\': \\'India GDP - Gross Domestic Product 2023 | countryeconomy.com\\', \\'url\\': \\'https://countryeconomy.com/gdp/india?year=2023\\', \\'content\\': \\'The GDP figure in 2023 was €3,364,051$3,638,490 million, leaving India placed 5th in the ranking of GDP of the 196 countries that we publish. The absolute value of GDP in India rose €189,006$209,978 million with respect to 2022. [...] The GDP per capita of India in 2023 was €2,339$2,530, €112$125 higher than in 2022, it was €2,227$2,405. To view the evolution of the GDP per capita, it is interesting to look back a few years and compare these data with those of 2013 when the GDP per capita in India was €1,083$1,438.\\\\n\\\\nIf we order the countries according to their GDP per capita, India is in 145th position, its population has a low level of affluence compare tothe 196 countries whose GDP we publish. [...] ## Main navigation\\\\n\\\\nFacebook\\\\nTwitter\\\\n\\\\n## Top menu\\\\n\\\\n# India India GDP - Gross Domestic Product\\\\n\\\\nIndia\\\\nShare Whatsapp\\\\nShare Facebook\\\\nTwitter\\\\nShare Linkedin\\\\n\\\\nGDP India 2023\\\\n\\\\n## GDP grows 9.2% in India\\\\n\\\\nGross Domestic Product of India grew 9.2% in 2023 compared to last year. This rate is 22\\\\n-tenths of one percent higher than the figure of 7% published in 2022.\\', \\'score\\': 0.9287263}, {\\'title\\': \"India\\'s GDP is now $3.75 trillion, says FinMin - Business Today\", \\'url\\': \\'https://www.businesstoday.in/latest/economy/story/indias-gdp-crosses-3-trillion-mark-hits-375-tn-in-2023-finance-ministry-385165-2023-06-12\\', \\'content\\': \\'The now-deleted tweet read: \"India\\\\\\'s GDP has reached $3.75 trillion in 2023, from around $2 trillion in 2014; moving from 10th largest to 5th largest economy in the world.\\', \\'score\\': 0.9245858}, {\\'title\\': \\'GDP | India | 2013 - 2024 | Data, Charts and Analysis - The Mirrority\\', \\'url\\': \\'https://www.themirrority.com/data/gdp\\', \\'content\\': \"India\\'s GDP at current prices in 2023-24 is estimated at USD 3.55 trillion. In rupee terms, the size of India\\'s economy is estimated at INR 295.4 trillion. India\\'s GDP is estimated to grow by 7.6% in 2023-24, from 7% estimated in 2022-23. The ruling BJP government has set an ambitious target of making India a USD 5 trillion economy by 2024 which was later revised to 2026. The economy will need\", \\'score\\': 0.92142147}, {\\'title\\': \\'Press Release: Press Information Bureau\\', \\'url\\': \\'https://pib.gov.in/PressReleaseIframePage.aspx?PRID=2022323\\', \\'content\\': \\'The growth rate in Real GDP during 2023-24 is estimated at 8.2% as compared to 7.0% in 2022-23. Nominal GDP or GDP at Current Prices is estimated to attain a level of ₹295.36 lakh crore in the year 2023-24, against ₹269.50 lakh crore in 2022-23, showing a growth rate of 9.6%.\\', \\'score\\': 0.89545894}]'"
      ]
     },
     "execution_count": 21,
     "metadata": {},
     "output_type": "execute_result"
    }
   ],
   "source": [
    "tool_mapping[result.tool_calls[0][\"name\"]].invoke(result.tool_calls[0][\"args\"])"
   ]
  },
  {
   "cell_type": "code",
   "execution_count": 22,
   "id": "5a27832c",
   "metadata": {},
   "outputs": [],
   "source": [
    "from typing import TypedDict, Sequence, Annotated\n",
    "import operator\n",
    "from langchain_core.messages import BaseMessage"
   ]
  },
  {
   "cell_type": "code",
   "execution_count": 23,
   "metadata": {},
   "outputs": [],
   "source": [
    "class AgentState(TypedDict):\n",
    "    \"\"\"State for the agent.\"\"\"\n",
    "    messages: Annotated[Sequence[BaseMessage],operator.add]"
   ]
  },
  {
   "cell_type": "code",
   "execution_count": 24,
   "id": "d8a1829e",
   "metadata": {},
   "outputs": [],
   "source": [
    "def invoke_model(state:AgentState):\n",
    "    messages=state[\"messages\"]\n",
    "    question=messages[-1]\n",
    "    response=llm_with_tools.invoke(question)\n",
    "    return {\"messages\":[response]}"
   ]
  },
  {
   "cell_type": "code",
   "execution_count": 25,
   "id": "f04d30cf",
   "metadata": {},
   "outputs": [],
   "source": [
    "def router(state:AgentState):\n",
    "    tool_calls=state[\"messages\"][-1].tool_calls\n",
    "    if len(tool_calls)>0:\n",
    "        return \"tool\"\n",
    "    else:\n",
    "        return \"end\""
   ]
  },
  {
   "cell_type": "code",
   "execution_count": 26,
   "id": "823ed531",
   "metadata": {},
   "outputs": [],
   "source": [
    "def invoke_tool(state:AgentState):\n",
    "    tool_details=state[\"messages\"][-1].tool_calls\n",
    "    \n",
    "    if tool_details is None:\n",
    "        return Exception(\"No tool calls found in the last message.\")\n",
    "    \n",
    "    print(f\"Seleted tool: {tool_details[0]['name']}\")\n",
    "    \n",
    "    if tool_details[0][\"name\"]==\"search\":\n",
    "        response=input(prompt=f\"[yes/no] do you want to continue with this expensive web search\")\n",
    "        if response.lower()==\"no\":\n",
    "            print(\"web search discarded by the user. exiting gracefully\")\n",
    "            raise Exception(\"Web search discarded by the user.\")\n",
    "            \n",
    "    \n",
    "    response=tool_mapping[tool_details[0][\"name\"]].invoke(tool_details[0][\"args\"])\n",
    "    return {\"messages\":[response]}"
   ]
  },
  {
   "cell_type": "code",
   "execution_count": 27,
   "id": "e98a8fe5",
   "metadata": {},
   "outputs": [
    {
     "data": {
      "text/plain": [
       "[StructuredTool(name='multiply', description='Multiplies two numbers.', args_schema=<class 'langchain_core.utils.pydantic.multiply'>, func=<function multiply at 0x0000024E48CE9260>),\n",
       " StructuredTool(name='search', description='search the web for a query and return the results', args_schema=<class 'langchain_core.utils.pydantic.search'>, func=<function search at 0x0000024E469FC180>)]"
      ]
     },
     "execution_count": 27,
     "metadata": {},
     "output_type": "execute_result"
    }
   ],
   "source": [
    "tools"
   ]
  },
  {
   "cell_type": "code",
   "execution_count": 28,
   "id": "b269dbc9",
   "metadata": {},
   "outputs": [],
   "source": [
    "from langgraph.graph import StateGraph, START,END"
   ]
  },
  {
   "cell_type": "code",
   "execution_count": 29,
   "metadata": {},
   "outputs": [],
   "source": [
    "graph=StateGraph(AgentState)"
   ]
  },
  {
   "cell_type": "code",
   "execution_count": 30,
   "id": "77c71307",
   "metadata": {},
   "outputs": [
    {
     "data": {
      "text/plain": [
       "<langgraph.graph.state.StateGraph at 0x24e4ee8e3f0>"
      ]
     },
     "execution_count": 30,
     "metadata": {},
     "output_type": "execute_result"
    }
   ],
   "source": [
    "graph.add_node(\"ai_assistant\", invoke_model)"
   ]
  },
  {
   "cell_type": "code",
   "execution_count": 31,
   "id": "7a5e5c6f",
   "metadata": {},
   "outputs": [
    {
     "data": {
      "text/plain": [
       "<langgraph.graph.state.StateGraph at 0x24e4ee8e3f0>"
      ]
     },
     "execution_count": 31,
     "metadata": {},
     "output_type": "execute_result"
    }
   ],
   "source": [
    "graph.add_node(\"tool\", invoke_tool)"
   ]
  },
  {
   "cell_type": "code",
   "execution_count": 32,
   "id": "c53db0d6",
   "metadata": {},
   "outputs": [
    {
     "data": {
      "text/plain": [
       "<langgraph.graph.state.StateGraph at 0x24e4ee8e3f0>"
      ]
     },
     "execution_count": 32,
     "metadata": {},
     "output_type": "execute_result"
    }
   ],
   "source": [
    "graph.add_conditional_edges(\"ai_assistant\",\n",
    "                            router,\n",
    "                            {\n",
    "                                \"tool\":\"tool\",\n",
    "                                \"end\":END\n",
    "                            }\n",
    "                            )"
   ]
  },
  {
   "cell_type": "code",
   "execution_count": 33,
   "id": "b01e7aa2",
   "metadata": {},
   "outputs": [
    {
     "data": {
      "text/plain": [
       "<langgraph.graph.state.StateGraph at 0x24e4ee8e3f0>"
      ]
     },
     "execution_count": 33,
     "metadata": {},
     "output_type": "execute_result"
    }
   ],
   "source": [
    "graph.add_edge(\"tool\", END)"
   ]
  },
  {
   "cell_type": "code",
   "execution_count": 34,
   "id": "13876c01",
   "metadata": {},
   "outputs": [
    {
     "data": {
      "text/plain": [
       "<langgraph.graph.state.StateGraph at 0x24e4ee8e3f0>"
      ]
     },
     "execution_count": 34,
     "metadata": {},
     "output_type": "execute_result"
    }
   ],
   "source": [
    "graph.set_entry_point(\"ai_assistant\")"
   ]
  },
  {
   "cell_type": "code",
   "execution_count": 35,
   "id": "c46b8515",
   "metadata": {},
   "outputs": [],
   "source": [
    "app=graph.compile()"
   ]
  },
  {
   "cell_type": "code",
   "execution_count": 36,
   "id": "9e8db904",
   "metadata": {},
   "outputs": [
    {
     "data": {
      "image/png": "[encoded data removed]",
      "text/plain": [
       "<IPython.core.display.Image object>"
      ]
     },
     "metadata": {},
     "output_type": "display_data"
    }
   ],
   "source": [
    "# View the Graph\n",
    "from IPython.display import display,Image\n",
    "display(Image(app.get_graph().draw_mermaid_png()))"
   ]
  },
  {
   "cell_type": "code",
   "execution_count": 37,
   "id": "c2074841",
   "metadata": {},
   "outputs": [
    {
     "name": "stdout",
     "output_type": "stream",
     "text": [
      "Seleted tool: search\n"
     ]
    },
    {
     "data": {
      "text/plain": [
       "{'messages': ['What is the current gdp of the india?',\n",
       "  AIMessage(content='', additional_kwargs={'tool_calls': [{'id': 'call_mffTMLyM5taPxn1dwt8Lto6J', 'function': {'arguments': '{\"query\":\"current GDP of India 2023\"}', 'name': 'search'}, 'type': 'function'}], 'refusal': None}, response_metadata={'token_usage': {'completion_tokens': 20, 'prompt_tokens': 80, 'total_tokens': 100, 'completion_tokens_details': {'accepted_prediction_tokens': 0, 'audio_tokens': 0, 'reasoning_tokens': 0, 'rejected_prediction_tokens': 0}, 'prompt_tokens_details': {'audio_tokens': 0, 'cached_tokens': 0}}, 'model_name': 'gpt-4o-2024-11-20', 'system_fingerprint': 'fp_ee1d74bde0', 'id': 'chatcmpl-BnfRw0fTO22G9xxWXDbQDAwmNn2Ep', 'service_tier': None, 'prompt_filter_results': [{'prompt_index': 0, 'content_filter_results': {'hate': {'filtered': False, 'severity': 'safe'}, 'jailbreak': {'filtered': False, 'detected': False}, 'self_harm': {'filtered': False, 'severity': 'safe'}, 'sexual': {'filtered': False, 'severity': 'safe'}, 'violence': {'filtered': False, 'severity': 'safe'}}}], 'finish_reason': 'tool_calls', 'logprobs': None, 'content_filter_results': {}}, id='run--03de5984-eda7-45d4-91be-0a39df478764-0', tool_calls=[{'name': 'search', 'args': {'query': 'current GDP of India 2023'}, 'id': 'call_mffTMLyM5taPxn1dwt8Lto6J', 'type': 'tool_call'}], usage_metadata={'input_tokens': 80, 'output_tokens': 20, 'total_tokens': 100, 'input_token_details': {'audio': 0, 'cache_read': 0}, 'output_token_details': {'audio': 0, 'reasoning': 0}}),\n",
       "  'Result for current GDP of India 2023 is: \\n[{\\'title\\': \\'India GDP - Gross Domestic Product 2023 | countryeconomy.com\\', \\'url\\': \\'https://countryeconomy.com/gdp/india?year=2023\\', \\'content\\': \\'The GDP figure in 2023 was €3,364,051$3,638,490 million, leaving India placed 5th in the ranking of GDP of the 196 countries that we publish. The absolute value of GDP in India rose €189,006$209,978 million with respect to 2022. [...] The GDP per capita of India in 2023 was €2,339$2,530, €112$125 higher than in 2022, it was €2,227$2,405. To view the evolution of the GDP per capita, it is interesting to look back a few years and compare these data with those of 2013 when the GDP per capita in India was €1,083$1,438.\\\\n\\\\nIf we order the countries according to their GDP per capita, India is in 145th position, its population has a low level of affluence compare tothe 196 countries whose GDP we publish. [...] ## Main navigation\\\\n\\\\nFacebook\\\\nTwitter\\\\n\\\\n## Top menu\\\\n\\\\n# India India GDP - Gross Domestic Product\\\\n\\\\nIndia\\\\nShare Whatsapp\\\\nShare Facebook\\\\nTwitter\\\\nShare Linkedin\\\\n\\\\nGDP India 2023\\\\n\\\\n## GDP grows 9.2% in India\\\\n\\\\nGross Domestic Product of India grew 9.2% in 2023 compared to last year. This rate is 22\\\\n-tenths of one percent higher than the figure of 7% published in 2022.\\', \\'score\\': 0.9287263}, {\\'title\\': \"India\\'s GDP is now $3.75 trillion, says FinMin - Business Today\", \\'url\\': \\'https://www.businesstoday.in/latest/economy/story/indias-gdp-crosses-3-trillion-mark-hits-375-tn-in-2023-finance-ministry-385165-2023-06-12\\', \\'content\\': \\'The now-deleted tweet read: \"India\\\\\\'s GDP has reached $3.75 trillion in 2023, from around $2 trillion in 2014; moving from 10th largest to 5th largest economy in the world.\\', \\'score\\': 0.9245858}, {\\'title\\': \\'Indian economy: 2023 wrapped - Observer Research Foundation\\', \\'url\\': \\'https://www.orfonline.org/expert-speak/indian-economy-2023-wrapped\\', \\'content\\': \\'The Indian economy witnessed a great year, closing 2023 with a GDP of US$ 3.73 trillion, GDP per capita at US$ 2,610 and a projected GDP growth rate of 6.3 percent against the global average of 2.9 percent.\\', \\'score\\': 0.91795975}, {\\'title\\': \\'India GDP - TRADING ECONOMICS\\', \\'url\\': \\'https://tradingeconomics.com/india/gdp\\', \\'content\\': \\'##### Members\\\\n\\\\n##### \\\\n\\\\n# India GDP\\\\n\\\\n## The Gross Domestic Product (GDP) in India was worth 3567.55 billion US dollars in 2023, according to official data from the World Bank. The GDP value of India represents 3.38 percent of the world economy. source: World Bank [...] ## GDP in India averaged 785.41 USD Billion from 1960 until 2023, reaching an all time high of 3567.55 USD Billion in 2023 and a record low of 37.03 USD Billion in 1960. This page provides the latest reported value for - India GDP - plus previous releases, historical high and low, short-term forecast and long-term prediction, economic calendar, survey consensus and news. India GDP - values, historical data and charts - was last updated on June of 2025.\\', \\'score\\': 0.91399205}, {\\'title\\': \\'GDP and per capita income - Data For India\\', \\'url\\': \\'https://www.dataforindia.com/gdp/\\', \\'content\\': \"India\\'s GDP in 2023 was Rs 300 trillion (Rs 300 lakh crore). [1] In dollar terms, it was $3.7 trillion. The Indian economy is projected to be the fourth largest in the world by 2024 [2] and the third largest by 2027 [3]. GDP growth GDP growth is the change in GDP over time.\", \\'score\\': 0.9123193}]']}"
      ]
     },
     "execution_count": 37,
     "metadata": {},
     "output_type": "execute_result"
    }
   ],
   "source": [
    "app.invoke({\"messages\":[\"What is the current gdp of the india?\"]})"
   ]
  },
  {
   "cell_type": "code",
   "execution_count": 38,
   "id": "d2d1b2db",
   "metadata": {},
   "outputs": [
    {
     "name": "stdout",
     "output_type": "stream",
     "text": [
      "Seleted tool: multiply\n"
     ]
    },
    {
     "data": {
      "text/plain": [
       "{'messages': ['What is the multiplication of 5 and 20?',\n",
       "  AIMessage(content='', additional_kwargs={'tool_calls': [{'id': 'call_0hCZQottvKEPn7BQGvfvdkzy', 'function': {'arguments': '{\"x\":5,\"y\":20}', 'name': 'multiply'}, 'type': 'function'}], 'refusal': None}, response_metadata={'token_usage': {'completion_tokens': 18, 'prompt_tokens': 81, 'total_tokens': 99, 'completion_tokens_details': {'accepted_prediction_tokens': 0, 'audio_tokens': 0, 'reasoning_tokens': 0, 'rejected_prediction_tokens': 0}, 'prompt_tokens_details': {'audio_tokens': 0, 'cached_tokens': 0}}, 'model_name': 'gpt-4o-2024-11-20', 'system_fingerprint': 'fp_ee1d74bde0', 'id': 'chatcmpl-BnfS7ttPFigAgsSuaAGIKVgWvhu4n', 'service_tier': None, 'prompt_filter_results': [{'prompt_index': 0, 'content_filter_results': {'hate': {'filtered': False, 'severity': 'safe'}, 'jailbreak': {'filtered': False, 'detected': False}, 'self_harm': {'filtered': False, 'severity': 'safe'}, 'sexual': {'filtered': False, 'severity': 'safe'}, 'violence': {'filtered': False, 'severity': 'safe'}}}], 'finish_reason': 'tool_calls', 'logprobs': None, 'content_filter_results': {}}, id='run--846c1d18-c7ff-4180-bce0-82824e9f30f2-0', tool_calls=[{'name': 'multiply', 'args': {'x': 5, 'y': 20}, 'id': 'call_0hCZQottvKEPn7BQGvfvdkzy', 'type': 'tool_call'}], usage_metadata={'input_tokens': 81, 'output_tokens': 18, 'total_tokens': 99, 'input_token_details': {'audio': 0, 'cache_read': 0}, 'output_token_details': {'audio': 0, 'reasoning': 0}}),\n",
       "  100]}"
      ]
     },
     "execution_count": 38,
     "metadata": {},
     "output_type": "execute_result"
    }
   ],
   "source": [
    "app.invoke({\"messages\":[\"What is the multiplication of 5 and 20?\"]})"
   ]
  },
  {
   "cell_type": "code",
   "execution_count": 39,
   "id": "b89bff1d",
   "metadata": {},
   "outputs": [
    {
     "name": "stdout",
     "output_type": "stream",
     "text": [
      "Seleted tool: search\n"
     ]
    },
    {
     "data": {
      "text/plain": [
       "{'messages': ['What is the current gdp of the india in 2025?',\n",
       "  AIMessage(content='', additional_kwargs={'tool_calls': [{'id': 'call_Nu6RZDoKyWkJDsI97Whf4RqL', 'function': {'arguments': '{\"query\":\"current GDP of India in 2025\"}', 'name': 'search'}, 'type': 'function'}], 'refusal': None}, response_metadata={'token_usage': {'completion_tokens': 21, 'prompt_tokens': 84, 'total_tokens': 105, 'completion_tokens_details': {'accepted_prediction_tokens': 0, 'audio_tokens': 0, 'reasoning_tokens': 0, 'rejected_prediction_tokens': 0}, 'prompt_tokens_details': {'audio_tokens': 0, 'cached_tokens': 0}}, 'model_name': 'gpt-4o-2024-11-20', 'system_fingerprint': 'fp_ee1d74bde0', 'id': 'chatcmpl-BnfS8anXF5CVkplW5wsRyURdMEiSK', 'service_tier': None, 'prompt_filter_results': [{'prompt_index': 0, 'content_filter_results': {'hate': {'filtered': False, 'severity': 'safe'}, 'jailbreak': {'filtered': False, 'detected': False}, 'self_harm': {'filtered': False, 'severity': 'safe'}, 'sexual': {'filtered': False, 'severity': 'safe'}, 'violence': {'filtered': False, 'severity': 'safe'}}}], 'finish_reason': 'tool_calls', 'logprobs': None, 'content_filter_results': {}}, id='run--8dfd915e-a812-4fff-9a14-fb6568d7e300-0', tool_calls=[{'name': 'search', 'args': {'query': 'current GDP of India in 2025'}, 'id': 'call_Nu6RZDoKyWkJDsI97Whf4RqL', 'type': 'tool_call'}], usage_metadata={'input_tokens': 84, 'output_tokens': 21, 'total_tokens': 105, 'input_token_details': {'audio': 0, 'cache_read': 0}, 'output_token_details': {'audio': 0, 'reasoning': 0}}),\n",
       "  'Result for current GDP of India in 2025 is: \\n[{\\'title\\': \"India To Overtake Japan As World\\'s 4th Largest Economy In 2025: IMF ...\", \\'url\\': \\'https://pwonlyias.com/current-affairs/indias-economic-growth/\\', \\'content\\': \"India is projected to become the world\\'s fourth-largest economy in 2025 by nominal GDP, surpassing Japan, according to IMF estimates. Current Status of Indian Economy According to the International Monetary Fund (IMF), India\\'s nominal Gross Domestic Product (GDP) in 2025 is estimated at $4,187.03 billion, marginally higher than Japan\\'s GDP.\", \\'score\\': 0.9365236}, {\\'title\\': \\'India GDP PPP 2024 Estimate and 2025 Projection - World Economics\\', \\'url\\': \\'https://www.worldeconomics.com/GrossDomesticProduct/Real-GDP-PPP/India.aspx\\', \\'content\\': \"India GDP: $14.018 Trillion Looking ahead to 2025, projections suggest India\\'s 2025 GDP estimate could be $14.929 Trillion. This India GDP growth forecast for\", \\'score\\': 0.9177831}, {\\'title\\': \"India\\'s Economic Growth Masks a Deeper Malaise - The Diplomat\", \\'url\\': \\'https://thediplomat.com/2025/06/indias-economic-growth-masks-a-deeper-malaise/\\', \\'content\\': \"India\\'s economic ascent to a $4.2 trillion GDP in 2025 has been hailed as a historic achievement. The country is now ranked the world\\'s fourth largest economy by current dollar terms\", \\'score\\': 0.9047265}, {\\'title\\': \\'India Fiscal Year GDP Growth - Trading Economics\\', \\'url\\': \\'https://tradingeconomics.com/india/full-year-gdp-growth\\', \\'content\\': \\'Full Year GDP Growth in India decreased to 6.50 percent in 2025 from 9.20 percent in 2024. Full Year GDP Growth in India is expected to reach 6.30 percent by\\', \\'score\\': 0.8858788}, {\\'title\\': \"India\\'s GDP Growth In 2025-2026 Estimated To Be Highest Among G20 ...\", \\'url\\': \\'https://www.ndtv.com/world-news/indias-gdp-growth-in-2025-2026-estimated-to-be-highest-among-g20-nations-report-8584105\\', \\'content\\': \"The OECD\\'s 2025 Economic Outlook Report predicts India\\'s GDP growth will lead G20 nations at 6.3% in 2025 and 6.4% in 2026. Amid global economic slowdowns, India aims for a $32 trillion economy by\", \\'score\\': 0.878825}]']}"
      ]
     },
     "execution_count": 39,
     "metadata": {},
     "output_type": "execute_result"
    }
   ],
   "source": [
    "app.invoke({\"messages\":[\"What is the current gdp of the india in 2025?\"]})"
   ]
  },
  {
   "cell_type": "code",
   "execution_count": 40,
   "metadata": {},
   "outputs": [
    {
     "name": "stdout",
     "output_type": "stream",
     "text": [
      "Seleted tool: search\n"
     ]
    },
    {
     "data": {
      "text/plain": [
       "{'messages': ['what is a latest news of bengaluru?',\n",
       "  AIMessage(content='', additional_kwargs={'tool_calls': [{'id': 'call_fSxaDU0jjYZnxJzKtvE3bBX1', 'function': {'arguments': '{\"query\":\"latest news Bengaluru\"}', 'name': 'search'}, 'type': 'function'}], 'refusal': None}, response_metadata={'token_usage': {'completion_tokens': 16, 'prompt_tokens': 80, 'total_tokens': 96, 'completion_tokens_details': {'accepted_prediction_tokens': 0, 'audio_tokens': 0, 'reasoning_tokens': 0, 'rejected_prediction_tokens': 0}, 'prompt_tokens_details': {'audio_tokens': 0, 'cached_tokens': 0}}, 'model_name': 'gpt-4o-2024-11-20', 'system_fingerprint': 'fp_ee1d74bde0', 'id': 'chatcmpl-BnfSIrKyWbbeVCaItTddHBJBn3uzL', 'service_tier': None, 'prompt_filter_results': [{'prompt_index': 0, 'content_filter_results': {'hate': {'filtered': False, 'severity': 'safe'}, 'jailbreak': {'filtered': False, 'detected': False}, 'self_harm': {'filtered': False, 'severity': 'safe'}, 'sexual': {'filtered': False, 'severity': 'safe'}, 'violence': {'filtered': False, 'severity': 'safe'}}}], 'finish_reason': 'tool_calls', 'logprobs': None, 'content_filter_results': {}}, id='run--e394e48a-397e-4207-bdaf-85fd355343b7-0', tool_calls=[{'name': 'search', 'args': {'query': 'latest news Bengaluru'}, 'id': 'call_fSxaDU0jjYZnxJzKtvE3bBX1', 'type': 'tool_call'}], usage_metadata={'input_tokens': 80, 'output_tokens': 16, 'total_tokens': 96, 'input_token_details': {'audio': 0, 'cache_read': 0}, 'output_token_details': {'audio': 0, 'reasoning': 0}}),\n",
       "  'Result for latest news Bengaluru is: \\n[{\\'title\\': \\'Top Bengaluru News: Bengaluru News Today, Bengaluru Latest News and ...\\', \\'url\\': \\'https://www.deccanherald.com/bengaluru-karnataka-india\\', \\'content\\': \\'Get the latest Bengaluru news updates, including crime, education, real estate, weather, politics and live updates on Deccan Herald.\\', \\'score\\': 0.8029425}, {\\'title\\': \"Bengaluru News: Today\\'s Latest & Breaking Bangalore News Headlines - News18\", \\'url\\': \\'https://www.news18.com/cities/bengaluru-news/\\', \\'content\\': \"Bengaluru News: Read today\\'s Breaking and latest Bengaluru News headlines from News18, covering Bangalore\\'s politics, crime, education, business, and sports news updates.\", \\'score\\': 0.80126834}, {\\'title\\': \\'Bengaluru News: Latest Bangalore News Headlines & Live News Updates ...\\', \\'url\\': \\'https://timesofindia.indiatimes.com/city/bangalore\\', \\'content\\': \\'## TOI\\\\n\\\\n# bengaluru News\\\\n\\\\nBengaluru girl alleges sexual abuse by mother in name of ‘intimacy training’; told it would help post-marriage life with husband; probe on\\\\n\\\\nA class 9 girl in Bengaluru has accused her mother of sexual harassment and assault, alleging it was done under the guise of sex education for her future marriage. The mother, however, denies these allegations, admitting only to past scolding and beatings. [...] Don’t display & waste food, says association; Bengaluru hotels share mixed views\\\\nBengaluru suburban rail project: 157 more trees on chopping block\\\\nPostal assistant in Bengaluru offers help to invest, pockets 5 customers’ Rs 11.8Lakh\\\\nE-khata drive on June 29\\\\nArmy, Karnataka cops hold joint anti-terror mock drill in Bengaluru\\\\n\\\\n## More Stories [...] Stranger hits, tries to disrobe housekeeping staffer returning home in Bengaluru\\\\nBike-taxi ban: Bengalureans’ frustration grows\\\\nKarnataka tiger deaths: 3 arrested for poisoning at MM Hills sanctuary; wildlife officials call it worst single-day tiger mortality in India\\\\n\\\\n## Photos\\', \\'score\\': 0.77913743}, {\\'title\\': \"Bengaluru News: Today\\'s Latest Bengaluru Top News ... - India Today\", \\'url\\': \\'https://www.indiatoday.in/cities/bengaluru-news\\', \\'content\\': \\'Bengaluru News Today: Find the Latest and Breaking Bengaluru News Headlines, Bengaluru Crime News, Bengaluru Education News, Bengaluru Politics news and more on India Today.\\', \\'score\\': 0.77650476}, {\\'title\\': \\'Bengaluru News - Latest Bangalore News, Headlines and Live Updates ...\\', \\'url\\': \\'https://www.timesnownews.com/bengaluru\\', \\'content\\': \\'Bengaluru News: Get all the latest Bengaluru news, live news headlines on Bangalore Local news, crime, education news, real estate, Bangalore politics from TimesNow News\\', \\'score\\': 0.7613083}]']}"
      ]
     },
     "execution_count": 40,
     "metadata": {},
     "output_type": "execute_result"
    }
   ],
   "source": [
    "app.invoke({\"messages\":[\"what is a latest news of bengaluru?\"]})"
   ]
  },
  {
   "cell_type": "markdown",
   "id": "6cbd04a3",
   "metadata": {},
   "source": [
    "### LangGraph inbuilt Human-in-Loop"
   ]
  },
  {
   "cell_type": "code",
   "execution_count": 41,
   "metadata": {},
   "outputs": [
    {
     "data": {
      "text/plain": [
       "[StructuredTool(name='multiply', description='Multiplies two numbers.', args_schema=<class 'langchain_core.utils.pydantic.multiply'>, func=<function multiply at 0x0000024E48CE9260>),\n",
       " StructuredTool(name='search', description='search the web for a query and return the results', args_schema=<class 'langchain_core.utils.pydantic.search'>, func=<function search at 0x0000024E469FC180>)]"
      ]
     },
     "execution_count": 41,
     "metadata": {},
     "output_type": "execute_result"
    }
   ],
   "source": [
    "tools"
   ]
  },
  {
   "cell_type": "code",
   "execution_count": 42,
   "id": "77137545",
   "metadata": {},
   "outputs": [],
   "source": [
    "from langgraph.prebuilt import ToolNode, tools_condition\n",
    "tool_node=ToolNode(tools)"
   ]
  },
  {
   "cell_type": "code",
   "execution_count": 43,
   "id": "258ca0c3",
   "metadata": {},
   "outputs": [],
   "source": [
    "class AgentState(TypedDict):\n",
    "    messages: Annotated[Sequence[BaseMessage], operator.add]"
   ]
  },
  {
   "cell_type": "code",
   "execution_count": 44,
   "id": "102d73a8",
   "metadata": {},
   "outputs": [],
   "source": [
    "llm_with_tools=llm.bind_tools(tools)"
   ]
  },
  {
   "cell_type": "code",
   "execution_count": 45,
   "id": "a757a6b2",
   "metadata": {},
   "outputs": [],
   "source": [
    "def ai_assistant(state:AgentState):\n",
    "    response=llm_with_tools.invoke(state[\"messages\"])\n",
    "    return {\"messages\":[response]}"
   ]
  },
  {
   "cell_type": "code",
   "execution_count": 46,
   "id": "3cbc3b1e",
   "metadata": {},
   "outputs": [],
   "source": [
    "from langgraph.checkpoint.memory import MemorySaver"
   ]
  },
  {
   "cell_type": "code",
   "execution_count": 47,
   "id": "347d01a9",
   "metadata": {},
   "outputs": [],
   "source": [
    "memory=MemorySaver()"
   ]
  },
  {
   "cell_type": "code",
   "execution_count": 48,
   "metadata": {},
   "outputs": [],
   "source": [
    "graph_builder=StateGraph(AgentState)"
   ]
  },
  {
   "cell_type": "code",
   "execution_count": 49,
   "id": "c9078050",
   "metadata": {},
   "outputs": [
    {
     "data": {
      "text/plain": [
       "<langgraph.graph.state.StateGraph at 0x24e5e6ec4d0>"
      ]
     },
     "execution_count": 49,
     "metadata": {},
     "output_type": "execute_result"
    }
   ],
   "source": [
    "graph_builder.add_node(\"ai_assistant\", ai_assistant)"
   ]
  },
  {
   "cell_type": "code",
   "execution_count": 50,
   "metadata": {},
   "outputs": [
    {
     "data": {
      "text/plain": [
       "<langgraph.graph.state.StateGraph at 0x24e5e6ec4d0>"
      ]
     },
     "execution_count": 50,
     "metadata": {},
     "output_type": "execute_result"
    }
   ],
   "source": [
    "graph_builder.add_node(\"tools\", tool_node)"
   ]
  },
  {
   "cell_type": "code",
   "execution_count": 51,
   "id": "e108ff41",
   "metadata": {},
   "outputs": [
    {
     "data": {
      "text/plain": [
       "<langgraph.graph.state.StateGraph at 0x24e5e6ec4d0>"
      ]
     },
     "execution_count": 51,
     "metadata": {},
     "output_type": "execute_result"
    }
   ],
   "source": [
    "graph_builder.add_edge(START,\"ai_assistant\")"
   ]
  },
  {
   "cell_type": "code",
   "execution_count": 52,
   "id": "b6172c27",
   "metadata": {},
   "outputs": [
    {
     "data": {
      "text/plain": [
       "<langgraph.graph.state.StateGraph at 0x24e5e6ec4d0>"
      ]
     },
     "execution_count": 52,
     "metadata": {},
     "output_type": "execute_result"
    }
   ],
   "source": [
    "graph_builder.add_conditional_edges(\"ai_assistant\",\n",
    "                                    tools_condition,\n",
    "                                    )"
   ]
  },
  {
   "cell_type": "code",
   "execution_count": 53,
   "id": "f9f8e9e0",
   "metadata": {},
   "outputs": [
    {
     "data": {
      "text/plain": [
       "<langgraph.graph.state.StateGraph at 0x24e5e6ec4d0>"
      ]
     },
     "execution_count": 53,
     "metadata": {},
     "output_type": "execute_result"
    }
   ],
   "source": [
    "graph_builder.add_edge(\"tools\", \"ai_assistant\")"
   ]
  },
  {
   "cell_type": "code",
   "execution_count": 54,
   "id": "8b2a5811",
   "metadata": {},
   "outputs": [],
   "source": [
    "app2=graph_builder.compile(checkpointer=memory,interrupt_before=[\"tools\"])"
   ]
  },
  {
   "cell_type": "code",
   "execution_count": 55,
   "id": "da26db5f",
   "metadata": {},
   "outputs": [
    {
     "data": {
      "image/png": "[encoded data removed]",
      "text/plain": [
       "<IPython.core.display.Image object>"
      ]
     },
     "metadata": {},
     "output_type": "display_data"
    }
   ],
   "source": [
    "from IPython.display import Image, display\n",
    "display(Image(app2.get_graph().draw_mermaid_png()))"
   ]
  },
  {
   "cell_type": "code",
   "execution_count": 56,
   "id": "6e4b36bf",
   "metadata": {},
   "outputs": [],
   "source": [
    "config={\"configurable\":{\"thread_id\":\"1\"}}"
   ]
  },
  {
   "cell_type": "code",
   "execution_count": 57,
   "id": "4f6d453e",
   "metadata": {},
   "outputs": [],
   "source": [
    "from langchain_core.messages import HumanMessage\n",
    "response=app2.invoke({\"messages\":[HumanMessage(\"What is the current gdp of the china?\")]},config=config)"
   ]
  },
  {
   "cell_type": "code",
   "execution_count": 58,
   "id": "aeefc4dc",
   "metadata": {},
   "outputs": [
    {
     "data": {
      "text/plain": [
       "{'messages': [HumanMessage(content='What is the current gdp of the china?', additional_kwargs={}, response_metadata={}),\n",
       "  AIMessage(content='', additional_kwargs={'tool_calls': [{'id': 'call_S35LigaMDYdRSnGGTl18RFSh', 'function': {'arguments': '{\"query\":\"Current GDP of China\"}', 'name': 'search'}, 'type': 'function'}], 'refusal': None}, response_metadata={'token_usage': {'completion_tokens': 17, 'prompt_tokens': 80, 'total_tokens': 97, 'completion_tokens_details': {'accepted_prediction_tokens': 0, 'audio_tokens': 0, 'reasoning_tokens': 0, 'rejected_prediction_tokens': 0}, 'prompt_tokens_details': {'audio_tokens': 0, 'cached_tokens': 0}}, 'model_name': 'gpt-4o-2024-11-20', 'system_fingerprint': 'fp_ee1d74bde0', 'id': 'chatcmpl-BnfSRDxgv4dluUfFgDJIVjarCZ9a2', 'service_tier': None, 'prompt_filter_results': [{'prompt_index': 0, 'content_filter_results': {'hate': {'filtered': False, 'severity': 'safe'}, 'jailbreak': {'filtered': False, 'detected': False}, 'self_harm': {'filtered': False, 'severity': 'safe'}, 'sexual': {'filtered': False, 'severity': 'safe'}, 'violence': {'filtered': False, 'severity': 'safe'}}}], 'finish_reason': 'tool_calls', 'logprobs': None, 'content_filter_results': {}}, id='run--f69b500e-1978-460c-8496-83521ed450d3-0', tool_calls=[{'name': 'search', 'args': {'query': 'Current GDP of China'}, 'id': 'call_S35LigaMDYdRSnGGTl18RFSh', 'type': 'tool_call'}], usage_metadata={'input_tokens': 80, 'output_tokens': 17, 'total_tokens': 97, 'input_token_details': {'audio': 0, 'cache_read': 0}, 'output_token_details': {'audio': 0, 'reasoning': 0}})]}"
      ]
     },
     "execution_count": 58,
     "metadata": {},
     "output_type": "execute_result"
    }
   ],
   "source": [
    "response"
   ]
  },
  {
   "cell_type": "code",
   "execution_count": 59,
   "id": "7048e718",
   "metadata": {},
   "outputs": [
    {
     "data": {
      "text/plain": [
       "StateSnapshot(values={'messages': [HumanMessage(content='What is the current gdp of the china?', additional_kwargs={}, response_metadata={}), AIMessage(content='', additional_kwargs={'tool_calls': [{'id': 'call_S35LigaMDYdRSnGGTl18RFSh', 'function': {'arguments': '{\"query\":\"Current GDP of China\"}', 'name': 'search'}, 'type': 'function'}], 'refusal': None}, response_metadata={'token_usage': {'completion_tokens': 17, 'prompt_tokens': 80, 'total_tokens': 97, 'completion_tokens_details': {'accepted_prediction_tokens': 0, 'audio_tokens': 0, 'reasoning_tokens': 0, 'rejected_prediction_tokens': 0}, 'prompt_tokens_details': {'audio_tokens': 0, 'cached_tokens': 0}}, 'model_name': 'gpt-4o-2024-11-20', 'system_fingerprint': 'fp_ee1d74bde0', 'id': 'chatcmpl-BnfSRDxgv4dluUfFgDJIVjarCZ9a2', 'service_tier': None, 'prompt_filter_results': [{'prompt_index': 0, 'content_filter_results': {'hate': {'filtered': False, 'severity': 'safe'}, 'jailbreak': {'filtered': False, 'detected': False}, 'self_harm': {'filtered': False, 'severity': 'safe'}, 'sexual': {'filtered': False, 'severity': 'safe'}, 'violence': {'filtered': False, 'severity': 'safe'}}}], 'finish_reason': 'tool_calls', 'logprobs': None, 'content_filter_results': {}}, id='run--f69b500e-1978-460c-8496-83521ed450d3-0', tool_calls=[{'name': 'search', 'args': {'query': 'Current GDP of China'}, 'id': 'call_S35LigaMDYdRSnGGTl18RFSh', 'type': 'tool_call'}], usage_metadata={'input_tokens': 80, 'output_tokens': 17, 'total_tokens': 97, 'input_token_details': {'audio': 0, 'cache_read': 0}, 'output_token_details': {'audio': 0, 'reasoning': 0}})]}, next=('tools',), config={'configurable': {'thread_id': '1', 'checkpoint_ns': '', 'checkpoint_id': '1f054af1-2d36-6ab0-8001-52221246b5b3'}}, metadata={'source': 'loop', 'writes': {'ai_assistant': {'messages': [AIMessage(content='', additional_kwargs={'tool_calls': [{'id': 'call_S35LigaMDYdRSnGGTl18RFSh', 'function': {'arguments': '{\"query\":\"Current GDP of China\"}', 'name': 'search'}, 'type': 'function'}], 'refusal': None}, response_metadata={'token_usage': {'completion_tokens': 17, 'prompt_tokens': 80, 'total_tokens': 97, 'completion_tokens_details': {'accepted_prediction_tokens': 0, 'audio_tokens': 0, 'reasoning_tokens': 0, 'rejected_prediction_tokens': 0}, 'prompt_tokens_details': {'audio_tokens': 0, 'cached_tokens': 0}}, 'model_name': 'gpt-4o-2024-11-20', 'system_fingerprint': 'fp_ee1d74bde0', 'id': 'chatcmpl-BnfSRDxgv4dluUfFgDJIVjarCZ9a2', 'service_tier': None, 'prompt_filter_results': [{'prompt_index': 0, 'content_filter_results': {'hate': {'filtered': False, 'severity': 'safe'}, 'jailbreak': {'filtered': False, 'detected': False}, 'self_harm': {'filtered': False, 'severity': 'safe'}, 'sexual': {'filtered': False, 'severity': 'safe'}, 'violence': {'filtered': False, 'severity': 'safe'}}}], 'finish_reason': 'tool_calls', 'logprobs': None, 'content_filter_results': {}}, id='run--f69b500e-1978-460c-8496-83521ed450d3-0', tool_calls=[{'name': 'search', 'args': {'query': 'Current GDP of China'}, 'id': 'call_S35LigaMDYdRSnGGTl18RFSh', 'type': 'tool_call'}], usage_metadata={'input_tokens': 80, 'output_tokens': 17, 'total_tokens': 97, 'input_token_details': {'audio': 0, 'cache_read': 0}, 'output_token_details': {'audio': 0, 'reasoning': 0}})]}}, 'step': 1, 'parents': {}, 'thread_id': '1'}, created_at='2025-06-29T06:05:36.034065+00:00', parent_config={'configurable': {'thread_id': '1', 'checkpoint_ns': '', 'checkpoint_id': '1f054af1-1f41-68d4-8000-0689f2a7fb62'}}, tasks=(PregelTask(id='6e5b4240-9647-9788-5750-eb1560260208', name='tools', path=('__pregel_pull', 'tools'), error=None, interrupts=(), state=None, result=None),), interrupts=())"
      ]
     },
     "execution_count": 59,
     "metadata": {},
     "output_type": "execute_result"
    }
   ],
   "source": [
    "snapshot=app2.get_state(config)\n",
    "\n",
    "snapshot"
   ]
  },
  {
   "cell_type": "code",
   "execution_count": 60,
   "metadata": {},
   "outputs": [
    {
     "data": {
      "text/plain": [
       "('tools',)"
      ]
     },
     "execution_count": 60,
     "metadata": {},
     "output_type": "execute_result"
    }
   ],
   "source": [
    "snapshot.next"
   ]
  },
  {
   "cell_type": "code",
   "execution_count": 61,
   "id": "05a6ab79",
   "metadata": {},
   "outputs": [],
   "source": [
    "last_message=snapshot.values[\"messages\"][-1]"
   ]
  },
  {
   "cell_type": "code",
   "execution_count": 62,
   "id": "73352a6d",
   "metadata": {},
   "outputs": [
    {
     "data": {
      "text/plain": [
       "AIMessage(content='', additional_kwargs={'tool_calls': [{'id': 'call_S35LigaMDYdRSnGGTl18RFSh', 'function': {'arguments': '{\"query\":\"Current GDP of China\"}', 'name': 'search'}, 'type': 'function'}], 'refusal': None}, response_metadata={'token_usage': {'completion_tokens': 17, 'prompt_tokens': 80, 'total_tokens': 97, 'completion_tokens_details': {'accepted_prediction_tokens': 0, 'audio_tokens': 0, 'reasoning_tokens': 0, 'rejected_prediction_tokens': 0}, 'prompt_tokens_details': {'audio_tokens': 0, 'cached_tokens': 0}}, 'model_name': 'gpt-4o-2024-11-20', 'system_fingerprint': 'fp_ee1d74bde0', 'id': 'chatcmpl-BnfSRDxgv4dluUfFgDJIVjarCZ9a2', 'service_tier': None, 'prompt_filter_results': [{'prompt_index': 0, 'content_filter_results': {'hate': {'filtered': False, 'severity': 'safe'}, 'jailbreak': {'filtered': False, 'detected': False}, 'self_harm': {'filtered': False, 'severity': 'safe'}, 'sexual': {'filtered': False, 'severity': 'safe'}, 'violence': {'filtered': False, 'severity': 'safe'}}}], 'finish_reason': 'tool_calls', 'logprobs': None, 'content_filter_results': {}}, id='run--f69b500e-1978-460c-8496-83521ed450d3-0', tool_calls=[{'name': 'search', 'args': {'query': 'Current GDP of China'}, 'id': 'call_S35LigaMDYdRSnGGTl18RFSh', 'type': 'tool_call'}], usage_metadata={'input_tokens': 80, 'output_tokens': 17, 'total_tokens': 97, 'input_token_details': {'audio': 0, 'cache_read': 0}, 'output_token_details': {'audio': 0, 'reasoning': 0}})"
      ]
     },
     "execution_count": 62,
     "metadata": {},
     "output_type": "execute_result"
    }
   ],
   "source": [
    "last_message"
   ]
  },
  {
   "cell_type": "code",
   "execution_count": 63,
   "id": "139e9332",
   "metadata": {},
   "outputs": [
    {
     "data": {
      "text/plain": [
       "{'messages': [HumanMessage(content='What is the current gdp of the china?', additional_kwargs={}, response_metadata={}),\n",
       "  AIMessage(content='', additional_kwargs={'tool_calls': [{'id': 'call_S35LigaMDYdRSnGGTl18RFSh', 'function': {'arguments': '{\"query\":\"Current GDP of China\"}', 'name': 'search'}, 'type': 'function'}], 'refusal': None}, response_metadata={'token_usage': {'completion_tokens': 17, 'prompt_tokens': 80, 'total_tokens': 97, 'completion_tokens_details': {'accepted_prediction_tokens': 0, 'audio_tokens': 0, 'reasoning_tokens': 0, 'rejected_prediction_tokens': 0}, 'prompt_tokens_details': {'audio_tokens': 0, 'cached_tokens': 0}}, 'model_name': 'gpt-4o-2024-11-20', 'system_fingerprint': 'fp_ee1d74bde0', 'id': 'chatcmpl-BnfSRDxgv4dluUfFgDJIVjarCZ9a2', 'service_tier': None, 'prompt_filter_results': [{'prompt_index': 0, 'content_filter_results': {'hate': {'filtered': False, 'severity': 'safe'}, 'jailbreak': {'filtered': False, 'detected': False}, 'self_harm': {'filtered': False, 'severity': 'safe'}, 'sexual': {'filtered': False, 'severity': 'safe'}, 'violence': {'filtered': False, 'severity': 'safe'}}}], 'finish_reason': 'tool_calls', 'logprobs': None, 'content_filter_results': {}}, id='run--f69b500e-1978-460c-8496-83521ed450d3-0', tool_calls=[{'name': 'search', 'args': {'query': 'Current GDP of China'}, 'id': 'call_S35LigaMDYdRSnGGTl18RFSh', 'type': 'tool_call'}], usage_metadata={'input_tokens': 80, 'output_tokens': 17, 'total_tokens': 97, 'input_token_details': {'audio': 0, 'cache_read': 0}, 'output_token_details': {'audio': 0, 'reasoning': 0}}),\n",
       "  ToolMessage(content='Result for Current GDP of China is: \\n[{\\'title\\': \\'China GDP 2024 Estimate and 2025 Projection - World Economics\\', \\'url\\': \\'https://www.worldeconomics.com/GrossDomesticProduct/Current-GDP/China.aspx\\', \\'content\\': \"China\\'s Current GDP is projected to be $19.5 Trillion by the end of 2025, from an estimated $18.7 Trillion in 2024 in nominal terms. Explore and download the latest economic data and forecasts for China, including historical trends and related data.\", \\'score\\': 0.92176014}, {\\'title\\': \\'China - GDP - 2025 Data 2026 Forecast 1960-2023 Historical\\', \\'url\\': \\'https://tradingeconomics.com/china/gdp-us-dollar-wb-data.html\\', \\'content\\': \\'GDP (current US$) in China was reported at 17794783039552 USD in 2023, according to the World Bank collection of development indicators, compiled from officially recognized sources. China - GDP - actual values, historical data, forecasts and projections were sourced from the World Bank on June of 2025.\\', \\'score\\': 0.9147261}, {\\'title\\': \\'China GDP - Trading Economics\\', \\'url\\': \\'https://tradingeconomics.com/china/gdp\\', \\'content\\': \\'##### Members\\\\n\\\\n##### \\\\n\\\\n# China GDP\\\\n\\\\n## The Gross Domestic Product (GDP) in China was worth 17794.78 billion US dollars in 2023, according to official data from the World Bank. The GDP value of China represents 16.88 percent of the world economy. source: World Bank [...] | Related | Last | Previous | Unit | Reference |\\\\n| --- | --- | --- | --- | --- |\\\\n| Full Year GDP Growth | 5.00 | 5.40 | percent | Dec 2024 |\\\\n| GDP | 17794.78 | 17881.78 | USD Billion | Dec 2023 |\\\\n| GDP Growth Rate YoY | 5.40 | 5.40 | percent | Mar 2025 |\\\\n| GDP Growth Rate | 1.20 | 1.60 | percent | Mar 2025 |\\\\n| GDP per Capita | 12175.20 | 11555.93 | USD | Dec 2023 |\\\\n| GDP per Capita PPP | 22137.60 | 21011.62 | USD | Dec 2023 | [...] ### GDP in China is expected to reach 18542.00 USD Billion by the end of 2025, according to Trading Economics global macro models and analysts expectations. In the long-term, the China GDP is projected to trend around 19284.00 USD Billion in 2026 and 20094.00 USD Billion in 2027, according to our econometric models.\\', \\'score\\': 0.87139857}, {\\'title\\': \\'China: GDP at current prices 1985-2030 - Statista\\', \\'url\\': \\'https://www.statista.com/statistics/263770/gross-domestic-product-gdp-of-china/\\', \\'content\\': \"China\\'s real GDP growth was 3.1 percent in 2022 and 5.4 percent in 2023. In 2024, per capita GDP in China reached around 13,300 U.S. dollars.\", \\'score\\': 0.8127637}, {\\'title\\': \\'PDF\\', \\'url\\': \\'https://thedocs.worldbank.org/en/doc/8ae5ce818673952a85fee1ee57c3e933-0070012025/original/CEU-June-2025-EN.pdf\\', \\'content\\': \\'Structural challenges—including slowing productivity growth, high debt, and an aging population—are expected to constrain growth over the medium term. China Economic Outlook 2021 2022 2023 2024 2025f 2026f Real GDP growth (%) 8.6 3.1 5.4 5.0 4.5 4.0 Consumer price index (% change, average) 0.9 2.0 0.2 0.2 0.5 1.3 Current account balance (% of GDP) 1.9 2.4 1.4 2.2 1.0 0.8 Consolidated fiscal balance (% of GDP) -3.9 -6.1 -5.5 -6.5 -8.1 -7.8 Source: World Bank. Note: f = forecast (baseline). [...] Worker Scheme VAT Value-Added Tax y/y Year-on-year Ytd Year-to-Date 3mma Three-month moving average China Economic Update - June 2025 1 Executive Summary China’s economy maintained solid growth momentum in early 2025, with real GDP expanding by 5.4 percent year-on-year (y/y) in the first quarter—matching the pace of the previous quarter. Consumption growth, supported by fiscal subsidies, improved, though it remains below pre-COVID levels, contributing only 2.8 percentage points (ppts) to y/y [...] in 2024 and is expected to decelerate to 22 million in 2025 (Figure 10A and 10B). Table 1. China selected economic indicators, 2022-2027 Annual percent change unless indicated otherwise 2022 2023 2024e 2025f 2026f 2027f Real GDP growth, at constant market prices 3.1 5.4 5.0 4.5 4.0 3.9 Private Consumption 1.7 9.0 4.3 4.9 4.8 4.7 Government Consumption 5.3 7.3 3.3 5.7 5.2 3.8 Gross Fixed Capital Formation 3.4 4.5 3.6 4.7 3.8 3.6 Exports, Goods and Services -1.9 1.1 11.5 2.0 1.8 1.9 Imports,\\', \\'score\\': 0.7038554}]', name='search', tool_call_id='call_S35LigaMDYdRSnGGTl18RFSh'),\n",
       "  AIMessage(content='The current GDP of China for the year 2023 is approximately **$17.794 trillion** USD, according to the World Bank data. This represents about 16.88% of the global economy.', additional_kwargs={'refusal': None}, response_metadata={'token_usage': {'completion_tokens': 44, 'prompt_tokens': 1405, 'total_tokens': 1449, 'completion_tokens_details': {'accepted_prediction_tokens': 0, 'audio_tokens': 0, 'reasoning_tokens': 0, 'rejected_prediction_tokens': 0}, 'prompt_tokens_details': {'audio_tokens': 0, 'cached_tokens': 0}}, 'model_name': 'gpt-4o-2024-11-20', 'system_fingerprint': 'fp_ee1d74bde0', 'id': 'chatcmpl-BnfSZeOMtFbXcldXFgU9xME5Uke0s', 'service_tier': None, 'prompt_filter_results': [{'prompt_index': 0, 'content_filter_results': {'hate': {'filtered': False, 'severity': 'safe'}, 'jailbreak': {'filtered': False, 'detected': False}, 'self_harm': {'filtered': False, 'severity': 'safe'}, 'sexual': {'filtered': False, 'severity': 'safe'}, 'violence': {'filtered': False, 'severity': 'safe'}}}], 'finish_reason': 'stop', 'logprobs': None, 'content_filter_results': {'hate': {'filtered': False, 'severity': 'safe'}, 'self_harm': {'filtered': False, 'severity': 'safe'}, 'sexual': {'filtered': False, 'severity': 'safe'}, 'violence': {'filtered': False, 'severity': 'safe'}}}, id='run--1ce1746e-9228-4f2f-bd8a-287d29ccf0de-0', usage_metadata={'input_tokens': 1405, 'output_tokens': 44, 'total_tokens': 1449, 'input_token_details': {'audio': 0, 'cache_read': 0}, 'output_token_details': {'audio': 0, 'reasoning': 0}})]}"
      ]
     },
     "execution_count": 63,
     "metadata": {},
     "output_type": "execute_result"
    }
   ],
   "source": [
    "app2.invoke(None,config)"
   ]
  },
  {
   "cell_type": "code",
   "execution_count": 64,
   "id": "05f3dbb8",
   "metadata": {},
   "outputs": [],
   "source": [
    "tool_details=last_message.tool_calls"
   ]
  },
  {
   "cell_type": "code",
   "execution_count": 65,
   "metadata": {},
   "outputs": [
    {
     "data": {
      "text/plain": [
       "[{'name': 'search',\n",
       "  'args': {'query': 'Current GDP of China'},\n",
       "  'id': 'call_S35LigaMDYdRSnGGTl18RFSh',\n",
       "  'type': 'tool_call'}]"
      ]
     },
     "execution_count": 65,
     "metadata": {},
     "output_type": "execute_result"
    }
   ],
   "source": [
    "tool_details"
   ]
  },
  {
   "cell_type": "code",
   "execution_count": 66,
   "id": "d1902da6",
   "metadata": {},
   "outputs": [
    {
     "data": {
      "text/plain": [
       "'search'"
      ]
     },
     "execution_count": 66,
     "metadata": {},
     "output_type": "execute_result"
    }
   ],
   "source": [
    "tool_details[0][\"name\"]"
   ]
  },
  {
   "cell_type": "code",
   "execution_count": 67,
   "id": "0e48994b",
   "metadata": {},
   "outputs": [
    {
     "name": "stdout",
     "output_type": "stream",
     "text": [
      "{'messages': [HumanMessage(content='What is the current gdp of the china?', additional_kwargs={}, response_metadata={}), AIMessage(content='', additional_kwargs={'tool_calls': [{'id': 'call_S35LigaMDYdRSnGGTl18RFSh', 'function': {'arguments': '{\"query\":\"Current GDP of China\"}', 'name': 'search'}, 'type': 'function'}], 'refusal': None}, response_metadata={'token_usage': {'completion_tokens': 17, 'prompt_tokens': 80, 'total_tokens': 97, 'completion_tokens_details': {'accepted_prediction_tokens': 0, 'audio_tokens': 0, 'reasoning_tokens': 0, 'rejected_prediction_tokens': 0}, 'prompt_tokens_details': {'audio_tokens': 0, 'cached_tokens': 0}}, 'model_name': 'gpt-4o-2024-11-20', 'system_fingerprint': 'fp_ee1d74bde0', 'id': 'chatcmpl-BnfSRDxgv4dluUfFgDJIVjarCZ9a2', 'service_tier': None, 'prompt_filter_results': [{'prompt_index': 0, 'content_filter_results': {'hate': {'filtered': False, 'severity': 'safe'}, 'jailbreak': {'filtered': False, 'detected': False}, 'self_harm': {'filtered': False, 'severity': 'safe'}, 'sexual': {'filtered': False, 'severity': 'safe'}, 'violence': {'filtered': False, 'severity': 'safe'}}}], 'finish_reason': 'tool_calls', 'logprobs': None, 'content_filter_results': {}}, id='run--f69b500e-1978-460c-8496-83521ed450d3-0', tool_calls=[{'name': 'search', 'args': {'query': 'Current GDP of China'}, 'id': 'call_S35LigaMDYdRSnGGTl18RFSh', 'type': 'tool_call'}], usage_metadata={'input_tokens': 80, 'output_tokens': 17, 'total_tokens': 97, 'input_token_details': {'audio': 0, 'cache_read': 0}, 'output_token_details': {'audio': 0, 'reasoning': 0}}), ToolMessage(content='Result for Current GDP of China is: \\n[{\\'title\\': \\'China GDP 2024 Estimate and 2025 Projection - World Economics\\', \\'url\\': \\'https://www.worldeconomics.com/GrossDomesticProduct/Current-GDP/China.aspx\\', \\'content\\': \"China\\'s Current GDP is projected to be $19.5 Trillion by the end of 2025, from an estimated $18.7 Trillion in 2024 in nominal terms. Explore and download the latest economic data and forecasts for China, including historical trends and related data.\", \\'score\\': 0.92176014}, {\\'title\\': \\'China - GDP - 2025 Data 2026 Forecast 1960-2023 Historical\\', \\'url\\': \\'https://tradingeconomics.com/china/gdp-us-dollar-wb-data.html\\', \\'content\\': \\'GDP (current US$) in China was reported at 17794783039552 USD in 2023, according to the World Bank collection of development indicators, compiled from officially recognized sources. China - GDP - actual values, historical data, forecasts and projections were sourced from the World Bank on June of 2025.\\', \\'score\\': 0.9147261}, {\\'title\\': \\'China GDP - Trading Economics\\', \\'url\\': \\'https://tradingeconomics.com/china/gdp\\', \\'content\\': \\'##### Members\\\\n\\\\n##### \\\\n\\\\n# China GDP\\\\n\\\\n## The Gross Domestic Product (GDP) in China was worth 17794.78 billion US dollars in 2023, according to official data from the World Bank. The GDP value of China represents 16.88 percent of the world economy. source: World Bank [...] | Related | Last | Previous | Unit | Reference |\\\\n| --- | --- | --- | --- | --- |\\\\n| Full Year GDP Growth | 5.00 | 5.40 | percent | Dec 2024 |\\\\n| GDP | 17794.78 | 17881.78 | USD Billion | Dec 2023 |\\\\n| GDP Growth Rate YoY | 5.40 | 5.40 | percent | Mar 2025 |\\\\n| GDP Growth Rate | 1.20 | 1.60 | percent | Mar 2025 |\\\\n| GDP per Capita | 12175.20 | 11555.93 | USD | Dec 2023 |\\\\n| GDP per Capita PPP | 22137.60 | 21011.62 | USD | Dec 2023 | [...] ### GDP in China is expected to reach 18542.00 USD Billion by the end of 2025, according to Trading Economics global macro models and analysts expectations. In the long-term, the China GDP is projected to trend around 19284.00 USD Billion in 2026 and 20094.00 USD Billion in 2027, according to our econometric models.\\', \\'score\\': 0.87139857}, {\\'title\\': \\'China: GDP at current prices 1985-2030 - Statista\\', \\'url\\': \\'https://www.statista.com/statistics/263770/gross-domestic-product-gdp-of-china/\\', \\'content\\': \"China\\'s real GDP growth was 3.1 percent in 2022 and 5.4 percent in 2023. In 2024, per capita GDP in China reached around 13,300 U.S. dollars.\", \\'score\\': 0.8127637}, {\\'title\\': \\'PDF\\', \\'url\\': \\'https://thedocs.worldbank.org/en/doc/8ae5ce818673952a85fee1ee57c3e933-0070012025/original/CEU-June-2025-EN.pdf\\', \\'content\\': \\'Structural challenges—including slowing productivity growth, high debt, and an aging population—are expected to constrain growth over the medium term. China Economic Outlook 2021 2022 2023 2024 2025f 2026f Real GDP growth (%) 8.6 3.1 5.4 5.0 4.5 4.0 Consumer price index (% change, average) 0.9 2.0 0.2 0.2 0.5 1.3 Current account balance (% of GDP) 1.9 2.4 1.4 2.2 1.0 0.8 Consolidated fiscal balance (% of GDP) -3.9 -6.1 -5.5 -6.5 -8.1 -7.8 Source: World Bank. Note: f = forecast (baseline). [...] Worker Scheme VAT Value-Added Tax y/y Year-on-year Ytd Year-to-Date 3mma Three-month moving average China Economic Update - June 2025 1 Executive Summary China’s economy maintained solid growth momentum in early 2025, with real GDP expanding by 5.4 percent year-on-year (y/y) in the first quarter—matching the pace of the previous quarter. Consumption growth, supported by fiscal subsidies, improved, though it remains below pre-COVID levels, contributing only 2.8 percentage points (ppts) to y/y [...] in 2024 and is expected to decelerate to 22 million in 2025 (Figure 10A and 10B). Table 1. China selected economic indicators, 2022-2027 Annual percent change unless indicated otherwise 2022 2023 2024e 2025f 2026f 2027f Real GDP growth, at constant market prices 3.1 5.4 5.0 4.5 4.0 3.9 Private Consumption 1.7 9.0 4.3 4.9 4.8 4.7 Government Consumption 5.3 7.3 3.3 5.7 5.2 3.8 Gross Fixed Capital Formation 3.4 4.5 3.6 4.7 3.8 3.6 Exports, Goods and Services -1.9 1.1 11.5 2.0 1.8 1.9 Imports,\\', \\'score\\': 0.7038554}]', name='search', tool_call_id='call_S35LigaMDYdRSnGGTl18RFSh'), AIMessage(content='The current GDP of China for the year 2023 is approximately **$17.794 trillion** USD, according to the World Bank data. This represents about 16.88% of the global economy.', additional_kwargs={'refusal': None}, response_metadata={'token_usage': {'completion_tokens': 44, 'prompt_tokens': 1405, 'total_tokens': 1449, 'completion_tokens_details': {'accepted_prediction_tokens': 0, 'audio_tokens': 0, 'reasoning_tokens': 0, 'rejected_prediction_tokens': 0}, 'prompt_tokens_details': {'audio_tokens': 0, 'cached_tokens': 0}}, 'model_name': 'gpt-4o-2024-11-20', 'system_fingerprint': 'fp_ee1d74bde0', 'id': 'chatcmpl-BnfSZeOMtFbXcldXFgU9xME5Uke0s', 'service_tier': None, 'prompt_filter_results': [{'prompt_index': 0, 'content_filter_results': {'hate': {'filtered': False, 'severity': 'safe'}, 'jailbreak': {'filtered': False, 'detected': False}, 'self_harm': {'filtered': False, 'severity': 'safe'}, 'sexual': {'filtered': False, 'severity': 'safe'}, 'violence': {'filtered': False, 'severity': 'safe'}}}], 'finish_reason': 'stop', 'logprobs': None, 'content_filter_results': {'hate': {'filtered': False, 'severity': 'safe'}, 'self_harm': {'filtered': False, 'severity': 'safe'}, 'sexual': {'filtered': False, 'severity': 'safe'}, 'violence': {'filtered': False, 'severity': 'safe'}}}, id='run--1ce1746e-9228-4f2f-bd8a-287d29ccf0de-0', usage_metadata={'input_tokens': 1405, 'output_tokens': 44, 'total_tokens': 1449, 'input_token_details': {'audio': 0, 'cache_read': 0}, 'output_token_details': {'audio': 0, 'reasoning': 0}})]}\n"
     ]
    }
   ],
   "source": [
    "if tool_details[0][\"name\"]== \"search\":\n",
    "    user_input=input(prompt=f\"[yes/no] do you want to continue with {tool_details[0]['name']}?\").lower()\n",
    "    if user_input==\"no\":\n",
    "        print(\"web tool discarded\")\n",
    "        raise Exception(\"Web tool discarded by the user.\")\n",
    "    else:\n",
    "        response=app2.invoke(None,config)\n",
    "        print(response)\n",
    "else:\n",
    "    response=app2.invoke(None,config)\n",
    "    print(response)"
   ]
  },
  {
   "cell_type": "code",
   "execution_count": 68,
   "id": "ca0c934d",
   "metadata": {},
   "outputs": [
    {
     "data": {
      "text/plain": [
       "{'messages': [HumanMessage(content='What is the current gdp of the china?', additional_kwargs={}, response_metadata={}),\n",
       "  AIMessage(content='', additional_kwargs={'tool_calls': [{'id': 'call_S35LigaMDYdRSnGGTl18RFSh', 'function': {'arguments': '{\"query\":\"Current GDP of China\"}', 'name': 'search'}, 'type': 'function'}], 'refusal': None}, response_metadata={'token_usage': {'completion_tokens': 17, 'prompt_tokens': 80, 'total_tokens': 97, 'completion_tokens_details': {'accepted_prediction_tokens': 0, 'audio_tokens': 0, 'reasoning_tokens': 0, 'rejected_prediction_tokens': 0}, 'prompt_tokens_details': {'audio_tokens': 0, 'cached_tokens': 0}}, 'model_name': 'gpt-4o-2024-11-20', 'system_fingerprint': 'fp_ee1d74bde0', 'id': 'chatcmpl-BnfSRDxgv4dluUfFgDJIVjarCZ9a2', 'service_tier': None, 'prompt_filter_results': [{'prompt_index': 0, 'content_filter_results': {'hate': {'filtered': False, 'severity': 'safe'}, 'jailbreak': {'filtered': False, 'detected': False}, 'self_harm': {'filtered': False, 'severity': 'safe'}, 'sexual': {'filtered': False, 'severity': 'safe'}, 'violence': {'filtered': False, 'severity': 'safe'}}}], 'finish_reason': 'tool_calls', 'logprobs': None, 'content_filter_results': {}}, id='run--f69b500e-1978-460c-8496-83521ed450d3-0', tool_calls=[{'name': 'search', 'args': {'query': 'Current GDP of China'}, 'id': 'call_S35LigaMDYdRSnGGTl18RFSh', 'type': 'tool_call'}], usage_metadata={'input_tokens': 80, 'output_tokens': 17, 'total_tokens': 97, 'input_token_details': {'audio': 0, 'cache_read': 0}, 'output_token_details': {'audio': 0, 'reasoning': 0}}),\n",
       "  ToolMessage(content='Result for Current GDP of China is: \\n[{\\'title\\': \\'China GDP 2024 Estimate and 2025 Projection - World Economics\\', \\'url\\': \\'https://www.worldeconomics.com/GrossDomesticProduct/Current-GDP/China.aspx\\', \\'content\\': \"China\\'s Current GDP is projected to be $19.5 Trillion by the end of 2025, from an estimated $18.7 Trillion in 2024 in nominal terms. Explore and download the latest economic data and forecasts for China, including historical trends and related data.\", \\'score\\': 0.92176014}, {\\'title\\': \\'China - GDP - 2025 Data 2026 Forecast 1960-2023 Historical\\', \\'url\\': \\'https://tradingeconomics.com/china/gdp-us-dollar-wb-data.html\\', \\'content\\': \\'GDP (current US$) in China was reported at 17794783039552 USD in 2023, according to the World Bank collection of development indicators, compiled from officially recognized sources. China - GDP - actual values, historical data, forecasts and projections were sourced from the World Bank on June of 2025.\\', \\'score\\': 0.9147261}, {\\'title\\': \\'China GDP - Trading Economics\\', \\'url\\': \\'https://tradingeconomics.com/china/gdp\\', \\'content\\': \\'##### Members\\\\n\\\\n##### \\\\n\\\\n# China GDP\\\\n\\\\n## The Gross Domestic Product (GDP) in China was worth 17794.78 billion US dollars in 2023, according to official data from the World Bank. The GDP value of China represents 16.88 percent of the world economy. source: World Bank [...] | Related | Last | Previous | Unit | Reference |\\\\n| --- | --- | --- | --- | --- |\\\\n| Full Year GDP Growth | 5.00 | 5.40 | percent | Dec 2024 |\\\\n| GDP | 17794.78 | 17881.78 | USD Billion | Dec 2023 |\\\\n| GDP Growth Rate YoY | 5.40 | 5.40 | percent | Mar 2025 |\\\\n| GDP Growth Rate | 1.20 | 1.60 | percent | Mar 2025 |\\\\n| GDP per Capita | 12175.20 | 11555.93 | USD | Dec 2023 |\\\\n| GDP per Capita PPP | 22137.60 | 21011.62 | USD | Dec 2023 | [...] ### GDP in China is expected to reach 18542.00 USD Billion by the end of 2025, according to Trading Economics global macro models and analysts expectations. In the long-term, the China GDP is projected to trend around 19284.00 USD Billion in 2026 and 20094.00 USD Billion in 2027, according to our econometric models.\\', \\'score\\': 0.87139857}, {\\'title\\': \\'China: GDP at current prices 1985-2030 - Statista\\', \\'url\\': \\'https://www.statista.com/statistics/263770/gross-domestic-product-gdp-of-china/\\', \\'content\\': \"China\\'s real GDP growth was 3.1 percent in 2022 and 5.4 percent in 2023. In 2024, per capita GDP in China reached around 13,300 U.S. dollars.\", \\'score\\': 0.8127637}, {\\'title\\': \\'PDF\\', \\'url\\': \\'https://thedocs.worldbank.org/en/doc/8ae5ce818673952a85fee1ee57c3e933-0070012025/original/CEU-June-2025-EN.pdf\\', \\'content\\': \\'Structural challenges—including slowing productivity growth, high debt, and an aging population—are expected to constrain growth over the medium term. China Economic Outlook 2021 2022 2023 2024 2025f 2026f Real GDP growth (%) 8.6 3.1 5.4 5.0 4.5 4.0 Consumer price index (% change, average) 0.9 2.0 0.2 0.2 0.5 1.3 Current account balance (% of GDP) 1.9 2.4 1.4 2.2 1.0 0.8 Consolidated fiscal balance (% of GDP) -3.9 -6.1 -5.5 -6.5 -8.1 -7.8 Source: World Bank. Note: f = forecast (baseline). [...] Worker Scheme VAT Value-Added Tax y/y Year-on-year Ytd Year-to-Date 3mma Three-month moving average China Economic Update - June 2025 1 Executive Summary China’s economy maintained solid growth momentum in early 2025, with real GDP expanding by 5.4 percent year-on-year (y/y) in the first quarter—matching the pace of the previous quarter. Consumption growth, supported by fiscal subsidies, improved, though it remains below pre-COVID levels, contributing only 2.8 percentage points (ppts) to y/y [...] in 2024 and is expected to decelerate to 22 million in 2025 (Figure 10A and 10B). Table 1. China selected economic indicators, 2022-2027 Annual percent change unless indicated otherwise 2022 2023 2024e 2025f 2026f 2027f Real GDP growth, at constant market prices 3.1 5.4 5.0 4.5 4.0 3.9 Private Consumption 1.7 9.0 4.3 4.9 4.8 4.7 Government Consumption 5.3 7.3 3.3 5.7 5.2 3.8 Gross Fixed Capital Formation 3.4 4.5 3.6 4.7 3.8 3.6 Exports, Goods and Services -1.9 1.1 11.5 2.0 1.8 1.9 Imports,\\', \\'score\\': 0.7038554}]', name='search', tool_call_id='call_S35LigaMDYdRSnGGTl18RFSh'),\n",
       "  AIMessage(content='The current GDP of China for the year 2023 is approximately **$17.794 trillion** USD, according to the World Bank data. This represents about 16.88% of the global economy.', additional_kwargs={'refusal': None}, response_metadata={'token_usage': {'completion_tokens': 44, 'prompt_tokens': 1405, 'total_tokens': 1449, 'completion_tokens_details': {'accepted_prediction_tokens': 0, 'audio_tokens': 0, 'reasoning_tokens': 0, 'rejected_prediction_tokens': 0}, 'prompt_tokens_details': {'audio_tokens': 0, 'cached_tokens': 0}}, 'model_name': 'gpt-4o-2024-11-20', 'system_fingerprint': 'fp_ee1d74bde0', 'id': 'chatcmpl-BnfSZeOMtFbXcldXFgU9xME5Uke0s', 'service_tier': None, 'prompt_filter_results': [{'prompt_index': 0, 'content_filter_results': {'hate': {'filtered': False, 'severity': 'safe'}, 'jailbreak': {'filtered': False, 'detected': False}, 'self_harm': {'filtered': False, 'severity': 'safe'}, 'sexual': {'filtered': False, 'severity': 'safe'}, 'violence': {'filtered': False, 'severity': 'safe'}}}], 'finish_reason': 'stop', 'logprobs': None, 'content_filter_results': {'hate': {'filtered': False, 'severity': 'safe'}, 'self_harm': {'filtered': False, 'severity': 'safe'}, 'sexual': {'filtered': False, 'severity': 'safe'}, 'violence': {'filtered': False, 'severity': 'safe'}}}, id='run--1ce1746e-9228-4f2f-bd8a-287d29ccf0de-0', usage_metadata={'input_tokens': 1405, 'output_tokens': 44, 'total_tokens': 1449, 'input_token_details': {'audio': 0, 'cache_read': 0}, 'output_token_details': {'audio': 0, 'reasoning': 0}})]}"
      ]
     },
     "execution_count": 68,
     "metadata": {},
     "output_type": "execute_result"
    }
   ],
   "source": [
    "app2.invoke(None,config)"
   ]
  },
  {
   "cell_type": "code",
   "execution_count": 69,
   "id": "1f4635a0",
   "metadata": {},
   "outputs": [
    {
     "data": {
      "text/plain": [
       "{'messages': [HumanMessage(content='What is the current gdp of the china?', additional_kwargs={}, response_metadata={}),\n",
       "  AIMessage(content='', additional_kwargs={'tool_calls': [{'id': 'call_S35LigaMDYdRSnGGTl18RFSh', 'function': {'arguments': '{\"query\":\"Current GDP of China\"}', 'name': 'search'}, 'type': 'function'}], 'refusal': None}, response_metadata={'token_usage': {'completion_tokens': 17, 'prompt_tokens': 80, 'total_tokens': 97, 'completion_tokens_details': {'accepted_prediction_tokens': 0, 'audio_tokens': 0, 'reasoning_tokens': 0, 'rejected_prediction_tokens': 0}, 'prompt_tokens_details': {'audio_tokens': 0, 'cached_tokens': 0}}, 'model_name': 'gpt-4o-2024-11-20', 'system_fingerprint': 'fp_ee1d74bde0', 'id': 'chatcmpl-BnfSRDxgv4dluUfFgDJIVjarCZ9a2', 'service_tier': None, 'prompt_filter_results': [{'prompt_index': 0, 'content_filter_results': {'hate': {'filtered': False, 'severity': 'safe'}, 'jailbreak': {'filtered': False, 'detected': False}, 'self_harm': {'filtered': False, 'severity': 'safe'}, 'sexual': {'filtered': False, 'severity': 'safe'}, 'violence': {'filtered': False, 'severity': 'safe'}}}], 'finish_reason': 'tool_calls', 'logprobs': None, 'content_filter_results': {}}, id='run--f69b500e-1978-460c-8496-83521ed450d3-0', tool_calls=[{'name': 'search', 'args': {'query': 'Current GDP of China'}, 'id': 'call_S35LigaMDYdRSnGGTl18RFSh', 'type': 'tool_call'}], usage_metadata={'input_tokens': 80, 'output_tokens': 17, 'total_tokens': 97, 'input_token_details': {'audio': 0, 'cache_read': 0}, 'output_token_details': {'audio': 0, 'reasoning': 0}}),\n",
       "  ToolMessage(content='Result for Current GDP of China is: \\n[{\\'title\\': \\'China GDP 2024 Estimate and 2025 Projection - World Economics\\', \\'url\\': \\'https://www.worldeconomics.com/GrossDomesticProduct/Current-GDP/China.aspx\\', \\'content\\': \"China\\'s Current GDP is projected to be $19.5 Trillion by the end of 2025, from an estimated $18.7 Trillion in 2024 in nominal terms. Explore and download the latest economic data and forecasts for China, including historical trends and related data.\", \\'score\\': 0.92176014}, {\\'title\\': \\'China - GDP - 2025 Data 2026 Forecast 1960-2023 Historical\\', \\'url\\': \\'https://tradingeconomics.com/china/gdp-us-dollar-wb-data.html\\', \\'content\\': \\'GDP (current US$) in China was reported at 17794783039552 USD in 2023, according to the World Bank collection of development indicators, compiled from officially recognized sources. China - GDP - actual values, historical data, forecasts and projections were sourced from the World Bank on June of 2025.\\', \\'score\\': 0.9147261}, {\\'title\\': \\'China GDP - Trading Economics\\', \\'url\\': \\'https://tradingeconomics.com/china/gdp\\', \\'content\\': \\'##### Members\\\\n\\\\n##### \\\\n\\\\n# China GDP\\\\n\\\\n## The Gross Domestic Product (GDP) in China was worth 17794.78 billion US dollars in 2023, according to official data from the World Bank. The GDP value of China represents 16.88 percent of the world economy. source: World Bank [...] | Related | Last | Previous | Unit | Reference |\\\\n| --- | --- | --- | --- | --- |\\\\n| Full Year GDP Growth | 5.00 | 5.40 | percent | Dec 2024 |\\\\n| GDP | 17794.78 | 17881.78 | USD Billion | Dec 2023 |\\\\n| GDP Growth Rate YoY | 5.40 | 5.40 | percent | Mar 2025 |\\\\n| GDP Growth Rate | 1.20 | 1.60 | percent | Mar 2025 |\\\\n| GDP per Capita | 12175.20 | 11555.93 | USD | Dec 2023 |\\\\n| GDP per Capita PPP | 22137.60 | 21011.62 | USD | Dec 2023 | [...] ### GDP in China is expected to reach 18542.00 USD Billion by the end of 2025, according to Trading Economics global macro models and analysts expectations. In the long-term, the China GDP is projected to trend around 19284.00 USD Billion in 2026 and 20094.00 USD Billion in 2027, according to our econometric models.\\', \\'score\\': 0.87139857}, {\\'title\\': \\'China: GDP at current prices 1985-2030 - Statista\\', \\'url\\': \\'https://www.statista.com/statistics/263770/gross-domestic-product-gdp-of-china/\\', \\'content\\': \"China\\'s real GDP growth was 3.1 percent in 2022 and 5.4 percent in 2023. In 2024, per capita GDP in China reached around 13,300 U.S. dollars.\", \\'score\\': 0.8127637}, {\\'title\\': \\'PDF\\', \\'url\\': \\'https://thedocs.worldbank.org/en/doc/8ae5ce818673952a85fee1ee57c3e933-0070012025/original/CEU-June-2025-EN.pdf\\', \\'content\\': \\'Structural challenges—including slowing productivity growth, high debt, and an aging population—are expected to constrain growth over the medium term. China Economic Outlook 2021 2022 2023 2024 2025f 2026f Real GDP growth (%) 8.6 3.1 5.4 5.0 4.5 4.0 Consumer price index (% change, average) 0.9 2.0 0.2 0.2 0.5 1.3 Current account balance (% of GDP) 1.9 2.4 1.4 2.2 1.0 0.8 Consolidated fiscal balance (% of GDP) -3.9 -6.1 -5.5 -6.5 -8.1 -7.8 Source: World Bank. Note: f = forecast (baseline). [...] Worker Scheme VAT Value-Added Tax y/y Year-on-year Ytd Year-to-Date 3mma Three-month moving average China Economic Update - June 2025 1 Executive Summary China’s economy maintained solid growth momentum in early 2025, with real GDP expanding by 5.4 percent year-on-year (y/y) in the first quarter—matching the pace of the previous quarter. Consumption growth, supported by fiscal subsidies, improved, though it remains below pre-COVID levels, contributing only 2.8 percentage points (ppts) to y/y [...] in 2024 and is expected to decelerate to 22 million in 2025 (Figure 10A and 10B). Table 1. China selected economic indicators, 2022-2027 Annual percent change unless indicated otherwise 2022 2023 2024e 2025f 2026f 2027f Real GDP growth, at constant market prices 3.1 5.4 5.0 4.5 4.0 3.9 Private Consumption 1.7 9.0 4.3 4.9 4.8 4.7 Government Consumption 5.3 7.3 3.3 5.7 5.2 3.8 Gross Fixed Capital Formation 3.4 4.5 3.6 4.7 3.8 3.6 Exports, Goods and Services -1.9 1.1 11.5 2.0 1.8 1.9 Imports,\\', \\'score\\': 0.7038554}]', name='search', tool_call_id='call_S35LigaMDYdRSnGGTl18RFSh'),\n",
       "  AIMessage(content='The current GDP of China for the year 2023 is approximately **$17.794 trillion** USD, according to the World Bank data. This represents about 16.88% of the global economy.', additional_kwargs={'refusal': None}, response_metadata={'token_usage': {'completion_tokens': 44, 'prompt_tokens': 1405, 'total_tokens': 1449, 'completion_tokens_details': {'accepted_prediction_tokens': 0, 'audio_tokens': 0, 'reasoning_tokens': 0, 'rejected_prediction_tokens': 0}, 'prompt_tokens_details': {'audio_tokens': 0, 'cached_tokens': 0}}, 'model_name': 'gpt-4o-2024-11-20', 'system_fingerprint': 'fp_ee1d74bde0', 'id': 'chatcmpl-BnfSZeOMtFbXcldXFgU9xME5Uke0s', 'service_tier': None, 'prompt_filter_results': [{'prompt_index': 0, 'content_filter_results': {'hate': {'filtered': False, 'severity': 'safe'}, 'jailbreak': {'filtered': False, 'detected': False}, 'self_harm': {'filtered': False, 'severity': 'safe'}, 'sexual': {'filtered': False, 'severity': 'safe'}, 'violence': {'filtered': False, 'severity': 'safe'}}}], 'finish_reason': 'stop', 'logprobs': None, 'content_filter_results': {'hate': {'filtered': False, 'severity': 'safe'}, 'self_harm': {'filtered': False, 'severity': 'safe'}, 'sexual': {'filtered': False, 'severity': 'safe'}, 'violence': {'filtered': False, 'severity': 'safe'}}}, id='run--1ce1746e-9228-4f2f-bd8a-287d29ccf0de-0', usage_metadata={'input_tokens': 1405, 'output_tokens': 44, 'total_tokens': 1449, 'input_token_details': {'audio': 0, 'cache_read': 0}, 'output_token_details': {'audio': 0, 'reasoning': 0}}),\n",
       "  HumanMessage(content='What is the current gdp of the japan?', additional_kwargs={}, response_metadata={}),\n",
       "  AIMessage(content='', additional_kwargs={'tool_calls': [{'id': 'call_V4WVGCP2IQX8lvEw74mcSKts', 'function': {'arguments': '{\"query\":\"Current GDP of Japan 2023\"}', 'name': 'search'}, 'type': 'function'}], 'refusal': None}, response_metadata={'token_usage': {'completion_tokens': 20, 'prompt_tokens': 1465, 'total_tokens': 1485, 'completion_tokens_details': {'accepted_prediction_tokens': 0, 'audio_tokens': 0, 'reasoning_tokens': 0, 'rejected_prediction_tokens': 0}, 'prompt_tokens_details': {'audio_tokens': 0, 'cached_tokens': 1280}}, 'model_name': 'gpt-4o-2024-11-20', 'system_fingerprint': 'fp_ee1d74bde0', 'id': 'chatcmpl-BnfSdAXLGAU7xzm4B9MytCLSVUk8T', 'service_tier': None, 'prompt_filter_results': [{'prompt_index': 0, 'content_filter_results': {'hate': {'filtered': False, 'severity': 'safe'}, 'jailbreak': {'filtered': False, 'detected': False}, 'self_harm': {'filtered': False, 'severity': 'safe'}, 'sexual': {'filtered': False, 'severity': 'safe'}, 'violence': {'filtered': False, 'severity': 'safe'}}}], 'finish_reason': 'tool_calls', 'logprobs': None, 'content_filter_results': {}}, id='run--887ffce8-1a4b-4d4e-869b-5239d1f5bb7c-0', tool_calls=[{'name': 'search', 'args': {'query': 'Current GDP of Japan 2023'}, 'id': 'call_V4WVGCP2IQX8lvEw74mcSKts', 'type': 'tool_call'}], usage_metadata={'input_tokens': 1465, 'output_tokens': 20, 'total_tokens': 1485, 'input_token_details': {'audio': 0, 'cache_read': 1280}, 'output_token_details': {'audio': 0, 'reasoning': 0}})]}"
      ]
     },
     "execution_count": 69,
     "metadata": {},
     "output_type": "execute_result"
    }
   ],
   "source": [
    "response=app2.invoke({\"messages\":[HumanMessage(\"What is the current gdp of the japan?\")]},config=config)\n",
    "\n",
    "response"
   ]
  },
  {
   "cell_type": "code",
   "execution_count": 70,
   "id": "df316bf4",
   "metadata": {},
   "outputs": [
    {
     "data": {
      "text/plain": [
       "('tools',)"
      ]
     },
     "execution_count": 70,
     "metadata": {},
     "output_type": "execute_result"
    }
   ],
   "source": [
    "snapshot=app2.get_state(config)\n",
    "\n",
    "snapshot.next"
   ]
  },
  {
   "cell_type": "code",
   "execution_count": 71,
   "id": "8d8a1115",
   "metadata": {},
   "outputs": [],
   "source": [
    "last_message=snapshot.values[\"messages\"][-1]"
   ]
  },
  {
   "cell_type": "code",
   "execution_count": 72,
   "id": "70ca8074",
   "metadata": {},
   "outputs": [
    {
     "data": {
      "text/plain": [
       "[{'name': 'search',\n",
       "  'args': {'query': 'Current GDP of Japan 2023'},\n",
       "  'id': 'call_V4WVGCP2IQX8lvEw74mcSKts',\n",
       "  'type': 'tool_call'}]"
      ]
     },
     "execution_count": 72,
     "metadata": {},
     "output_type": "execute_result"
    }
   ],
   "source": [
    "last_message.tool_calls"
   ]
  },
  {
   "cell_type": "code",
   "execution_count": 73,
   "id": "b22ce995",
   "metadata": {},
   "outputs": [],
   "source": [
    "tool_call_id=last_message.tool_calls[0][\"id\"]"
   ]
  },
  {
   "cell_type": "code",
   "execution_count": 74,
   "id": "40f71d75",
   "metadata": {},
   "outputs": [
    {
     "data": {
      "text/plain": [
       "'call_V4WVGCP2IQX8lvEw74mcSKts'"
      ]
     },
     "execution_count": 74,
     "metadata": {},
     "output_type": "execute_result"
    }
   ],
   "source": [
    "tool_call_id"
   ]
  },
  {
   "cell_type": "code",
   "execution_count": 75,
   "metadata": {},
   "outputs": [],
   "source": [
    "from langchain_core.messages import AIMessage,ToolMessage"
   ]
  },
  {
   "cell_type": "code",
   "execution_count": 76,
   "id": "7ceaa10e",
   "metadata": {},
   "outputs": [],
   "source": [
    "new_message=[\n",
    "    ToolMessage(content=\"according to the latest data 4.1 trillion USD\",tool_call_id=tool_call_id),\n",
    "    AIMessage(content=\"GDP is 4.1 Trillion USD.\")\n",
    "    \n",
    "]"
   ]
  },
  {
   "cell_type": "code",
   "execution_count": 77,
   "id": "e0e69ff3",
   "metadata": {},
   "outputs": [
    {
     "data": {
      "text/plain": [
       "{'configurable': {'thread_id': '1',\n",
       "  'checkpoint_ns': '',\n",
       "  'checkpoint_id': '1f054af1-a76c-674b-8007-50124aa743ad'}}"
      ]
     },
     "execution_count": 77,
     "metadata": {},
     "output_type": "execute_result"
    }
   ],
   "source": [
    "app2.update_state(config, \n",
    "                  {\n",
    "                      \"messages\":new_message\n",
    "                   }\n",
    "                  )"
   ]
  },
  {
   "cell_type": "code",
   "execution_count": 78,
   "id": "8c81adde",
   "metadata": {},
   "outputs": [
    {
     "data": {
      "text/plain": [
       "AIMessage(content='GDP is 4.1 Trillion USD.', additional_kwargs={}, response_metadata={})"
      ]
     },
     "execution_count": 78,
     "metadata": {},
     "output_type": "execute_result"
    }
   ],
   "source": [
    "app2.get_state(config).values[\"messages\"][-1]"
   ]
  },
  {
   "cell_type": "code",
   "execution_count": 79,
   "metadata": {},
   "outputs": [
    {
     "data": {
      "text/plain": [
       "{'messages': [HumanMessage(content='What is the current gdp of the china?', additional_kwargs={}, response_metadata={}),\n",
       "  AIMessage(content='', additional_kwargs={'tool_calls': [{'id': 'call_S35LigaMDYdRSnGGTl18RFSh', 'function': {'arguments': '{\"query\":\"Current GDP of China\"}', 'name': 'search'}, 'type': 'function'}], 'refusal': None}, response_metadata={'token_usage': {'completion_tokens': 17, 'prompt_tokens': 80, 'total_tokens': 97, 'completion_tokens_details': {'accepted_prediction_tokens': 0, 'audio_tokens': 0, 'reasoning_tokens': 0, 'rejected_prediction_tokens': 0}, 'prompt_tokens_details': {'audio_tokens': 0, 'cached_tokens': 0}}, 'model_name': 'gpt-4o-2024-11-20', 'system_fingerprint': 'fp_ee1d74bde0', 'id': 'chatcmpl-BnfSRDxgv4dluUfFgDJIVjarCZ9a2', 'service_tier': None, 'prompt_filter_results': [{'prompt_index': 0, 'content_filter_results': {'hate': {'filtered': False, 'severity': 'safe'}, 'jailbreak': {'filtered': False, 'detected': False}, 'self_harm': {'filtered': False, 'severity': 'safe'}, 'sexual': {'filtered': False, 'severity': 'safe'}, 'violence': {'filtered': False, 'severity': 'safe'}}}], 'finish_reason': 'tool_calls', 'logprobs': None, 'content_filter_results': {}}, id='run--f69b500e-1978-460c-8496-83521ed450d3-0', tool_calls=[{'name': 'search', 'args': {'query': 'Current GDP of China'}, 'id': 'call_S35LigaMDYdRSnGGTl18RFSh', 'type': 'tool_call'}], usage_metadata={'input_tokens': 80, 'output_tokens': 17, 'total_tokens': 97, 'input_token_details': {'audio': 0, 'cache_read': 0}, 'output_token_details': {'audio': 0, 'reasoning': 0}}),\n",
       "  ToolMessage(content='Result for Current GDP of China is: \\n[{\\'title\\': \\'China GDP 2024 Estimate and 2025 Projection - World Economics\\', \\'url\\': \\'https://www.worldeconomics.com/GrossDomesticProduct/Current-GDP/China.aspx\\', \\'content\\': \"China\\'s Current GDP is projected to be $19.5 Trillion by the end of 2025, from an estimated $18.7 Trillion in 2024 in nominal terms. Explore and download the latest economic data and forecasts for China, including historical trends and related data.\", \\'score\\': 0.92176014}, {\\'title\\': \\'China - GDP - 2025 Data 2026 Forecast 1960-2023 Historical\\', \\'url\\': \\'https://tradingeconomics.com/china/gdp-us-dollar-wb-data.html\\', \\'content\\': \\'GDP (current US$) in China was reported at 17794783039552 USD in 2023, according to the World Bank collection of development indicators, compiled from officially recognized sources. China - GDP - actual values, historical data, forecasts and projections were sourced from the World Bank on June of 2025.\\', \\'score\\': 0.9147261}, {\\'title\\': \\'China GDP - Trading Economics\\', \\'url\\': \\'https://tradingeconomics.com/china/gdp\\', \\'content\\': \\'##### Members\\\\n\\\\n##### \\\\n\\\\n# China GDP\\\\n\\\\n## The Gross Domestic Product (GDP) in China was worth 17794.78 billion US dollars in 2023, according to official data from the World Bank. The GDP value of China represents 16.88 percent of the world economy. source: World Bank [...] | Related | Last | Previous | Unit | Reference |\\\\n| --- | --- | --- | --- | --- |\\\\n| Full Year GDP Growth | 5.00 | 5.40 | percent | Dec 2024 |\\\\n| GDP | 17794.78 | 17881.78 | USD Billion | Dec 2023 |\\\\n| GDP Growth Rate YoY | 5.40 | 5.40 | percent | Mar 2025 |\\\\n| GDP Growth Rate | 1.20 | 1.60 | percent | Mar 2025 |\\\\n| GDP per Capita | 12175.20 | 11555.93 | USD | Dec 2023 |\\\\n| GDP per Capita PPP | 22137.60 | 21011.62 | USD | Dec 2023 | [...] ### GDP in China is expected to reach 18542.00 USD Billion by the end of 2025, according to Trading Economics global macro models and analysts expectations. In the long-term, the China GDP is projected to trend around 19284.00 USD Billion in 2026 and 20094.00 USD Billion in 2027, according to our econometric models.\\', \\'score\\': 0.87139857}, {\\'title\\': \\'China: GDP at current prices 1985-2030 - Statista\\', \\'url\\': \\'https://www.statista.com/statistics/263770/gross-domestic-product-gdp-of-china/\\', \\'content\\': \"China\\'s real GDP growth was 3.1 percent in 2022 and 5.4 percent in 2023. In 2024, per capita GDP in China reached around 13,300 U.S. dollars.\", \\'score\\': 0.8127637}, {\\'title\\': \\'PDF\\', \\'url\\': \\'https://thedocs.worldbank.org/en/doc/8ae5ce818673952a85fee1ee57c3e933-0070012025/original/CEU-June-2025-EN.pdf\\', \\'content\\': \\'Structural challenges—including slowing productivity growth, high debt, and an aging population—are expected to constrain growth over the medium term. China Economic Outlook 2021 2022 2023 2024 2025f 2026f Real GDP growth (%) 8.6 3.1 5.4 5.0 4.5 4.0 Consumer price index (% change, average) 0.9 2.0 0.2 0.2 0.5 1.3 Current account balance (% of GDP) 1.9 2.4 1.4 2.2 1.0 0.8 Consolidated fiscal balance (% of GDP) -3.9 -6.1 -5.5 -6.5 -8.1 -7.8 Source: World Bank. Note: f = forecast (baseline). [...] Worker Scheme VAT Value-Added Tax y/y Year-on-year Ytd Year-to-Date 3mma Three-month moving average China Economic Update - June 2025 1 Executive Summary China’s economy maintained solid growth momentum in early 2025, with real GDP expanding by 5.4 percent year-on-year (y/y) in the first quarter—matching the pace of the previous quarter. Consumption growth, supported by fiscal subsidies, improved, though it remains below pre-COVID levels, contributing only 2.8 percentage points (ppts) to y/y [...] in 2024 and is expected to decelerate to 22 million in 2025 (Figure 10A and 10B). Table 1. China selected economic indicators, 2022-2027 Annual percent change unless indicated otherwise 2022 2023 2024e 2025f 2026f 2027f Real GDP growth, at constant market prices 3.1 5.4 5.0 4.5 4.0 3.9 Private Consumption 1.7 9.0 4.3 4.9 4.8 4.7 Government Consumption 5.3 7.3 3.3 5.7 5.2 3.8 Gross Fixed Capital Formation 3.4 4.5 3.6 4.7 3.8 3.6 Exports, Goods and Services -1.9 1.1 11.5 2.0 1.8 1.9 Imports,\\', \\'score\\': 0.7038554}]', name='search', tool_call_id='call_S35LigaMDYdRSnGGTl18RFSh'),\n",
       "  AIMessage(content='The current GDP of China for the year 2023 is approximately **$17.794 trillion** USD, according to the World Bank data. This represents about 16.88% of the global economy.', additional_kwargs={'refusal': None}, response_metadata={'token_usage': {'completion_tokens': 44, 'prompt_tokens': 1405, 'total_tokens': 1449, 'completion_tokens_details': {'accepted_prediction_tokens': 0, 'audio_tokens': 0, 'reasoning_tokens': 0, 'rejected_prediction_tokens': 0}, 'prompt_tokens_details': {'audio_tokens': 0, 'cached_tokens': 0}}, 'model_name': 'gpt-4o-2024-11-20', 'system_fingerprint': 'fp_ee1d74bde0', 'id': 'chatcmpl-BnfSZeOMtFbXcldXFgU9xME5Uke0s', 'service_tier': None, 'prompt_filter_results': [{'prompt_index': 0, 'content_filter_results': {'hate': {'filtered': False, 'severity': 'safe'}, 'jailbreak': {'filtered': False, 'detected': False}, 'self_harm': {'filtered': False, 'severity': 'safe'}, 'sexual': {'filtered': False, 'severity': 'safe'}, 'violence': {'filtered': False, 'severity': 'safe'}}}], 'finish_reason': 'stop', 'logprobs': None, 'content_filter_results': {'hate': {'filtered': False, 'severity': 'safe'}, 'self_harm': {'filtered': False, 'severity': 'safe'}, 'sexual': {'filtered': False, 'severity': 'safe'}, 'violence': {'filtered': False, 'severity': 'safe'}}}, id='run--1ce1746e-9228-4f2f-bd8a-287d29ccf0de-0', usage_metadata={'input_tokens': 1405, 'output_tokens': 44, 'total_tokens': 1449, 'input_token_details': {'audio': 0, 'cache_read': 0}, 'output_token_details': {'audio': 0, 'reasoning': 0}}),\n",
       "  HumanMessage(content='What is the current gdp of the japan?', additional_kwargs={}, response_metadata={}),\n",
       "  AIMessage(content='', additional_kwargs={'tool_calls': [{'id': 'call_V4WVGCP2IQX8lvEw74mcSKts', 'function': {'arguments': '{\"query\":\"Current GDP of Japan 2023\"}', 'name': 'search'}, 'type': 'function'}], 'refusal': None}, response_metadata={'token_usage': {'completion_tokens': 20, 'prompt_tokens': 1465, 'total_tokens': 1485, 'completion_tokens_details': {'accepted_prediction_tokens': 0, 'audio_tokens': 0, 'reasoning_tokens': 0, 'rejected_prediction_tokens': 0}, 'prompt_tokens_details': {'audio_tokens': 0, 'cached_tokens': 1280}}, 'model_name': 'gpt-4o-2024-11-20', 'system_fingerprint': 'fp_ee1d74bde0', 'id': 'chatcmpl-BnfSdAXLGAU7xzm4B9MytCLSVUk8T', 'service_tier': None, 'prompt_filter_results': [{'prompt_index': 0, 'content_filter_results': {'hate': {'filtered': False, 'severity': 'safe'}, 'jailbreak': {'filtered': False, 'detected': False}, 'self_harm': {'filtered': False, 'severity': 'safe'}, 'sexual': {'filtered': False, 'severity': 'safe'}, 'violence': {'filtered': False, 'severity': 'safe'}}}], 'finish_reason': 'tool_calls', 'logprobs': None, 'content_filter_results': {}}, id='run--887ffce8-1a4b-4d4e-869b-5239d1f5bb7c-0', tool_calls=[{'name': 'search', 'args': {'query': 'Current GDP of Japan 2023'}, 'id': 'call_V4WVGCP2IQX8lvEw74mcSKts', 'type': 'tool_call'}], usage_metadata={'input_tokens': 1465, 'output_tokens': 20, 'total_tokens': 1485, 'input_token_details': {'audio': 0, 'cache_read': 1280}, 'output_token_details': {'audio': 0, 'reasoning': 0}}),\n",
       "  ToolMessage(content='according to the latest data 4.1 trillion USD', tool_call_id='call_V4WVGCP2IQX8lvEw74mcSKts'),\n",
       "  AIMessage(content='GDP is 4.1 Trillion USD.', additional_kwargs={}, response_metadata={})]}"
      ]
     },
     "execution_count": 79,
     "metadata": {},
     "output_type": "execute_result"
    }
   ],
   "source": [
    "app2.invoke(None,config=config)"
   ]
  },
  {
   "cell_type": "code",
   "execution_count": 80,
   "id": "55b67d5b",
   "metadata": {},
   "outputs": [
    {
     "data": {
      "text/plain": [
       "{'messages': [HumanMessage(content='What is the current gdp of the china?', additional_kwargs={}, response_metadata={}),\n",
       "  AIMessage(content='', additional_kwargs={'tool_calls': [{'id': 'call_S35LigaMDYdRSnGGTl18RFSh', 'function': {'arguments': '{\"query\":\"Current GDP of China\"}', 'name': 'search'}, 'type': 'function'}], 'refusal': None}, response_metadata={'token_usage': {'completion_tokens': 17, 'prompt_tokens': 80, 'total_tokens': 97, 'completion_tokens_details': {'accepted_prediction_tokens': 0, 'audio_tokens': 0, 'reasoning_tokens': 0, 'rejected_prediction_tokens': 0}, 'prompt_tokens_details': {'audio_tokens': 0, 'cached_tokens': 0}}, 'model_name': 'gpt-4o-2024-11-20', 'system_fingerprint': 'fp_ee1d74bde0', 'id': 'chatcmpl-BnfSRDxgv4dluUfFgDJIVjarCZ9a2', 'service_tier': None, 'prompt_filter_results': [{'prompt_index': 0, 'content_filter_results': {'hate': {'filtered': False, 'severity': 'safe'}, 'jailbreak': {'filtered': False, 'detected': False}, 'self_harm': {'filtered': False, 'severity': 'safe'}, 'sexual': {'filtered': False, 'severity': 'safe'}, 'violence': {'filtered': False, 'severity': 'safe'}}}], 'finish_reason': 'tool_calls', 'logprobs': None, 'content_filter_results': {}}, id='run--f69b500e-1978-460c-8496-83521ed450d3-0', tool_calls=[{'name': 'search', 'args': {'query': 'Current GDP of China'}, 'id': 'call_S35LigaMDYdRSnGGTl18RFSh', 'type': 'tool_call'}], usage_metadata={'input_tokens': 80, 'output_tokens': 17, 'total_tokens': 97, 'input_token_details': {'audio': 0, 'cache_read': 0}, 'output_token_details': {'audio': 0, 'reasoning': 0}}),\n",
       "  ToolMessage(content='Result for Current GDP of China is: \\n[{\\'title\\': \\'China GDP 2024 Estimate and 2025 Projection - World Economics\\', \\'url\\': \\'https://www.worldeconomics.com/GrossDomesticProduct/Current-GDP/China.aspx\\', \\'content\\': \"China\\'s Current GDP is projected to be $19.5 Trillion by the end of 2025, from an estimated $18.7 Trillion in 2024 in nominal terms. Explore and download the latest economic data and forecasts for China, including historical trends and related data.\", \\'score\\': 0.92176014}, {\\'title\\': \\'China - GDP - 2025 Data 2026 Forecast 1960-2023 Historical\\', \\'url\\': \\'https://tradingeconomics.com/china/gdp-us-dollar-wb-data.html\\', \\'content\\': \\'GDP (current US$) in China was reported at 17794783039552 USD in 2023, according to the World Bank collection of development indicators, compiled from officially recognized sources. China - GDP - actual values, historical data, forecasts and projections were sourced from the World Bank on June of 2025.\\', \\'score\\': 0.9147261}, {\\'title\\': \\'China GDP - Trading Economics\\', \\'url\\': \\'https://tradingeconomics.com/china/gdp\\', \\'content\\': \\'##### Members\\\\n\\\\n##### \\\\n\\\\n# China GDP\\\\n\\\\n## The Gross Domestic Product (GDP) in China was worth 17794.78 billion US dollars in 2023, according to official data from the World Bank. The GDP value of China represents 16.88 percent of the world economy. source: World Bank [...] | Related | Last | Previous | Unit | Reference |\\\\n| --- | --- | --- | --- | --- |\\\\n| Full Year GDP Growth | 5.00 | 5.40 | percent | Dec 2024 |\\\\n| GDP | 17794.78 | 17881.78 | USD Billion | Dec 2023 |\\\\n| GDP Growth Rate YoY | 5.40 | 5.40 | percent | Mar 2025 |\\\\n| GDP Growth Rate | 1.20 | 1.60 | percent | Mar 2025 |\\\\n| GDP per Capita | 12175.20 | 11555.93 | USD | Dec 2023 |\\\\n| GDP per Capita PPP | 22137.60 | 21011.62 | USD | Dec 2023 | [...] ### GDP in China is expected to reach 18542.00 USD Billion by the end of 2025, according to Trading Economics global macro models and analysts expectations. In the long-term, the China GDP is projected to trend around 19284.00 USD Billion in 2026 and 20094.00 USD Billion in 2027, according to our econometric models.\\', \\'score\\': 0.87139857}, {\\'title\\': \\'China: GDP at current prices 1985-2030 - Statista\\', \\'url\\': \\'https://www.statista.com/statistics/263770/gross-domestic-product-gdp-of-china/\\', \\'content\\': \"China\\'s real GDP growth was 3.1 percent in 2022 and 5.4 percent in 2023. In 2024, per capita GDP in China reached around 13,300 U.S. dollars.\", \\'score\\': 0.8127637}, {\\'title\\': \\'PDF\\', \\'url\\': \\'https://thedocs.worldbank.org/en/doc/8ae5ce818673952a85fee1ee57c3e933-0070012025/original/CEU-June-2025-EN.pdf\\', \\'content\\': \\'Structural challenges—including slowing productivity growth, high debt, and an aging population—are expected to constrain growth over the medium term. China Economic Outlook 2021 2022 2023 2024 2025f 2026f Real GDP growth (%) 8.6 3.1 5.4 5.0 4.5 4.0 Consumer price index (% change, average) 0.9 2.0 0.2 0.2 0.5 1.3 Current account balance (% of GDP) 1.9 2.4 1.4 2.2 1.0 0.8 Consolidated fiscal balance (% of GDP) -3.9 -6.1 -5.5 -6.5 -8.1 -7.8 Source: World Bank. Note: f = forecast (baseline). [...] Worker Scheme VAT Value-Added Tax y/y Year-on-year Ytd Year-to-Date 3mma Three-month moving average China Economic Update - June 2025 1 Executive Summary China’s economy maintained solid growth momentum in early 2025, with real GDP expanding by 5.4 percent year-on-year (y/y) in the first quarter—matching the pace of the previous quarter. Consumption growth, supported by fiscal subsidies, improved, though it remains below pre-COVID levels, contributing only 2.8 percentage points (ppts) to y/y [...] in 2024 and is expected to decelerate to 22 million in 2025 (Figure 10A and 10B). Table 1. China selected economic indicators, 2022-2027 Annual percent change unless indicated otherwise 2022 2023 2024e 2025f 2026f 2027f Real GDP growth, at constant market prices 3.1 5.4 5.0 4.5 4.0 3.9 Private Consumption 1.7 9.0 4.3 4.9 4.8 4.7 Government Consumption 5.3 7.3 3.3 5.7 5.2 3.8 Gross Fixed Capital Formation 3.4 4.5 3.6 4.7 3.8 3.6 Exports, Goods and Services -1.9 1.1 11.5 2.0 1.8 1.9 Imports,\\', \\'score\\': 0.7038554}]', name='search', tool_call_id='call_S35LigaMDYdRSnGGTl18RFSh'),\n",
       "  AIMessage(content='The current GDP of China for the year 2023 is approximately **$17.794 trillion** USD, according to the World Bank data. This represents about 16.88% of the global economy.', additional_kwargs={'refusal': None}, response_metadata={'token_usage': {'completion_tokens': 44, 'prompt_tokens': 1405, 'total_tokens': 1449, 'completion_tokens_details': {'accepted_prediction_tokens': 0, 'audio_tokens': 0, 'reasoning_tokens': 0, 'rejected_prediction_tokens': 0}, 'prompt_tokens_details': {'audio_tokens': 0, 'cached_tokens': 0}}, 'model_name': 'gpt-4o-2024-11-20', 'system_fingerprint': 'fp_ee1d74bde0', 'id': 'chatcmpl-BnfSZeOMtFbXcldXFgU9xME5Uke0s', 'service_tier': None, 'prompt_filter_results': [{'prompt_index': 0, 'content_filter_results': {'hate': {'filtered': False, 'severity': 'safe'}, 'jailbreak': {'filtered': False, 'detected': False}, 'self_harm': {'filtered': False, 'severity': 'safe'}, 'sexual': {'filtered': False, 'severity': 'safe'}, 'violence': {'filtered': False, 'severity': 'safe'}}}], 'finish_reason': 'stop', 'logprobs': None, 'content_filter_results': {'hate': {'filtered': False, 'severity': 'safe'}, 'self_harm': {'filtered': False, 'severity': 'safe'}, 'sexual': {'filtered': False, 'severity': 'safe'}, 'violence': {'filtered': False, 'severity': 'safe'}}}, id='run--1ce1746e-9228-4f2f-bd8a-287d29ccf0de-0', usage_metadata={'input_tokens': 1405, 'output_tokens': 44, 'total_tokens': 1449, 'input_token_details': {'audio': 0, 'cache_read': 0}, 'output_token_details': {'audio': 0, 'reasoning': 0}}),\n",
       "  HumanMessage(content='What is the current gdp of the japan?', additional_kwargs={}, response_metadata={}),\n",
       "  AIMessage(content='', additional_kwargs={'tool_calls': [{'id': 'call_V4WVGCP2IQX8lvEw74mcSKts', 'function': {'arguments': '{\"query\":\"Current GDP of Japan 2023\"}', 'name': 'search'}, 'type': 'function'}], 'refusal': None}, response_metadata={'token_usage': {'completion_tokens': 20, 'prompt_tokens': 1465, 'total_tokens': 1485, 'completion_tokens_details': {'accepted_prediction_tokens': 0, 'audio_tokens': 0, 'reasoning_tokens': 0, 'rejected_prediction_tokens': 0}, 'prompt_tokens_details': {'audio_tokens': 0, 'cached_tokens': 1280}}, 'model_name': 'gpt-4o-2024-11-20', 'system_fingerprint': 'fp_ee1d74bde0', 'id': 'chatcmpl-BnfSdAXLGAU7xzm4B9MytCLSVUk8T', 'service_tier': None, 'prompt_filter_results': [{'prompt_index': 0, 'content_filter_results': {'hate': {'filtered': False, 'severity': 'safe'}, 'jailbreak': {'filtered': False, 'detected': False}, 'self_harm': {'filtered': False, 'severity': 'safe'}, 'sexual': {'filtered': False, 'severity': 'safe'}, 'violence': {'filtered': False, 'severity': 'safe'}}}], 'finish_reason': 'tool_calls', 'logprobs': None, 'content_filter_results': {}}, id='run--887ffce8-1a4b-4d4e-869b-5239d1f5bb7c-0', tool_calls=[{'name': 'search', 'args': {'query': 'Current GDP of Japan 2023'}, 'id': 'call_V4WVGCP2IQX8lvEw74mcSKts', 'type': 'tool_call'}], usage_metadata={'input_tokens': 1465, 'output_tokens': 20, 'total_tokens': 1485, 'input_token_details': {'audio': 0, 'cache_read': 1280}, 'output_token_details': {'audio': 0, 'reasoning': 0}}),\n",
       "  ToolMessage(content='according to the latest data 4.1 trillion USD', tool_call_id='call_V4WVGCP2IQX8lvEw74mcSKts'),\n",
       "  AIMessage(content='GDP is 4.1 Trillion USD.', additional_kwargs={}, response_metadata={}),\n",
       "  HumanMessage(content='What is the current gdp of the japan?', additional_kwargs={}, response_metadata={}),\n",
       "  AIMessage(content='The current GDP of Japan is approximately **$4.1 trillion USD**.', additional_kwargs={'refusal': None}, response_metadata={'token_usage': {'completion_tokens': 18, 'prompt_tokens': 1530, 'total_tokens': 1548, 'completion_tokens_details': {'accepted_prediction_tokens': 0, 'audio_tokens': 0, 'reasoning_tokens': 0, 'rejected_prediction_tokens': 0}, 'prompt_tokens_details': {'audio_tokens': 0, 'cached_tokens': 1408}}, 'model_name': 'gpt-4o-2024-11-20', 'system_fingerprint': 'fp_ee1d74bde0', 'id': 'chatcmpl-BnfSfDPePGjy4AVIvKtvbTNfvvlEs', 'service_tier': None, 'prompt_filter_results': [{'prompt_index': 0, 'content_filter_results': {'hate': {'filtered': False, 'severity': 'safe'}, 'jailbreak': {'filtered': False, 'detected': False}, 'self_harm': {'filtered': False, 'severity': 'safe'}, 'sexual': {'filtered': False, 'severity': 'safe'}, 'violence': {'filtered': False, 'severity': 'safe'}}}], 'finish_reason': 'stop', 'logprobs': None, 'content_filter_results': {'hate': {'filtered': False, 'severity': 'safe'}, 'protected_material_code': {'filtered': False, 'detected': False}, 'protected_material_text': {'filtered': False, 'detected': False}, 'self_harm': {'filtered': False, 'severity': 'safe'}, 'sexual': {'filtered': False, 'severity': 'safe'}, 'violence': {'filtered': False, 'severity': 'safe'}}}, id='run--d55710eb-0f90-4ab2-84a1-922d9e8906ae-0', usage_metadata={'input_tokens': 1530, 'output_tokens': 18, 'total_tokens': 1548, 'input_token_details': {'audio': 0, 'cache_read': 1408}, 'output_token_details': {'audio': 0, 'reasoning': 0}})]}"
      ]
     },
     "execution_count": 80,
     "metadata": {},
     "output_type": "execute_result"
    }
   ],
   "source": [
    "app2.invoke({\"messages\":[HumanMessage(\"What is the current gdp of the japan?\")]},config=config)"
   ]
  },
  {
   "cell_type": "code",
   "execution_count": null,
   "id": "d5534f16",
   "metadata": {},
   "outputs": [],
   "source": []
  },
  {
   "cell_type": "code",
   "execution_count": null,
   "id": "1755a3b9",
   "metadata": {},
   "outputs": [],
   "source": []
  }
 ],
 "metadata": {
  "kernelspec": {
   "display_name": "agents",
   "language": "python",
   "name": "python3"
  },
  "language_info": {
   "codemirror_mode": {
    "name": "ipython",
    "version": 3
   },
   "file_extension": ".py",
   "mimetype": "text/x-python",
   "name": "python",
   "nbconvert_exporter": "python",
   "pygments_lexer": "ipython3",
   "version": "3.12.0"
  }
 },
 "nbformat": 4,
 "nbformat_minor": 5
}
